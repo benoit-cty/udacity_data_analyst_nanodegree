{
 "cells": [
  {
   "attachments": {},
   "cell_type": "markdown",
   "metadata": {},
   "source": [
    "# We Rate Dogs insights\n",
    "\n",
    "I've just spend some time digging in We Rate Dogs tweeter account to extract some valuable informations.\n",
    "\n",
    "It was not easy, because I have to go through all the process of assesing and cleaning the data.\n",
    "\n",
    "But it was worth it because I could no present you stuning insight about We Rate Dogs.\n",
    "\n",
    "## Most frequent bread\n",
    "\n",
    "First I gave a look to the dog's bread the most represented in the pictures of the tweets.\n",
    "![image.png](dog_breads.png)\n",
    "\n",
    "Golden Retriever are by far the most common dog's bread. That's not surprising as it is a realy popular dog since the sixties.\n",
    "\n",
    "Second comes the Labrador Retriever, also a popular pet.\n",
    "\n",
    "Third, the Pembroke is a small dog, please note that Quenn Elisabeth II used to have one.\n",
    "\n",
    "Next, Chihuahua, a small and funny dog.\n",
    "\n",
    "## Evolution of retweet over time\n",
    "\n",
    "Then I look at a more serious information for We Rate Dogs : the evolution of retweeet by there readers.\n",
    "\n",
    "![image.png](evolution_retweet.png)\n",
    "We display here the moving average, computed on 20 tweets, of the retweet count, to avoid pikes.\n",
    "\n",
    "Fortunatly it is realy increasing over time, showing that We Rate Dogs are engaging more and more users over time.\n",
    "\n",
    "## Find the most retweeted tweet\n",
    "\n",
    "Seeing the original graph, without moving average, I was curious about a big spike in mid-2016, so I gave a look at the most retweeted tweet.\n",
    "\n",
    "I let you discover it by yourself by [clicking here](https://twitter.com/dog_rates/status/744234799360020481/)\n",
    "\n",
    "## We Rate Dogs Hall of Fame\n",
    "\n",
    "Because we have cleaned the notation, why don't look at the dogs who get the highest notation ?\n",
    "\n",
    "Instead of just showing a DataFrame list, I spend time building a visualization using the pictures of dogs.\n",
    "\n",
    "And I'm proud of the look I achieve :\n",
    "\n",
    "![Dog Hall of Fame](dog_HoF.png)\n",
    "\n",
    "As you could see, there is still room for improvement, but at least we could discover in the fourth position, a special dog bread : the Snoop Dog. He deserve the 420/10 notation !\n",
    "\n",
    "Hope you enjoy reading these insights as much I enjoyed building it.\n"
   ]
  }
 ],
 "metadata": {
  "kernelspec": {
   "display_name": "Python 3",
   "language": "python",
   "name": "python3"
  },
  "language_info": {
   "codemirror_mode": {
    "name": "ipython",
    "version": 3
   },
   "file_extension": ".py",
   "mimetype": "text/x-python",
   "name": "python",
   "nbconvert_exporter": "python",
   "pygments_lexer": "ipython3",
   "version": "3.7.1"
  }
 },
 "nbformat": 4,
 "nbformat_minor": 2
}
