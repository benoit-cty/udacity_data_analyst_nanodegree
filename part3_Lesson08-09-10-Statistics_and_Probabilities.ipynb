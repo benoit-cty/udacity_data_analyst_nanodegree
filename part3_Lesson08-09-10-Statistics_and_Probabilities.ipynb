{
 "cells": [
  {
   "cell_type": "code",
   "execution_count": 1,
   "metadata": {},
   "outputs": [],
   "source": [
    "# Put these at the top of every notebook, to get automatic reloading and inline plotting\n",
    "%reload_ext autoreload\n",
    "%autoreload 2\n",
    "%matplotlib inline\n",
    "from IPython.core.interactiveshell import InteractiveShell\n",
    "InteractiveShell.ast_node_interactivity = \"all\"\n",
    "def pv(variable):\n",
    "    print(variable, \":\", eval(variable))"
   ]
  },
  {
   "cell_type": "code",
   "execution_count": 2,
   "metadata": {},
   "outputs": [],
   "source": [
    "import numpy as np\n",
    "# Please note again that we are using 0 to represent heads, and 1 to represent tails."
   ]
  },
  {
   "cell_type": "markdown",
   "metadata": {},
   "source": [
    "## simulate 1 million tests of two fair coin flips"
   ]
  },
  {
   "cell_type": "code",
   "execution_count": 3,
   "metadata": {},
   "outputs": [
    {
     "data": {
      "text/plain": [
       "0.250494"
      ]
     },
     "execution_count": 3,
     "metadata": {},
     "output_type": "execute_result"
    }
   ],
   "source": [
    "# simulate 1 million tests of two fair coin flips\n",
    "tests = np.random.randint(2, size=(int(1e6), 2))\n",
    "\n",
    "# sums of all tests\n",
    "test_sums = tests.sum(axis=1)\n",
    "\n",
    "# proportion of tests that produced exactly two heads\n",
    "(test_sums == 0).mean()\n"
   ]
  },
  {
   "cell_type": "markdown",
   "metadata": {},
   "source": [
    "### Mathematics verification"
   ]
  },
  {
   "cell_type": "code",
   "execution_count": 4,
   "metadata": {},
   "outputs": [
    {
     "data": {
      "text/plain": [
       "0.25"
      ]
     },
     "execution_count": 4,
     "metadata": {},
     "output_type": "execute_result"
    }
   ],
   "source": [
    "p_h = 0.5\n",
    "p_t = p_h\n",
    "flips = 2\n",
    "p_two_heads = p_h**flips\n",
    "p_two_heads"
   ]
  },
  {
   "cell_type": "code",
   "execution_count": 5,
   "metadata": {},
   "outputs": [
    {
     "data": {
      "text/plain": [
       "array([[0, 1, 1],\n",
       "       [0, 0, 0],\n",
       "       [1, 1, 0],\n",
       "       ...,\n",
       "       [0, 1, 0],\n",
       "       [0, 1, 0],\n",
       "       [0, 1, 1]])"
      ]
     },
     "execution_count": 5,
     "metadata": {},
     "output_type": "execute_result"
    },
    {
     "data": {
      "text/plain": [
       "array([2, 0, 2, ..., 1, 1, 2])"
      ]
     },
     "execution_count": 5,
     "metadata": {},
     "output_type": "execute_result"
    },
    {
     "data": {
      "text/plain": [
       "array([False, False, False, ...,  True,  True, False])"
      ]
     },
     "execution_count": 5,
     "metadata": {},
     "output_type": "execute_result"
    },
    {
     "data": {
      "text/plain": [
       "375337"
      ]
     },
     "execution_count": 5,
     "metadata": {},
     "output_type": "execute_result"
    },
    {
     "data": {
      "text/plain": [
       "375337"
      ]
     },
     "execution_count": 5,
     "metadata": {},
     "output_type": "execute_result"
    },
    {
     "data": {
      "text/plain": [
       "375337"
      ]
     },
     "execution_count": 5,
     "metadata": {},
     "output_type": "execute_result"
    },
    {
     "data": {
      "text/plain": [
       "0.375337"
      ]
     },
     "execution_count": 5,
     "metadata": {},
     "output_type": "execute_result"
    }
   ],
   "source": [
    "# simulate 1 million tests of three fair coin flips\n",
    "tests = np.random.randint(2, size=(int(1e6), 3))\n",
    "tests\n",
    "\n",
    "\n",
    "# sums of all tests\n",
    "test_sums = tests.sum(axis=1)\n",
    "test_sums\n",
    "\n",
    "\n",
    "# proportion of tests that produced exactly one head\n",
    "# One head on 3 flips = 1 + 0 + 0 = 1\n",
    "one_head = (test_sums == 1)\n",
    "one_head\n",
    "np.bincount(one_head)[1]\n",
    "(one_head == True).sum()\n",
    "np.count_nonzero(one_head == True)\n",
    "#len(test_sums == 1)\n",
    "p_one_head=np.bincount(one_head)[1]/(np.bincount(one_head)[0]+np.bincount(one_head)[1])\n",
    "p_one_head\n"
   ]
  },
  {
   "cell_type": "markdown",
   "metadata": {},
   "source": [
    "### Mathematics verification - Binomial Distribution"
   ]
  },
  {
   "cell_type": "code",
   "execution_count": 6,
   "metadata": {},
   "outputs": [
    {
     "data": {
      "text/plain": [
       "0.375"
      ]
     },
     "execution_count": 6,
     "metadata": {},
     "output_type": "execute_result"
    },
    {
     "data": {
      "text/plain": [
       "0.375"
      ]
     },
     "execution_count": 6,
     "metadata": {},
     "output_type": "execute_result"
    }
   ],
   "source": [
    "import math\n",
    "p_h = 0.5\n",
    "p_t = p_h\n",
    "n_flips = 3\n",
    "k_heads = 1\n",
    "\n",
    "def binomial_distribution(p, n, k):\n",
    "    return math.factorial(n) / ( math.factorial(n - k) * math.factorial(k)) * p**k * (1-p)**(n-k)\n",
    "\n",
    "p_one_head = math.factorial(n_flips) / ( math.factorial(n_flips - k_heads) * math.factorial(k_heads)) * p_h**k_heads * (1-p_h)**(n_flips-k_heads)\n",
    "p_one_head\n",
    "binomial_distribution(p_h, n_flips,  k_heads)"
   ]
  },
  {
   "cell_type": "markdown",
   "metadata": {},
   "source": [
    "## Three biased coin flips with P(H) = 0.6 produce exactly one head"
   ]
  },
  {
   "cell_type": "code",
   "execution_count": 7,
   "metadata": {},
   "outputs": [
    {
     "data": {
      "text/plain": [
       "array([[0, 0, 1],\n",
       "       [1, 1, 0],\n",
       "       [1, 0, 0],\n",
       "       ...,\n",
       "       [0, 0, 0],\n",
       "       [1, 1, 1],\n",
       "       [1, 1, 1]])"
      ]
     },
     "execution_count": 7,
     "metadata": {},
     "output_type": "execute_result"
    },
    {
     "data": {
      "text/plain": [
       "array([1, 2, 1, ..., 0, 3, 3])"
      ]
     },
     "execution_count": 7,
     "metadata": {},
     "output_type": "execute_result"
    },
    {
     "data": {
      "text/plain": [
       "0.28784"
      ]
     },
     "execution_count": 7,
     "metadata": {},
     "output_type": "execute_result"
    }
   ],
   "source": [
    "# simulate 1 million tests of three biased coin flips\n",
    "# hint: use np.random.choice()\n",
    "tests = np.random.choice(a=2, size=(int(1e6), 3), p=[0.4, 0.6])\n",
    "tests\n",
    "# sums of all tests\n",
    "test_sums = tests.sum(axis=1)\n",
    "test_sums\n",
    "# proportion of tests that produced exactly one head\n",
    "one_head = (test_sums == 1)\n",
    "p_one_head=np.bincount(one_head)[1]/(np.bincount(one_head)[0]+np.bincount(one_head)[1])\n",
    "p_one_head"
   ]
  },
  {
   "cell_type": "markdown",
   "metadata": {},
   "source": [
    "### Mathematics verification"
   ]
  },
  {
   "cell_type": "code",
   "execution_count": 8,
   "metadata": {},
   "outputs": [
    {
     "data": {
      "text/plain": [
       "0.28800000000000003"
      ]
     },
     "execution_count": 8,
     "metadata": {},
     "output_type": "execute_result"
    }
   ],
   "source": [
    "binomial_distribution(0.6, 3, 1)"
   ]
  },
  {
   "cell_type": "markdown",
   "metadata": {},
   "source": [
    "## 4. A die rolls an even number"
   ]
  },
  {
   "cell_type": "code",
   "execution_count": 9,
   "metadata": {},
   "outputs": [
    {
     "data": {
      "text/plain": [
       "array([[1],\n",
       "       [4],\n",
       "       [5],\n",
       "       ...,\n",
       "       [4],\n",
       "       [6],\n",
       "       [6]])"
      ]
     },
     "execution_count": 9,
     "metadata": {},
     "output_type": "execute_result"
    },
    {
     "data": {
      "text/plain": [
       "1"
      ]
     },
     "execution_count": 9,
     "metadata": {},
     "output_type": "execute_result"
    },
    {
     "data": {
      "text/plain": [
       "6"
      ]
     },
     "execution_count": 9,
     "metadata": {},
     "output_type": "execute_result"
    },
    {
     "data": {
      "text/plain": [
       "3.498754"
      ]
     },
     "execution_count": 9,
     "metadata": {},
     "output_type": "execute_result"
    },
    {
     "data": {
      "text/plain": [
       "array([1, 0, 1, ..., 0, 0, 0])"
      ]
     },
     "execution_count": 9,
     "metadata": {},
     "output_type": "execute_result"
    },
    {
     "data": {
      "text/plain": [
       "array([499574, 500426])"
      ]
     },
     "execution_count": 9,
     "metadata": {},
     "output_type": "execute_result"
    },
    {
     "data": {
      "text/plain": [
       "499574"
      ]
     },
     "execution_count": 9,
     "metadata": {},
     "output_type": "execute_result"
    },
    {
     "data": {
      "text/plain": [
       "500426"
      ]
     },
     "execution_count": 9,
     "metadata": {},
     "output_type": "execute_result"
    },
    {
     "data": {
      "text/plain": [
       "0.500426"
      ]
     },
     "execution_count": 9,
     "metadata": {},
     "output_type": "execute_result"
    }
   ],
   "source": [
    "# simulate 1 million tests of one die roll\n",
    "#tests = np.random.choice(6, size=(int(1e6),1), p=[0.5, 0.1, 0.1, 0.1, 0.1, 0.1])+1\n",
    "tests = np.random.randint(6, size=(int(1e6),1))+1\n",
    "tests\n",
    "tests.min()\n",
    "tests.max()\n",
    "tests.mean()\n",
    "# proportion of tests that produced an even (pair) number\n",
    "odd = ( tests & 0x1)\n",
    "odd = odd.flatten()\n",
    "odd\n",
    "even_odd = np.bincount(odd)\n",
    "even_odd\n",
    "odd_number = even_odd[0]\n",
    "odd_number\n",
    "even_number = even_odd[1]\n",
    "even_number\n",
    "p_even = even_number / (even_number + odd_number)\n",
    "p_even"
   ]
  },
  {
   "cell_type": "markdown",
   "metadata": {},
   "source": [
    "### Mathematics verification"
   ]
  },
  {
   "cell_type": "code",
   "execution_count": 10,
   "metadata": {},
   "outputs": [
    {
     "data": {
      "text/plain": [
       "0.5"
      ]
     },
     "execution_count": 10,
     "metadata": {},
     "output_type": "execute_result"
    }
   ],
   "source": [
    "# 1 , 2, 3, 4, 5, 6\n",
    "p_even = 3/6\n",
    "p_even"
   ]
  },
  {
   "cell_type": "markdown",
   "metadata": {},
   "source": [
    "## 5. Two dice roll a double"
   ]
  },
  {
   "cell_type": "code",
   "execution_count": 11,
   "metadata": {},
   "outputs": [
    {
     "data": {
      "text/plain": [
       "array([833078, 166922])"
      ]
     },
     "execution_count": 11,
     "metadata": {},
     "output_type": "execute_result"
    },
    {
     "data": {
      "text/plain": [
       "0.166922"
      ]
     },
     "execution_count": 11,
     "metadata": {},
     "output_type": "execute_result"
    }
   ],
   "source": [
    "# simulate the first million die rolls\n",
    "first = np.random.randint(6, size=(int(1e6),1))+1\n",
    "\n",
    "# simulate the second million die rolls\n",
    "second = np.random.randint(6, size=(int(1e6),1))+1\n",
    "\n",
    "# proportion of tests where the 1st and 2nd die rolled the same number\n",
    "tests = (first == second).flatten()\n",
    "np.bincount(tests)\n",
    "p_same = np.bincount(tests)[1] / (np.bincount(tests)[1] + np.bincount(tests)[0])\n",
    "p_same"
   ]
  },
  {
   "cell_type": "code",
   "execution_count": 12,
   "metadata": {},
   "outputs": [
    {
     "data": {
      "text/plain": [
       "array([2, 1])"
      ]
     },
     "execution_count": 12,
     "metadata": {},
     "output_type": "execute_result"
    },
    {
     "data": {
      "text/plain": [
       "array([2, 1])"
      ]
     },
     "execution_count": 12,
     "metadata": {},
     "output_type": "execute_result"
    },
    {
     "data": {
      "text/plain": [
       "array([1, 2])"
      ]
     },
     "execution_count": 12,
     "metadata": {},
     "output_type": "execute_result"
    }
   ],
   "source": [
    "np.bincount([True, False, False])\n",
    "np.bincount([False, True, False])\n",
    "np.bincount([True, True, False])"
   ]
  },
  {
   "cell_type": "markdown",
   "metadata": {},
   "source": [
    "### Mathematics verification"
   ]
  },
  {
   "cell_type": "code",
   "execution_count": 13,
   "metadata": {},
   "outputs": [
    {
     "data": {
      "text/plain": [
       "0.16666666666666666"
      ]
     },
     "execution_count": 13,
     "metadata": {},
     "output_type": "execute_result"
    }
   ],
   "source": [
    "# It's the probability to roll a given number (the number of the first roll)\n",
    "p_same = 1/6\n",
    "p_same"
   ]
  },
  {
   "cell_type": "markdown",
   "metadata": {},
   "source": [
    "# Simulating Many Coin Flips"
   ]
  },
  {
   "cell_type": "code",
   "execution_count": 14,
   "metadata": {},
   "outputs": [
    {
     "data": {
      "text/plain": [
       "4"
      ]
     },
     "execution_count": 14,
     "metadata": {},
     "output_type": "execute_result"
    }
   ],
   "source": [
    "# number of heads from 10 fair coin flips\n",
    "np.random.binomial(10, 0.5)"
   ]
  },
  {
   "cell_type": "code",
   "execution_count": 15,
   "metadata": {},
   "outputs": [
    {
     "data": {
      "text/plain": [
       "array([5, 4, 8, 7, 6, 6, 5, 4, 5, 4, 6, 6, 5, 6, 6, 7, 6, 4, 5, 6])"
      ]
     },
     "execution_count": 15,
     "metadata": {},
     "output_type": "execute_result"
    }
   ],
   "source": [
    "# results from 20 tests with 10 coin flips\n",
    "np.random.binomial(10, 0.5, 20)"
   ]
  },
  {
   "cell_type": "code",
   "execution_count": 16,
   "metadata": {},
   "outputs": [
    {
     "data": {
      "text/plain": [
       "5.8"
      ]
     },
     "execution_count": 16,
     "metadata": {},
     "output_type": "execute_result"
    }
   ],
   "source": [
    "# mean number of heads from the 20 tests\n",
    "np.random.binomial(10, 0.5, 20).mean()"
   ]
  },
  {
   "cell_type": "code",
   "execution_count": 17,
   "metadata": {},
   "outputs": [
    {
     "data": {
      "text/plain": [
       "4.998086"
      ]
     },
     "execution_count": 17,
     "metadata": {},
     "output_type": "execute_result"
    }
   ],
   "source": [
    "# reflects the fairness of the coin more closely as # tests increases\n",
    "np.random.binomial(10, 0.5, 1000000).mean()"
   ]
  },
  {
   "cell_type": "code",
   "execution_count": 18,
   "metadata": {},
   "outputs": [
    {
     "data": {
      "image/png": "[encoded data removed]",
      "text/plain": [
       "<Figure size 432x288 with 1 Axes>"
      ]
     },
     "metadata": {
      "needs_background": "light"
     },
     "output_type": "display_data"
    }
   ],
   "source": [
    "import matplotlib.pyplot as plt\n",
    "%matplotlib inline\n",
    "plt.hist(np.random.binomial(10, 0.5, 1000000));"
   ]
  },
  {
   "cell_type": "code",
   "execution_count": 19,
   "metadata": {},
   "outputs": [
    {
     "data": {
      "image/png": "[encoded data removed]",
      "text/plain": [
       "<Figure size 432x288 with 1 Axes>"
      ]
     },
     "metadata": {
      "needs_background": "light"
     },
     "output_type": "display_data"
    }
   ],
   "source": [
    "# gets more narrow as number of flips increase per test\n",
    "plt.hist(np.random.binomial(100, 0.5, 1000000));"
   ]
  },
  {
   "cell_type": "markdown",
   "metadata": {},
   "source": [
    "# Binomial Distributions"
   ]
  },
  {
   "cell_type": "code",
   "execution_count": 20,
   "metadata": {},
   "outputs": [
    {
     "data": {
      "text/plain": [
       "0.499446"
      ]
     },
     "execution_count": 20,
     "metadata": {},
     "output_type": "execute_result"
    }
   ],
   "source": [
    "# simulate 1 million tests of one fair coin flip\n",
    "# remember, the output of these tests are the # successes, or # heads\n",
    "tests = np.random.binomial(1, 0.5, int(1e6))\n",
    "\n",
    "# proportion of tests that produced heads\n",
    "(tests == 1).mean()"
   ]
  },
  {
   "cell_type": "code",
   "execution_count": 21,
   "metadata": {},
   "outputs": [
    {
     "data": {
      "text/plain": [
       "0.5"
      ]
     },
     "execution_count": 21,
     "metadata": {},
     "output_type": "execute_result"
    }
   ],
   "source": [
    "p_h=1/2\n",
    "p_h"
   ]
  },
  {
   "cell_type": "code",
   "execution_count": 22,
   "metadata": {},
   "outputs": [
    {
     "data": {
      "text/plain": [
       "array([1, 0, 1, ..., 2, 2, 3])"
      ]
     },
     "execution_count": 22,
     "metadata": {},
     "output_type": "execute_result"
    },
    {
     "data": {
      "text/plain": [
       "0.155633"
      ]
     },
     "execution_count": 22,
     "metadata": {},
     "output_type": "execute_result"
    }
   ],
   "source": [
    "# simulate 1 million tests of five fair coin flips\n",
    "tests = np.random.binomial(5, 0.5, int(1e6))\n",
    "tests\n",
    "# proportion of tests that produced 1 head\n",
    "(tests == 1).mean()"
   ]
  },
  {
   "cell_type": "code",
   "execution_count": 23,
   "metadata": {},
   "outputs": [
    {
     "data": {
      "text/plain": [
       "0.15625"
      ]
     },
     "execution_count": 23,
     "metadata": {},
     "output_type": "execute_result"
    }
   ],
   "source": [
    "binomial_distribution(0.5, 5, 1)"
   ]
  },
  {
   "cell_type": "code",
   "execution_count": 24,
   "metadata": {},
   "outputs": [
    {
     "data": {
      "text/plain": [
       "0.205427"
      ]
     },
     "execution_count": 24,
     "metadata": {},
     "output_type": "execute_result"
    }
   ],
   "source": [
    "# simulate 1 million tests of ten fair coin flips\n",
    "tests = np.random.binomial(10, 0.5, int(1e6))\n",
    "\n",
    "# proportion of tests that produced 4 heads\n",
    "(tests == 4).mean()"
   ]
  },
  {
   "cell_type": "code",
   "execution_count": 25,
   "metadata": {},
   "outputs": [
    {
     "data": {
      "text/plain": [
       "0.205078125"
      ]
     },
     "execution_count": 25,
     "metadata": {},
     "output_type": "execute_result"
    }
   ],
   "source": [
    "binomial_distribution(p=0.5, n=10, k=4)"
   ]
  },
  {
   "cell_type": "code",
   "execution_count": 26,
   "metadata": {},
   "outputs": [
    {
     "data": {
      "text/plain": [
       "0.327921"
      ]
     },
     "execution_count": 26,
     "metadata": {},
     "output_type": "execute_result"
    }
   ],
   "source": [
    "# simulate 1 million tests of five biased coin flips\n",
    "tests = np.random.binomial(5, 0.8, int(1e6))\n",
    "\n",
    "# proportion of tests that produced 5 heads\n",
    "(tests == 5).mean()"
   ]
  },
  {
   "cell_type": "code",
   "execution_count": 27,
   "metadata": {},
   "outputs": [
    {
     "data": {
      "text/plain": [
       "0.3276800000000001"
      ]
     },
     "execution_count": 27,
     "metadata": {},
     "output_type": "execute_result"
    }
   ],
   "source": [
    "binomial_distribution(0.8, 5, 5)"
   ]
  },
  {
   "cell_type": "code",
   "execution_count": 28,
   "metadata": {},
   "outputs": [
    {
     "data": {
      "text/plain": [
       "0.179355"
      ]
     },
     "execution_count": 28,
     "metadata": {},
     "output_type": "execute_result"
    }
   ],
   "source": [
    "# simulate 1 million tests of ten biased coin flips\n",
    "tests = np.random.binomial(10, 0.15, int(1e6))\n",
    "\n",
    "# proportion of tests that produced at least 3 heads\n",
    "(tests >= 3).mean()"
   ]
  },
  {
   "cell_type": "code",
   "execution_count": 29,
   "metadata": {},
   "outputs": [
    {
     "name": "stdout",
     "output_type": "stream",
     "text": [
      "Prob of  3 : 0.1298337207539062  Total : 0.1298337207539062\n",
      "Prob of  4 : 0.0400957078798828  Total : 0.16992942863378901\n",
      "Prob of  5 : 0.008490855786328123  Total : 0.17842028442011715\n",
      "Prob of  6 : 0.001248655262695312  Total : 0.17966893968281247\n",
      "Prob of  7 : 0.00012591481640624995  Total : 0.17979485449921873\n",
      "Prob of  8 : 8.332598144531246e-06  Total : 0.17980318709736326\n",
      "Prob of  9 : 3.267685546874999e-07  Total : 0.17980351386591795\n",
      "Prob of  10 : 5.7665039062499975e-09  Total : 0.17980351963242186\n"
     ]
    },
    {
     "data": {
      "text/plain": [
       "0.17980351963242186"
      ]
     },
     "execution_count": 29,
     "metadata": {},
     "output_type": "execute_result"
    }
   ],
   "source": [
    "p_h = 0\n",
    "for heads in range(3,10+1):\n",
    "    p_heads = binomial_distribution(0.15, 10, heads)\n",
    "    p_h += p_heads\n",
    "    print(\"Prob of \", heads, \":\", p_heads, \" Total :\", p_h)\n",
    "p_h"
   ]
  },
  {
   "cell_type": "markdown",
   "metadata": {},
   "source": [
    "# Cancer Test Results"
   ]
  },
  {
   "cell_type": "code",
   "execution_count": 30,
   "metadata": {},
   "outputs": [
    {
     "data": {
      "text/html": [
       "<div>\n",
       "<style scoped>\n",
       "    .dataframe tbody tr th:only-of-type {\n",
       "        vertical-align: middle;\n",
       "    }\n",
       "\n",
       "    .dataframe tbody tr th {\n",
       "        vertical-align: top;\n",
       "    }\n",
       "\n",
       "    .dataframe thead th {\n",
       "        text-align: right;\n",
       "    }\n",
       "</style>\n",
       "<table border=\"1\" class=\"dataframe\">\n",
       "  <thead>\n",
       "    <tr style=\"text-align: right;\">\n",
       "      <th></th>\n",
       "      <th>patient_id</th>\n",
       "      <th>test_result</th>\n",
       "      <th>has_cancer</th>\n",
       "    </tr>\n",
       "  </thead>\n",
       "  <tbody>\n",
       "    <tr>\n",
       "      <th>0</th>\n",
       "      <td>79452</td>\n",
       "      <td>Negative</td>\n",
       "      <td>False</td>\n",
       "    </tr>\n",
       "    <tr>\n",
       "      <th>1</th>\n",
       "      <td>81667</td>\n",
       "      <td>Positive</td>\n",
       "      <td>True</td>\n",
       "    </tr>\n",
       "    <tr>\n",
       "      <th>2</th>\n",
       "      <td>76297</td>\n",
       "      <td>Negative</td>\n",
       "      <td>False</td>\n",
       "    </tr>\n",
       "  </tbody>\n",
       "</table>\n",
       "</div>"
      ],
      "text/plain": [
       "   patient_id test_result  has_cancer\n",
       "0       79452    Negative       False\n",
       "1       81667    Positive        True\n",
       "2       76297    Negative       False"
      ]
     },
     "execution_count": 30,
     "metadata": {},
     "output_type": "execute_result"
    },
    {
     "name": "stdout",
     "output_type": "stream",
     "text": [
      "# number of patients 2914\n",
      "number of patients with cancer 306\n",
      "number of patients without cancer 2608\n",
      "proportion of patients with cancer 0.10501029512697323\n",
      "proportion of patients without cancer 0.8949897048730268\n",
      "proportion of patients with cancer who test positive 0.9052287581699346\n",
      "proportion of patients with cancer who test negative 0.09477124183006536\n",
      "proportion of patients without cancer who test positive 0.2036042944785276\n",
      "proportion of patients without cancer who test negative 0.7963957055214724\n"
     ]
    }
   ],
   "source": [
    "import pandas as pd\n",
    "# load dataset\n",
    "df = pd.read_csv(\"cancer_test_data.csv\")\n",
    "df.head(3)\n",
    "patients = len(df)\n",
    "print(\"# number of patients\",patients)\n",
    "\n",
    "with_cancer = len(df[(df['has_cancer'] == True)])\n",
    "print(\"number of patients with cancer\", with_cancer)\n",
    "no_cancer = len(df[(df['has_cancer'] == False)])\n",
    "print(\"number of patients without cancer\", no_cancer)\n",
    "print(\"proportion of patients with cancer\", with_cancer / patients)\n",
    "print(\"proportion of patients without cancer\", no_cancer / patients)\n",
    "pos_test_with_cancer = len(\n",
    "    df[(df['has_cancer'] == True)\n",
    "       & (df['test_result'] == 'Positive')]\n",
    "                  )\n",
    "print(\"proportion of patients with cancer who test positive\", pos_test_with_cancer / with_cancer)\n",
    "neg_test_with_cancer = len(    df[(df['has_cancer'] == True)   & (df['test_result'] == 'Negative')]         )\n",
    "print(\"proportion of patients with cancer who test negative\",neg_test_with_cancer / with_cancer)\n",
    "pos_test_no_cancer = len(    df[(df['has_cancer'] == False)   & (df['test_result'] == 'Positive')]         )\n",
    "print(\"proportion of patients without cancer who test positive\",pos_test_no_cancer / no_cancer)\n",
    "neg_test_no_cancer = len(    df[(df['has_cancer'] == False)   & (df['test_result'] == 'Negative')]         )\n",
    "print(\"proportion of patients without cancer who test negative\",neg_test_no_cancer / no_cancer)"
   ]
  },
  {
   "cell_type": "markdown",
   "metadata": {},
   "source": [
    "# Conditional Probability & Bayes Rule Quiz\n",
    "In the previous section, you found the following proportions from the cancer results dataset.\n",
    "\n",
    "    Patients with cancer: 0.105\n",
    "    Patients without cancer: 0.895\n",
    "    Patients with cancer who tested positive: 0.905\n",
    "    Patients with cancer who tested negative: 0.095\n",
    "    Patients without cancer who tested positive: 0.204\n",
    "    Patients without cancer who tested negative: 0.796\n",
    "\n",
    "    Based on the above proportions observed in the data, we can assume the following probabilities.\n",
    "    Probability \tMeaning\n",
    "    P(cancer) = 0.105 \tProbability a patient has cancer\n",
    "    P(~cancer) = 0.895 \tProbability a patient does not have cancer\n",
    "    P(positive|cancer) = 0.905 \tProbability a patient with cancer tests positive\n",
    "    P(negative|cancer) = 0.095 \tProbability a patient with cancer tests negative\n",
    "    P(positive|~cancer) = 0.204 \tProbability a patient without cancer tests positive\n",
    "    P(negative|~cancer) = 0.796 \tProbability a patient without cancer tests negative"
   ]
  },
  {
   "cell_type": "code",
   "execution_count": 31,
   "metadata": {},
   "outputs": [
    {
     "name": "stdout",
     "output_type": "stream",
     "text": [
      "Probability a patient who tested positive has cancer, or P(cancer|positive) 0.34230291241151994\n",
      "Probability a patient who tested positive doesn't have cancer, or P(~cancer|positive) 0.65769708758848\n",
      "Probability a patient who tested negative has cancer, or P(cancer|negative) 0.013808235106832134\n",
      "Probability a patient who tested negative doesn't have cancer, or P(~cancer|negative) 0.986191764893168\n"
     ]
    }
   ],
   "source": [
    "p_cancer = 0.105\n",
    "p_no_cancer = 0.895\n",
    "p_pos_when_cancer = 0.905\n",
    "p_pos_whithout_cancer = 0.204\n",
    "p_pos_and_no_cancer = p_pos_whithout_cancer * p_no_cancer\n",
    "p_cancer_and_pos = p_pos_when_cancer * p_cancer\n",
    "p_pos = p_cancer * p_pos_when_cancer + p_no_cancer * p_pos_whithout_cancer\n",
    "p_cancer_when_pos = p_cancer_and_pos / p_pos\n",
    "print(\"Probability a patient who tested positive has cancer, or P(cancer|positive)\", p_cancer_when_pos)\n",
    "p_no_cancer_when_pos = p_pos_and_no_cancer / p_pos\n",
    "print(\"Probability a patient who tested positive doesn't have cancer, or P(~cancer|positive)\", p_no_cancer_when_pos)\n",
    "\n",
    "p_neg_given_cancert = 0.095\n",
    "p_neg_given_no_cancert = 0.796\n",
    "p_neg = p_cancer * p_neg_given_cancert + p_no_cancer * p_neg_given_no_cancert\n",
    "p_neg_and_cancer = p_cancer * p_neg_given_cancert\n",
    "p_cancer_when_neg = p_neg_and_cancer / p_neg\n",
    "print(\"Probability a patient who tested negative has cancer, or P(cancer|negative)\", p_cancer_when_neg)\n",
    "p_neg_and_no_cancer = p_neg_given_no_cancert * p_no_cancer\n",
    "p_no_cancer_when_neg = p_neg_and_no_cancer / p_neg\n",
    "print(\"Probability a patient who tested negative doesn't have cancer, or P(~cancer|negative)\", p_no_cancer_when_neg)\n"
   ]
  },
  {
   "cell_type": "markdown",
   "metadata": {},
   "source": [
    "## Or more simple"
   ]
  },
  {
   "cell_type": "code",
   "execution_count": 32,
   "metadata": {},
   "outputs": [
    {
     "data": {
      "text/plain": [
       "0.013770180436847104"
      ]
     },
     "execution_count": 32,
     "metadata": {},
     "output_type": "execute_result"
    }
   ],
   "source": [
    "df.query('test_result == \"Negative\"')['has_cancer'].mean()"
   ]
  },
  {
   "cell_type": "markdown",
   "metadata": {},
   "source": [
    "# Normal Distribution"
   ]
  },
  {
   "cell_type": "code",
   "execution_count": null,
   "metadata": {},
   "outputs": [],
   "source": []
  },
  {
   "cell_type": "markdown",
   "metadata": {},
   "source": [
    "# Sampling Distribution"
   ]
  },
  {
   "cell_type": "code",
   "execution_count": 33,
   "metadata": {},
   "outputs": [
    {
     "name": "stdout",
     "output_type": "stream",
     "text": [
      "Find the proportion of students who drink coffee in the above array. Store this value in a variable p.\n",
      "Use numpy's random.choice to simulate 5 draws from the students array.     What is proportion of your sample drink coffee?\n",
      "Repeat the above to obtain 10,000 additional proportions, where each sample was of size 5.       Store these in a variable called sample_props.\n",
      "What is the mean proportion of all 10,000 of these proportions ?     This is often called the mean of the sampling distribution.\n",
      "What are the variance and standard deviation for the original 21 data values?\n",
      "mean 0.7142857142857143 var 0.20408163265306126 std 0.45175395145262565\n",
      "What are the variance and standard deviation for the 10,000 proportions you created?\n",
      "mean 0.714 var 0.20420400000000002 std 0.45188936699152377\n",
      "\n",
      "7.Compute p(1-p), which of your answers does this most closely match?\n",
      "p * (1-p) 0.20408163265306123\n",
      "p_sample * (1-p_sample) 0.24\n",
      "\n",
      "8. Compute p(1-p)/n, which of your answers does this most closely match?\n",
      "p * (1-p)/n_sample 0.04081632653061225\n",
      "9. Notice that your answer to 8. is commonly called the variance of the sampling distribution.\n",
      "\n",
      "If you were to change your first sample to be 20,     what would this do for the variance of the sampling distribution?     Simulate and calculate the new answers in 6. and 8.    to check that the consistency you found before still holds.\n",
      "p_sample (ie mean) 0.25\n",
      "p * (1-p)/n_sample 0.010204081632653062\n",
      "mean 0.25 var 0.1875 std 0.4330127018922193\n",
      "\n",
      "Repeat the above to obtain 10,000 additional proportions, where each sample was of size 5. Store these in a variable called sample_props.\n",
      "10. Finally, plot a histgram of the 10,000 draws from both the proportions with a sample size of 5 and the proportions with a sample size of 20. Each of these distributions is a sampling distribution. One is for the proportions of sample size 5 and the other a sampling distribution for proportions with sample size 20.\n",
      "\n",
      "students\n"
     ]
    },
    {
     "data": {
      "image/png": "[encoded data removed]",
      "text/plain": [
       "<Figure size 432x288 with 1 Axes>"
      ]
     },
     "metadata": {
      "needs_background": "light"
     },
     "output_type": "display_data"
    }
   ],
   "source": [
    "import numpy as np\n",
    "np.random.seed(42)\n",
    "\n",
    "students = np.array([1,0,1,1,1,1,0,0,0,0,1,1,1,1,1,1,1,1,1,1,0])\n",
    "n = students.shape[0]\n",
    "n\n",
    "print(\"Find the proportion of students who drink coffee in the above array. Store this value in a variable p.\")\n",
    "p = (students == 1).sum() / students.shape[0]\n",
    "# Or shorter :\n",
    "p = students.mean()\n",
    "p\n",
    "print(\"Use numpy's random.choice to simulate 5 draws from the students array. \\\n",
    "    What is proportion of your sample drink coffee?\")\n",
    "indexes = np.random.choice(students, size=5)\n",
    "sample = students[indexes]\n",
    "n_sample = sample.shape[0]\n",
    "p_sample = (sample == 1).sum() / sample.shape[0]\n",
    "p_sample\n",
    "print(\"Repeat the above to obtain 10,000 additional proportions, where each sample was of size 5.\\\n",
    "       Store these in a variable called sample_props.\")\n",
    "sample_props = np.random.choice(students, size=(10000,5))\n",
    "sample_props\n",
    "print(\"What is the mean proportion of all 10,000 of these proportions ? \\\n",
    "    This is often called the mean of the sampling distribution.\")\n",
    "sample_props.mean()\n",
    "print(\"What are the variance and standard deviation for the original 21 data values?\")\n",
    "print(\"mean\", students.mean(), \"var\", students.var(), \"std\", students.std())\n",
    "print(\"What are the variance and standard deviation for the 10,000 proportions you created?\")\n",
    "print(\"mean\", sample_props.mean(), \"var\", sample_props.var(), \"std\", sample_props.std())\n",
    "print(\"\\n7.Compute p(1-p), which of your answers does this most closely match?\")\n",
    "print(\"p * (1-p)\", p * (1-p) )\n",
    "print(\"p_sample * (1-p_sample)\", p_sample * (1-p_sample))\n",
    "\n",
    "print(\"\\n8. Compute p(1-p)/n, which of your answers does this most closely match?\")\n",
    "#print(\"p * (1-p)/n\", p * (1-p)/n)\n",
    "#print(\"p_sample * (1-p_sample)/n_sample\", p_sample * (1-p_sample)/n_sample)\n",
    "print(\"p * (1-p)/n_sample\", p * (1-p)/n_sample)\n",
    "\n",
    "print(\"9. Notice that your answer to 8. is commonly called the variance of the sampling distribution.\")\n",
    "\n",
    "\n",
    "\n",
    "print(\"\\nIf you were to change your first sample to be 20, \\\n",
    "    what would this do for the variance of the sampling distribution? \\\n",
    "    Simulate and calculate the new answers in 6. and 8.\\\n",
    "    to check that the consistency you found before still holds.\")\n",
    "sample_20 = students[np.random.choice(students, size=20)]\n",
    "n_sample = sample_20.shape[0]\n",
    "p_sample = sample_20.mean()\n",
    "print(\"p_sample (ie mean)\", p_sample)\n",
    "print(\"p * (1-p)/n_sample\", p * (1-p)/n_sample)\n",
    "\n",
    "print(\"mean\", sample_20.mean(), \"var\", sample_20.var(), \"std\", sample_20.std())\n",
    "print(\"\\nRepeat the above to obtain 10,000 additional proportions, where each sample was of size 5. Store these in a variable called sample_props.\")\n",
    "sample_props = np.random.choice(students, size=(10000,5))\n",
    "sample_props\n",
    "\n",
    "print(\"10. Finally, plot a histgram of the 10,000 draws from both the proportions with a sample size of 5 and the proportions with a sample size of 20. Each of these distributions is a sampling distribution. One is for the proportions of sample size 5 and the other a sampling distribution for proportions with sample size 20.\")\n",
    "print(\"\")\n",
    "\n",
    "print(\"students\")\n",
    "plt.hist(students);\n",
    "plt.show();\n"
   ]
  },
  {
   "cell_type": "code",
   "execution_count": 34,
   "metadata": {},
   "outputs": [
    {
     "name": "stdout",
     "output_type": "stream",
     "text": [
      "sample_props\n"
     ]
    },
    {
     "data": {
      "image/png": "[encoded data removed]",
      "text/plain": [
       "<Figure size 432x288 with 1 Axes>"
      ]
     },
     "metadata": {
      "needs_background": "light"
     },
     "output_type": "display_data"
    }
   ],
   "source": [
    "print(\"sample_props\")\n",
    "plt.hist(sample_props);\n",
    "plt.show();\n"
   ]
  },
  {
   "cell_type": "code",
   "execution_count": 35,
   "metadata": {},
   "outputs": [
    {
     "name": "stdout",
     "output_type": "stream",
     "text": [
      "sample_20\n"
     ]
    },
    {
     "data": {
      "image/png": "[encoded data removed]",
      "text/plain": [
       "<Figure size 432x288 with 1 Axes>"
      ]
     },
     "metadata": {
      "needs_background": "light"
     },
     "output_type": "display_data"
    }
   ],
   "source": [
    "print(\"sample_20\")\n",
    "plt.hist(sample_20);\n",
    "plt.show();"
   ]
  },
  {
   "cell_type": "markdown",
   "metadata": {},
   "source": [
    "# Notation"
   ]
  },
  {
   "cell_type": "code",
   "execution_count": 36,
   "metadata": {},
   "outputs": [
    {
     "data": {
      "text/plain": [
       "(array([1663.,  747.,  329.,  134.,   73.,   34.,   13.,    5.,    0.,\n",
       "           2.]),\n",
       " array([1.16348231e-03, 8.17255031e+01, 1.63449843e+02, 2.45174182e+02,\n",
       "        3.26898522e+02, 4.08622862e+02, 4.90347201e+02, 5.72071541e+02,\n",
       "        6.53795881e+02, 7.35520220e+02, 8.17244560e+02]),\n",
       " <a list of 10 Patch objects>)"
      ]
     },
     "execution_count": 36,
     "metadata": {},
     "output_type": "execute_result"
    },
    {
     "data": {
      "image/png": "[encoded data removed]",
      "text/plain": [
       "<Figure size 432x288 with 1 Axes>"
      ]
     },
     "metadata": {
      "needs_background": "light"
     },
     "output_type": "display_data"
    },
    {
     "name": "stdout",
     "output_type": "stream",
     "text": [
      "pop_data.mean()\n"
     ]
    },
    {
     "data": {
      "text/plain": [
       "100.35978700795846"
      ]
     },
     "execution_count": 36,
     "metadata": {},
     "output_type": "execute_result"
    },
    {
     "name": "stdout",
     "output_type": "stream",
     "text": [
      "sample_10.mean()\n"
     ]
    },
    {
     "data": {
      "text/plain": [
       "103.47556549464393"
      ]
     },
     "execution_count": 36,
     "metadata": {},
     "output_type": "execute_result"
    },
    {
     "name": "stdout",
     "output_type": "stream",
     "text": [
      " sample standard deviation of your 10 draws\n"
     ]
    },
    {
     "data": {
      "text/plain": [
       "130.00074035573317"
      ]
     },
     "execution_count": 36,
     "metadata": {},
     "output_type": "execute_result"
    },
    {
     "name": "stdout",
     "output_type": "stream",
     "text": [
      "population standard deviation\n"
     ]
    },
    {
     "data": {
      "text/plain": [
       "99.77860187968906"
      ]
     },
     "execution_count": 36,
     "metadata": {},
     "output_type": "execute_result"
    },
    {
     "name": "stdout",
     "output_type": "stream",
     "text": [
      "population variance\n"
     ]
    },
    {
     "data": {
      "text/plain": [
       "9955.76939306549"
      ]
     },
     "execution_count": 36,
     "metadata": {},
     "output_type": "execute_result"
    },
    {
     "name": "stdout",
     "output_type": "stream",
     "text": [
      "sample variance\n"
     ]
    },
    {
     "data": {
      "text/plain": [
       "16900.192493038754"
      ]
     },
     "execution_count": 36,
     "metadata": {},
     "output_type": "execute_result"
    }
   ],
   "source": [
    "np.random.seed(42)\n",
    "pop_data = np.random.gamma(1,100, 3000)\n",
    "plt.hist(pop_data);\n",
    "plt.show();\n",
    "print(\"pop_data.mean()\")\n",
    "pop_data.mean()\n",
    "print(\"sample_10.mean()\")\n",
    "sample_10 = np.random.choice(pop_data, size=10)\n",
    "sample_10.mean()\n",
    "print(\" sample standard deviation of your 10 draws\")\n",
    "sample_10.std()\n",
    "print(\"population standard deviation\")\n",
    "pop_data.std()\n",
    "print(\"population variance\")\n",
    "pop_data.var()\n",
    "print(\"sample variance\")\n",
    "sample_10.var()\n"
   ]
  },
  {
   "cell_type": "markdown",
   "metadata": {},
   "source": [
    "# Central Limit Theorem"
   ]
  },
  {
   "cell_type": "code",
   "execution_count": 37,
   "metadata": {},
   "outputs": [
    {
     "data": {
      "image/png": "[encoded data removed]",
      "text/plain": [
       "<Figure size 432x288 with 1 Axes>"
      ]
     },
     "metadata": {
      "needs_background": "light"
     },
     "output_type": "display_data"
    }
   ],
   "source": [
    "import numpy as np\n",
    "import matplotlib.pyplot as plt\n",
    "\n",
    "%matplotlib inline\n",
    "np.random.seed(42)\n",
    "\n",
    "pop_data = np.random.gamma(1,100,3000)\n",
    "plt.hist(pop_data);"
   ]
  },
  {
   "cell_type": "markdown",
   "metadata": {},
   "source": [
    "1. In order to create the sampling distribution for the average of 3 draws of this distribution, follow these steps:\n",
    "\n",
    "a. Use numpy's random.choice to simulate 3 draws from the pop_data array.\n",
    "\n",
    "b. Compute the mean of these 3 draws.\n",
    "\n",
    "c. Write a loop to simulate this process 10,000 times, and store each mean into an array called means_size_3.\n",
    "\n",
    "d. Plot a histogram of your sample means.\n",
    "\n",
    "e. Use means_size_3 and pop_data to answer the quiz questions below.\n"
   ]
  },
  {
   "cell_type": "code",
   "execution_count": 38,
   "metadata": {},
   "outputs": [
    {
     "data": {
      "text/plain": [
       "(array([2.033e+03, 3.687e+03, 2.476e+03, 1.133e+03, 4.720e+02, 1.350e+02,\n",
       "        4.200e+01, 1.700e+01, 3.000e+00, 2.000e+00]),\n",
       " array([  3.33913192,  52.06020861, 100.78128531, 149.502362  ,\n",
       "        198.2234387 , 246.94451539, 295.66559209, 344.38666878,\n",
       "        393.10774548, 441.82882217, 490.54989887]),\n",
       " <a list of 10 Patch objects>)"
      ]
     },
     "execution_count": 38,
     "metadata": {},
     "output_type": "execute_result"
    },
    {
     "name": "stdout",
     "output_type": "stream",
     "text": [
      "pop_data.mean() : 100.35978700795846\n",
      "means_size_3.mean() : 100.87276259567305\n",
      "pop_data.std() : 99.77860187968906\n",
      "means_size_3.std() : 57.72348461511113\n"
     ]
    },
    {
     "data": {
      "image/png": "[encoded data removed]",
      "text/plain": [
       "<Figure size 432x288 with 1 Axes>"
      ]
     },
     "metadata": {
      "needs_background": "light"
     },
     "output_type": "display_data"
    }
   ],
   "source": [
    "\n",
    "sample = np.random.choice(pop_data, size=3)\n",
    "#sample\n",
    "means_size_3 = np.array([])\n",
    "for i in range(0,10000):\n",
    "    means_size_3 = np.append(means_size_3, np.random.choice(pop_data, size=3).mean())\n",
    "#pv(\"means_size_3\")\n",
    "plt.hist(means_size_3);\n",
    "pv(\"pop_data.mean()\")\n",
    "pv(\"means_size_3.mean()\")\n",
    "pv(\"pop_data.std()\")\n",
    "pv(\"means_size_3.std()\")"
   ]
  },
  {
   "cell_type": "markdown",
   "metadata": {},
   "source": [
    "# Central Limit Theorem - Part II"
   ]
  },
  {
   "cell_type": "code",
   "execution_count": 39,
   "metadata": {},
   "outputs": [
    {
     "data": {
      "text/plain": [
       "(array([1663.,  747.,  329.,  134.,   73.,   34.,   13.,    5.,    0.,\n",
       "           2.]),\n",
       " array([1.16348231e-03, 8.17255031e+01, 1.63449843e+02, 2.45174182e+02,\n",
       "        3.26898522e+02, 4.08622862e+02, 4.90347201e+02, 5.72071541e+02,\n",
       "        6.53795881e+02, 7.35520220e+02, 8.17244560e+02]),\n",
       " <a list of 10 Patch objects>)"
      ]
     },
     "execution_count": 39,
     "metadata": {},
     "output_type": "execute_result"
    },
    {
     "data": {
      "image/png": "[encoded data removed]",
      "text/plain": [
       "<Figure size 432x288 with 1 Axes>"
      ]
     },
     "metadata": {
      "needs_background": "light"
     },
     "output_type": "display_data"
    },
    {
     "name": "stdout",
     "output_type": "stream",
     "text": [
      "sample.mean() : 115.89760480820178\n"
     ]
    },
    {
     "data": {
      "text/plain": [
       "(array([  22.,  167.,  815., 2205., 2924., 2297., 1158.,  326.,   76.,\n",
       "          10.]), array([ 65.40255233,  72.93722432,  80.47189631,  88.00656829,\n",
       "         95.54124028, 103.07591227, 110.61058426, 118.14525625,\n",
       "        125.67992824, 133.21460023, 140.74927222]), <a list of 10 Patch objects>)"
      ]
     },
     "execution_count": 39,
     "metadata": {},
     "output_type": "execute_result"
    },
    {
     "data": {
      "image/png": "[encoded data removed]",
      "text/plain": [
       "<Figure size 432x288 with 1 Axes>"
      ]
     },
     "metadata": {
      "needs_background": "light"
     },
     "output_type": "display_data"
    },
    {
     "name": "stdout",
     "output_type": "stream",
     "text": [
      "pop_data.mean() : 100.35978700795846\n",
      "means_size_100.mean() : 100.45707456518824\n",
      "pop_data.std() : 99.77860187968906\n",
      "means_size_100.std() : 9.971979588536067\n",
      "pop_data.var() : 9955.76939306549\n",
      "means_size_100.var() : 99.44037691417994\n"
     ]
    }
   ],
   "source": [
    "np.random.seed(42)\n",
    "\n",
    "pop_data = np.random.gamma(1,100,3000)\n",
    "plt.hist(pop_data);\n",
    "plt.show()\n",
    "\n",
    "sample = np.random.choice(pop_data, size=100)\n",
    "pv(\"sample.mean()\")\n",
    "\n",
    "means_size_100 = np.array([])\n",
    "for i in range(0,10000):\n",
    "    means_size_100 = np.append(means_size_100, np.random.choice(pop_data, size=100).mean())\n",
    "#pv(\"means_size_3\")\n",
    "plt.hist(means_size_100);\n",
    "plt.show()\n",
    "pv(\"pop_data.mean()\")\n",
    "pv(\"means_size_100.mean()\")\n",
    "pv(\"pop_data.std()\")\n",
    "pv(\"means_size_100.std()\")\n",
    "pv(\"pop_data.var()\")\n",
    "pv(\"means_size_100.var()\")"
   ]
  },
  {
   "cell_type": "markdown",
   "metadata": {},
   "source": [
    "# Central Limit Theorem - Part III"
   ]
  },
  {
   "cell_type": "code",
   "execution_count": 40,
   "metadata": {},
   "outputs": [
    {
     "data": {
      "text/plain": [
       "(array([1663.,  747.,  329.,  134.,   73.,   34.,   13.,    5.,    0.,\n",
       "           2.]),\n",
       " array([1.16348231e-03, 8.17255031e+01, 1.63449843e+02, 2.45174182e+02,\n",
       "        3.26898522e+02, 4.08622862e+02, 4.90347201e+02, 5.72071541e+02,\n",
       "        6.53795881e+02, 7.35520220e+02, 8.17244560e+02]),\n",
       " <a list of 10 Patch objects>)"
      ]
     },
     "execution_count": 40,
     "metadata": {},
     "output_type": "execute_result"
    },
    {
     "data": {
      "image/png": "[encoded data removed]",
      "text/plain": [
       "<Figure size 432x288 with 1 Axes>"
      ]
     },
     "metadata": {
      "needs_background": "light"
     },
     "output_type": "display_data"
    },
    {
     "name": "stdout",
     "output_type": "stream",
     "text": [
      "sample.var() : 12098.749344943082\n"
     ]
    },
    {
     "data": {
      "text/plain": [
       "(array([ 176., 1338., 2857., 2728., 1695.,  758.,  315.,   91.,   32.,\n",
       "          10.]),\n",
       " array([ 3615.72815393,  5472.35978523,  7328.99141652,  9185.62304782,\n",
       "        11042.25467911, 12898.88631041, 14755.51794171, 16612.149573  ,\n",
       "        18468.7812043 , 20325.41283559, 22182.04446689]),\n",
       " <a list of 10 Patch objects>)"
      ]
     },
     "execution_count": 40,
     "metadata": {},
     "output_type": "execute_result"
    },
    {
     "data": {
      "image/png": "[encoded data removed]",
      "text/plain": [
       "<Figure size 432x288 with 1 Axes>"
      ]
     },
     "metadata": {
      "needs_background": "light"
     },
     "output_type": "display_data"
    },
    {
     "name": "stdout",
     "output_type": "stream",
     "text": [
      "pop_data.var() : 9955.76939306549\n",
      "var_size_100.var() : 6508086.114509583\n",
      "pop_data.std() : 99.77860187968906\n",
      "var_size_100.mean() : 9874.361793621825\n",
      "pop_data.var() : 9955.76939306549\n",
      "var_size_100.var() : 6508086.114509583\n"
     ]
    }
   ],
   "source": [
    "np.random.seed(42)\n",
    "\n",
    "pop_data = np.random.gamma(1,100,3000)\n",
    "plt.hist(pop_data);\n",
    "plt.show()\n",
    "sample = np.random.choice(pop_data, size=100)\n",
    "pv(\"sample.var()\")\n",
    "\n",
    "var_size_100 = np.array([])\n",
    "for i in range(0,10000):\n",
    "    var_size_100 = np.append(var_size_100, np.random.choice(pop_data, size=100).var())\n",
    "#pv(\"means_size_3\")\n",
    "plt.hist(var_size_100);\n",
    "plt.show()\n",
    "pv(\"pop_data.var()\")\n",
    "pv(\"var_size_100.var()\")\n",
    "pv(\"pop_data.std()\")\n",
    "pv(\"var_size_100.mean()\")\n",
    "pv(\"pop_data.var()\")\n",
    "pv(\"var_size_100.var()\")"
   ]
  },
  {
   "cell_type": "markdown",
   "metadata": {},
   "source": [
    "# Bootstrap Sampling"
   ]
  },
  {
   "cell_type": "code",
   "execution_count": 41,
   "metadata": {},
   "outputs": [
    {
     "data": {
      "text/plain": [
       "array([4, 5, 3, 5, 5, 2, 3, 3, 3, 5, 4, 3, 6, 5, 2, 4, 6, 6, 2, 4])"
      ]
     },
     "execution_count": 41,
     "metadata": {},
     "output_type": "execute_result"
    }
   ],
   "source": []
  },
  {
   "cell_type": "markdown",
   "metadata": {},
   "source": [
    "# Confidence Intervals for the Population Mean"
   ]
  },
  {
   "cell_type": "code",
   "execution_count": 70,
   "metadata": {},
   "outputs": [
    {
     "name": "stdout",
     "output_type": "stream",
     "text": [
      "nb_drinks_coffee/200 : 0.595\n",
      "1-nb_drinks_coffee/200 : 0.405\n",
      "drinks_coffee['height'].mean() : 68.11962990858618\n",
      "coffee_red[(coffee_red['drinks_coffee'] == False)]['height'].mean() : 66.78492279927877\n",
      "nb_drinks_coffee/200 : 0.605\n",
      "1-nb_drinks_coffee/200 : 0.395\n",
      "drinks_coffee['height'].mean() : 68.25918199231297\n",
      "coffee_new[(coffee_new['drinks_coffee'] == False)]['height'].mean() : 66.28588551349722\n"
     ]
    },
    {
     "data": {
      "text/plain": [
       "[<matplotlib.lines.Line2D at 0x7f2172c83630>]"
      ]
     },
     "execution_count": 70,
     "metadata": {},
     "output_type": "execute_result"
    },
    {
     "data": {
      "image/png": "[encoded data removed]",
      "text/plain": [
       "<Figure size 432x288 with 1 Axes>"
      ]
     },
     "metadata": {
      "needs_background": "light"
     },
     "output_type": "display_data"
    },
    {
     "data": {
      "text/plain": [
       "(array([  16.,  106.,  590., 1831., 2989., 2644., 1352.,  377.,   86.,\n",
       "           9.]),\n",
       " array([65.24631713, 65.56293231, 65.8795475 , 66.19616268, 66.51277787,\n",
       "        66.82939305, 67.14600823, 67.46262342, 67.7792386 , 68.09585379,\n",
       "        68.41246897]),\n",
       " <a list of 10 Patch objects>)"
      ]
     },
     "execution_count": 70,
     "metadata": {},
     "output_type": "execute_result"
    },
    {
     "data": {
      "image/png": "[encoded data removed]",
      "text/plain": [
       "<Figure size 432x288 with 1 Axes>"
      ]
     },
     "metadata": {
      "needs_background": "light"
     },
     "output_type": "display_data"
    },
    {
     "name": "stdout",
     "output_type": "stream",
     "text": [
      "lower, upper : (65.9929132815752, 67.58402738281573)\n",
      "coffee_full[(coffee_full['drinks_coffee'] == False)]['height'].mean() : 66.44340776214705\n"
     ]
    }
   ],
   "source": [
    "\n",
    "np.random.seed(42)\n",
    "\n",
    "coffee_full = pd.read_csv('coffee_dataset.csv')\n",
    "coffee_red = coffee_full.sample(200) #this is the only data you might actually get in the real world.\n",
    "#coffee_red.head()\n",
    "drinks_coffee = coffee_red[(coffee_red['drinks_coffee'] == True)]\n",
    "nb_drinks_coffee = len(drinks_coffee)\n",
    "pv(\"nb_drinks_coffee/200\")\n",
    "pv(\"1-nb_drinks_coffee/200\")\n",
    "pv(\"drinks_coffee['height'].mean()\")\n",
    "pv(\"coffee_red[(coffee_red['drinks_coffee'] == False)]['height'].mean()\")\n",
    "\n",
    "# Simulate 200 \"new\" individuals from your original sample of 200. What are the proportion of coffee drinkers in your bootstrap sample? How about individuals that don't drink coffee?3\n",
    "coffee_new = coffee_red.sample(200, replace=True)\n",
    "#coffee_new.head()\n",
    "drinks_coffee = coffee_new[(coffee_new['drinks_coffee'] == True)]\n",
    "nb_drinks_coffee = len(drinks_coffee)\n",
    "pv(\"nb_drinks_coffee/200\")\n",
    "pv(\"1-nb_drinks_coffee/200\")\n",
    "pv(\"drinks_coffee['height'].mean()\")\n",
    "pv(\"coffee_new[(coffee_new['drinks_coffee'] == False)]['height'].mean()\")\n",
    "boot_means = []\n",
    "for _ in range(10_000):\n",
    "    nb_sample = 200\n",
    "    boot_sample = coffee_red.sample(nb_sample, replace=True)\n",
    "    boot_means.append(boot_sample[(boot_sample['drinks_coffee'] == False)]['height'].mean())\n",
    "plt.plot(all_mean_height_no_drinker)\n",
    "plt.show()\n",
    "plt.hist(all_mean_height_no_drinker)\n",
    "plt.show()\n",
    "lower, upper = np.percentile(boot_means, 2.5), np.percentile(boot_means, 97.5)\n",
    "pv(\"lower, upper\")\n",
    "\n",
    "pv(\"coffee_full[(coffee_full['drinks_coffee'] == False)]['height'].mean()\")\n",
    "\n"
   ]
  },
  {
   "cell_type": "code",
   "execution_count": 71,
   "metadata": {},
   "outputs": [
    {
     "name": "stdout",
     "output_type": "stream",
     "text": [
      "coffee_red[(coffee_red['drinks_coffee'] == False)]['height'].mean() : 66.78492279927877\n",
      "coffee_full[(coffee_full['drinks_coffee'] == False)]['height'].mean() : 66.44340776214705\n"
     ]
    }
   ],
   "source": [
    "pv(\"coffee_red[(coffee_red['drinks_coffee'] == False)]['height'].mean()\")\n",
    "pv(\"coffee_full[(coffee_full['drinks_coffee'] == False)]['height'].mean()\")"
   ]
  },
  {
   "cell_type": "markdown",
   "metadata": {},
   "source": [
    "# Confidence Interval - Difference In Means¶"
   ]
  },
  {
   "cell_type": "code",
   "execution_count": 77,
   "metadata": {},
   "outputs": [
    {
     "data": {
      "text/html": [
       "<div>\n",
       "<style scoped>\n",
       "    .dataframe tbody tr th:only-of-type {\n",
       "        vertical-align: middle;\n",
       "    }\n",
       "\n",
       "    .dataframe tbody tr th {\n",
       "        vertical-align: top;\n",
       "    }\n",
       "\n",
       "    .dataframe thead th {\n",
       "        text-align: right;\n",
       "    }\n",
       "</style>\n",
       "<table border=\"1\" class=\"dataframe\">\n",
       "  <thead>\n",
       "    <tr style=\"text-align: right;\">\n",
       "      <th></th>\n",
       "      <th>user_id</th>\n",
       "      <th>age</th>\n",
       "      <th>drinks_coffee</th>\n",
       "      <th>height</th>\n",
       "    </tr>\n",
       "  </thead>\n",
       "  <tbody>\n",
       "    <tr>\n",
       "      <th>2402</th>\n",
       "      <td>2874</td>\n",
       "      <td>&lt;21</td>\n",
       "      <td>True</td>\n",
       "      <td>64.357154</td>\n",
       "    </tr>\n",
       "    <tr>\n",
       "      <th>2864</th>\n",
       "      <td>3670</td>\n",
       "      <td>&gt;=21</td>\n",
       "      <td>True</td>\n",
       "      <td>66.859636</td>\n",
       "    </tr>\n",
       "    <tr>\n",
       "      <th>2167</th>\n",
       "      <td>7441</td>\n",
       "      <td>&lt;21</td>\n",
       "      <td>False</td>\n",
       "      <td>66.659561</td>\n",
       "    </tr>\n",
       "  </tbody>\n",
       "</table>\n",
       "</div>"
      ],
      "text/plain": [
       "      user_id   age  drinks_coffee     height\n",
       "2402     2874   <21           True  64.357154\n",
       "2864     3670  >=21           True  66.859636\n",
       "2167     7441   <21          False  66.659561"
      ]
     },
     "execution_count": 77,
     "metadata": {},
     "output_type": "execute_result"
    },
    {
     "data": {
      "text/plain": [
       "(array([  24.,  109.,  546., 1516., 2623., 2826., 1664.,  568.,  106.,\n",
       "          18.]),\n",
       " array([-0.43028277, -0.07929544,  0.2716919 ,  0.62267923,  0.97366656,\n",
       "         1.3246539 ,  1.67564123,  2.02662857,  2.3776159 ,  2.72860323,\n",
       "         3.07959057]),\n",
       " <a list of 10 Patch objects>)"
      ]
     },
     "execution_count": 77,
     "metadata": {},
     "output_type": "execute_result"
    },
    {
     "data": {
      "image/png": "[encoded data removed]",
      "text/plain": [
       "<Figure size 432x288 with 1 Axes>"
      ]
     },
     "metadata": {
      "needs_background": "light"
     },
     "output_type": "display_data"
    },
    {
     "name": "stdout",
     "output_type": "stream",
     "text": [
      "lower, upper : (0.10258900080921124, 0.10258900080921124)\n",
      "full_data[(full_data['drinks_coffee'] == True)]['height'].mean() - full_data[(full_data['drinks_coffee'] == False)]['height'].mean()  : 1.9568024933369657\n"
     ]
    }
   ],
   "source": [
    "np.random.seed(42)\n",
    "\n",
    "full_data = pd.read_csv('coffee_dataset.csv')\n",
    "sample_data = full_data.sample(200)\n",
    "sample_data.head(3)\n",
    "# 1. For 10,000 iterations, bootstrap sample your sample data, compute the difference in the average heights for coffee and non-coffee drinkers. Build a 99% confidence interval using your sampling distribution. Use your interval to start answering the first quiz question below.\n",
    "\n",
    "boot_diff = []\n",
    "for _ in range(10_000):\n",
    "    nb_sample = 200\n",
    "    boot_sample = sample_data.sample(nb_sample, replace=True)\n",
    "    coffee_mean = boot_sample[(boot_sample['drinks_coffee'] == True)]['height'].mean()\n",
    "    no_coffee_mean = boot_sample[(boot_sample['drinks_coffee'] == False)]['height'].mean()\n",
    "    boot_diff.append(coffee_mean - no_coffee_mean)\n",
    "plt.hist(boot_diff)\n",
    "plt.show()\n",
    "lower, upper = np.percentile(boot_diff, 0.5), np.percentile(boot_diff, 99.5)\n",
    "pv(\"lower, upper\")\n",
    "\n",
    "pv(\"full_data[(full_data['drinks_coffee'] == True)]['height'].mean() - full_data[(full_data['drinks_coffee'] == False)]['height'].mean() \")\n"
   ]
  },
  {
   "cell_type": "code",
   "execution_count": 91,
   "metadata": {},
   "outputs": [
    {
     "data": {
      "text/plain": [
       "(array([   5.,   35.,  265., 1116., 2646., 3061., 2009.,  702.,  150.,\n",
       "          11.]),\n",
       " array([2.78783612, 3.06299912, 3.33816213, 3.61332513, 3.88848813,\n",
       "        4.16365114, 4.43881414, 4.71397715, 4.98914015, 5.26430316,\n",
       "        5.53946616]),\n",
       " <a list of 10 Patch objects>)"
      ]
     },
     "execution_count": 91,
     "metadata": {},
     "output_type": "execute_result"
    },
    {
     "data": {
      "image/png": "[encoded data removed]",
      "text/plain": [
       "<Figure size 432x288 with 1 Axes>"
      ]
     },
     "metadata": {
      "needs_background": "light"
     },
     "output_type": "display_data"
    },
    {
     "name": "stdout",
     "output_type": "stream",
     "text": [
      "lower, upper : (3.350274589725852, 5.109059900189764)\n",
      "full_data[(full_data['age'] == '>=21')]['height'].mean() - full_data[(full_data['age'] == '<21')]['height'].mean()  : 3.88229124992111\n"
     ]
    }
   ],
   "source": [
    "\n",
    "# 2. For 10,000 iterations, bootstrap sample your sample data, compute the difference in the average heights for those older than 21 and those younger than 21. Build a 99% confidence interval using your sampling distribution. Use your interval to finish answering the first quiz question below. \n",
    "boot_diff = []\n",
    "for _ in range(10_000):\n",
    "    nb_sample = 200\n",
    "    boot_sample = sample_data.sample(nb_sample, replace=True)\n",
    "    older_mean = boot_sample[(boot_sample['age'] == \">=21\")]['height'].mean()\n",
    "    younger_mean = boot_sample[(boot_sample['age'] == \"<21\")]['height'].mean()\n",
    "    boot_diff.append(older_mean - younger_mean)\n",
    "plt.hist(boot_diff)\n",
    "plt.show()\n",
    "lower, upper = np.percentile(boot_diff, 0.5), np.percentile(boot_diff, 99.5)\n",
    "pv(\"lower, upper\")\n"
   ]
  },
  {
   "cell_type": "markdown",
   "metadata": {},
   "source": [
    "For 10,000 iterations bootstrap your sample data, compute the difference in the average height for coffee drinkers and the average height for non-coffee drinkers for individuals under 21 years old. Using your sampling distribution, build a 95% confidence interval. Use your interval to start answering question 2 below."
   ]
  },
  {
   "cell_type": "code",
   "execution_count": 93,
   "metadata": {},
   "outputs": [
    {
     "data": {
      "text/plain": [
       "(array([   4.,   54.,  391., 1414., 2679., 3021., 1750.,  553.,  120.,\n",
       "          14.]),\n",
       " array([-3.44885318, -3.13776917, -2.82668516, -2.51560114, -2.20451713,\n",
       "        -1.89343312, -1.58234911, -1.27126509, -0.96018108, -0.64909707,\n",
       "        -0.33801306]),\n",
       " <a list of 10 Patch objects>)"
      ]
     },
     "execution_count": 93,
     "metadata": {},
     "output_type": "execute_result"
    },
    {
     "data": {
      "image/png": "[encoded data removed]",
      "text/plain": [
       "<Figure size 432x288 with 1 Axes>"
      ]
     },
     "metadata": {
      "needs_background": "light"
     },
     "output_type": "display_data"
    },
    {
     "name": "stdout",
     "output_type": "stream",
     "text": [
      "lower, upper : (-2.6136701999388614, -1.075162498976531)\n"
     ]
    }
   ],
   "source": [
    "boot_diff = []\n",
    "for _ in range(10_000):\n",
    "    nb_sample = 200\n",
    "    boot_sample = sample_data.sample(nb_sample, replace=True)\n",
    "    drink_mean = boot_sample.query(\"age == '<21' and drinks_coffee == True\")['height'].mean()\n",
    "    no_drink_mean = boot_sample.query(\"age == '<21' and drinks_coffee == False\")['height'].mean()\n",
    "    boot_diff.append(drink_mean - no_drink_mean)\n",
    "plt.hist(boot_diff)\n",
    "plt.show()\n",
    "lower, upper = np.percentile(boot_diff, 2.5), np.percentile(boot_diff, 97.5)\n",
    "pv(\"lower, upper\")\n",
    "pv(\"upper-lower\")\n",
    "\n",
    "#pv(\"full_data[(full_data['age'] == '>=21')]['height'].mean() - full_data[(full_data['age'] == '<21')]['height'].mean() \")\n"
   ]
  },
  {
   "cell_type": "markdown",
   "metadata": {},
   "source": [
    "4. For 10,000 iterations bootstrap your sample data, compute the difference in the average height for coffee drinkers and the average height for non-coffee drinkers for individuals over 21 years old. Using your sampling distribution, build a 95% confidence interval. Use your interval to finish answering the second quiz question below. As well as the following questions. "
   ]
  },
  {
   "cell_type": "code",
   "execution_count": 94,
   "metadata": {},
   "outputs": [
    {
     "data": {
      "text/plain": [
       "(array([1.000e+01, 1.270e+02, 9.900e+02, 3.108e+03, 3.656e+03, 1.697e+03,\n",
       "        3.560e+02, 4.700e+01, 7.000e+00, 2.000e+00]),\n",
       " array([-5.80729099, -5.16742569, -4.52756038, -3.88769507, -3.24782976,\n",
       "        -2.60796445, -1.96809914, -1.32823383, -0.68836852, -0.04850321,\n",
       "         0.5913621 ]),\n",
       " <a list of 10 Patch objects>)"
      ]
     },
     "execution_count": 94,
     "metadata": {},
     "output_type": "execute_result"
    },
    {
     "data": {
      "image/png": "[encoded data removed]",
      "text/plain": [
       "<Figure size 432x288 with 1 Axes>"
      ]
     },
     "metadata": {
      "needs_background": "light"
     },
     "output_type": "display_data"
    },
    {
     "name": "stdout",
     "output_type": "stream",
     "text": [
      "lower, upper : (-4.367928496025803, -1.8065555122633452)\n"
     ]
    }
   ],
   "source": [
    "boot_diff = []\n",
    "for _ in range(10_000):\n",
    "    nb_sample = 200\n",
    "    boot_sample = sample_data.sample(nb_sample, replace=True)\n",
    "    drink_mean = boot_sample.query(\"age == '>=21' and drinks_coffee == True\")['height'].mean()\n",
    "    no_drink_mean = boot_sample.query(\"age == '>=21' and drinks_coffee == False\")['height'].mean()\n",
    "    boot_diff.append(drink_mean - no_drink_mean)\n",
    "plt.hist(boot_diff)\n",
    "plt.show()\n",
    "lower, upper = np.percentile(boot_diff, 2.5), np.percentile(boot_diff, 97.5)\n",
    "pv(\"lower, upper\")\n",
    "pv(\"upper-lower\")"
   ]
  },
  {
   "cell_type": "markdown",
   "metadata": {},
   "source": [
    "# Traditional approaches"
   ]
  },
  {
   "cell_type": "code",
   "execution_count": null,
   "metadata": {},
   "outputs": [],
   "source": [
    "import statsmodels.stats.api as sms\n",
    "# sms.CompareMeans() => T-test"
   ]
  },
  {
   "cell_type": "code",
   "execution_count": null,
   "metadata": {},
   "outputs": [],
   "source": []
  },
  {
   "cell_type": "code",
   "execution_count": null,
   "metadata": {},
   "outputs": [],
   "source": []
  },
  {
   "cell_type": "code",
   "execution_count": null,
   "metadata": {},
   "outputs": [],
   "source": [
    "print(\"\")\n",
    "print(\"\")\n",
    "print(\"\")"
   ]
  },
  {
   "cell_type": "code",
   "execution_count": null,
   "metadata": {},
   "outputs": [],
   "source": [
    "print(\"\")\n",
    "print(\"\")\n",
    "print(\"\")"
   ]
  }
 ],
 "metadata": {
  "kernelspec": {
   "display_name": "Python 3",
   "language": "python",
   "name": "python3"
  },
  "language_info": {
   "codemirror_mode": {
    "name": "ipython",
    "version": 3
   },
   "file_extension": ".py",
   "mimetype": "text/x-python",
   "name": "python",
   "nbconvert_exporter": "python",
   "pygments_lexer": "ipython3",
   "version": "3.7.1"
  }
 },
 "nbformat": 4,
 "nbformat_minor": 2
}
