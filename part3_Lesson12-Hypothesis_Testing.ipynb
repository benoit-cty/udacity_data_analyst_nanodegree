{
 "cells": [
  {
   "cell_type": "code",
   "execution_count": 1,
   "metadata": {},
   "outputs": [],
   "source": [
    "# Put these at the top of every notebook, to get automatic reloading and inline plotting\n",
    "%reload_ext autoreload\n",
    "%autoreload 2\n",
    "%matplotlib inline\n",
    "from IPython.core.interactiveshell import InteractiveShell\n",
    "InteractiveShell.ast_node_interactivity = \"all\"\n",
    "def pv(variable):\n",
    "    if(len(variable)>1): print(variable, \":\", eval(variable))"
   ]
  },
  {
   "cell_type": "code",
   "execution_count": 2,
   "metadata": {},
   "outputs": [],
   "source": [
    "# low, upper\n",
    "# plt.axvline(x=low, color='r', linewidth=2);"
   ]
  },
  {
   "cell_type": "markdown",
   "metadata": {},
   "source": [
    "# Simulating From the Null Hypothesis"
   ]
  },
  {
   "cell_type": "code",
   "execution_count": 3,
   "metadata": {},
   "outputs": [],
   "source": [
    "import pandas as pd\n",
    "import numpy as np\n",
    "import matplotlib.pyplot as plt\n",
    "\n",
    "%matplotlib inline\n",
    "np.random.seed(42)\n",
    "\n",
    "full_data = pd.read_csv('coffee_dataset.csv')\n",
    "sample_data = full_data.sample(200)"
   ]
  },
  {
   "cell_type": "markdown",
   "metadata": {},
   "source": [
    "1. If you were interested in studying whether the average height for coffee drinkers is the same as for non-coffee drinkers, what would the null and alternative hypotheses be? Write them in the cell below, and use your answer to answer the first quiz question below.\n",
    "\n",
    "2. If you were interested in studying whether the average height for coffee drinkers is less than non-coffee drinkers, what would the null and alternative hypotheses be? Write them in the cell below, and use your answer to answer the second quiz question below.\n",
    "\n"
   ]
  },
  {
   "cell_type": "markdown",
   "metadata": {},
   "source": [
    "average height for coffee drinkers is the same as for non-coffee drinkers\n",
    "\n",
    "    H0 : height(coffee) = height(no coffee)\n",
    "    H1 : height(coffee) <> height(no coffee)\n",
    "    \n",
    "average height for coffee drinkers is less than non-coffee drinkers\n",
    "\n",
    "    H0 : height(coffee) >= height(no coffee)\n",
    "    H1 : height(coffee) < height(no coffee)\n"
   ]
  },
  {
   "cell_type": "markdown",
   "metadata": {},
   "source": [
    "3. For 10,000 iterations: bootstrap the sample data, calculate the mean height for coffee drinkers and non-coffee drinkers, and calculate the difference in means for each sample. You will want to have three arrays at the end of the iterations - one for each mean and one for the difference in means. Use the results of your sampling distribution, to answer the third quiz question below.\n"
   ]
  },
  {
   "cell_type": "code",
   "execution_count": 16,
   "metadata": {},
   "outputs": [
    {
     "name": "stdout",
     "output_type": "stream",
     "text": [
      "np.mean(drink_means) : 68.1170203438573\n",
      "np.mean(no_drink_means) : 66.7802393564418\n",
      "np.mean(boot_diffs) : 1.3367809874155205\n",
      "np.std(drink_means) : 0.24199030603946156\n",
      "np.std(no_drink_means) : 0.40740156905046576\n",
      "np.std(boot_diffs) : 0.47461751257882373\n"
     ]
    },
    {
     "data": {
      "text/plain": [
       "(array([   3.,   76.,  420., 1408., 2764., 2909., 1718.,  602.,   92.,\n",
       "           8.]),\n",
       " array([67.14733174, 67.33718939, 67.52704705, 67.71690471, 67.90676237,\n",
       "        68.09662002, 68.28647768, 68.47633534, 68.666193  , 68.85605065,\n",
       "        69.04590831]),\n",
       " <a list of 10 Patch objects>)"
      ]
     },
     "execution_count": 16,
     "metadata": {},
     "output_type": "execute_result"
    },
    {
     "data": {
      "image/png": "[encoded data removed]",
      "text/plain": [
       "<Figure size 432x288 with 1 Axes>"
      ]
     },
     "metadata": {
      "needs_background": "light"
     },
     "output_type": "display_data"
    },
    {
     "data": {
      "text/plain": [
       "(array([  16.,  154.,  649., 1747., 2760., 2647., 1453.,  450.,  110.,\n",
       "          14.]),\n",
       " array([65.31124228, 65.61188904, 65.9125358 , 66.21318257, 66.51382933,\n",
       "        66.81447609, 67.11512285, 67.41576961, 67.71641638, 68.01706314,\n",
       "        68.3177099 ]),\n",
       " <a list of 10 Patch objects>)"
      ]
     },
     "execution_count": 16,
     "metadata": {},
     "output_type": "execute_result"
    },
    {
     "data": {
      "image/png": "[encoded data removed]",
      "text/plain": [
       "<Figure size 432x288 with 1 Axes>"
      ]
     },
     "metadata": {
      "needs_background": "light"
     },
     "output_type": "display_data"
    },
    {
     "data": {
      "text/plain": [
       "(array([  21.,  124.,  595., 1645., 2667., 2709., 1544.,  555.,  123.,\n",
       "          17.]),\n",
       " array([-0.38962334, -0.04257622,  0.3044709 ,  0.65151802,  0.99856513,\n",
       "         1.34561225,  1.69265937,  2.03970649,  2.3867536 ,  2.73380072,\n",
       "         3.08084784]),\n",
       " <a list of 10 Patch objects>)"
      ]
     },
     "execution_count": 16,
     "metadata": {},
     "output_type": "execute_result"
    },
    {
     "data": {
      "text/plain": [
       "<matplotlib.lines.Line2D at 0x7f5af7701d30>"
      ]
     },
     "execution_count": 16,
     "metadata": {},
     "output_type": "execute_result"
    },
    {
     "data": {
      "text/plain": [
       "<matplotlib.lines.Line2D at 0x7f5af827a1d0>"
      ]
     },
     "execution_count": 16,
     "metadata": {},
     "output_type": "execute_result"
    },
    {
     "data": {
      "image/png": "[encoded data removed]",
      "text/plain": [
       "<Figure size 432x288 with 1 Axes>"
      ]
     },
     "metadata": {
      "needs_background": "light"
     },
     "output_type": "display_data"
    },
    {
     "name": "stdout",
     "output_type": "stream",
     "text": [
      "lower, upper : (0.3933301883768994, 2.2627035091189343)\n",
      "upper-lower : 1.8693733207420349\n"
     ]
    }
   ],
   "source": [
    "# pv(\"sample_data.mean()\")\n",
    "# pv(\"sample_data.std()\")\n",
    "# pv(\"sample_data.var()\")\n",
    "\n",
    "boot_diffs = []\n",
    "drink_means = []\n",
    "no_drink_means = []\n",
    "for _ in range(10_000):\n",
    "    nb_sample = 200\n",
    "    boot_sample = sample_data.sample(nb_sample, replace=True)\n",
    "    \n",
    "    drink_mean = boot_sample.query(\"drinks_coffee == True\")['height'].mean()\n",
    "    drink_means.append(drink_mean)\n",
    "    no_drink_mean = boot_sample.query(\"drinks_coffee == False\")['height'].mean()\n",
    "    no_drink_means.append(no_drink_mean)\n",
    "    \n",
    "    boot_diffs.append(drink_mean - no_drink_mean)\n",
    "\n",
    "# pv(\"len(drink_means)\")\n",
    "# pv(\"len(no_drink_means)\")\n",
    "# pv(\"len(boot_diffs)\")\n",
    "\n",
    "\n",
    "pv(\"np.mean(drink_means)\")\n",
    "pv(\"np.mean(no_drink_means)\")\n",
    "pv(\"np.mean(boot_diffs)\")\n",
    "\n",
    "pv(\"np.std(drink_means)\")\n",
    "pv(\"np.std(no_drink_means)\")\n",
    "pv(\"np.std(boot_diffs)\")\n",
    "\n",
    "plt.hist(drink_means)\n",
    "plt.show()\n",
    "\n",
    "plt.hist(no_drink_means)\n",
    "plt.show()\n",
    "\n",
    "lower, upper = np.percentile(boot_diffs, 2.5), np.percentile(boot_diffs, 97.5) # np.percentile(mb, [2.5, 97.5])\n",
    "plt.hist(boot_diffs);\n",
    "plt.axvline(x=lower, color='r', linewidth=2);\n",
    "plt.axvline(x=upper, color='r', linewidth=2);\n",
    "plt.show()\n",
    "\n",
    "pv(\"lower, upper\")\n",
    "pv(\"upper-lower\")\n",
    "    "
   ]
  },
  {
   "cell_type": "code",
   "execution_count": null,
   "metadata": {},
   "outputs": [],
   "source": []
  },
  {
   "cell_type": "markdown",
   "metadata": {},
   "source": [
    "## 26 - Drawing Conclusions - Calculating Errors\n",
    "\n",
    "Here are two datasets that represent two of the examples you have seen in this lesson.  \n",
    "\n",
    "One dataset is based on the parachute example, and the second is based on the judicial example.  Neither of these datasets is based on real people.\n",
    "\n",
    "Use the exercises below to assist in answering the quiz questions at the bottom of this page."
   ]
  },
  {
   "cell_type": "code",
   "execution_count": 66,
   "metadata": {
    "scrolled": true
   },
   "outputs": [],
   "source": [
    "import numpy as np\n",
    "import pandas as pd\n",
    "\n",
    "jud_data = pd.read_csv('judicial_dataset_predictions.csv')\n",
    "par_data = pd.read_csv('parachute_dataset.csv')\n",
    "\n",
    "\n",
    "\n"
   ]
  },
  {
   "cell_type": "markdown",
   "metadata": {},
   "source": [
    "`1.` Above, you can see the actual and predicted columns for each of the datasets.  Using the **jud_data**, find the proportion of errors for the dataset, and furthermore, the percentage of errors of each type.  Use the results to answer the questions in quiz 1 below.  \n",
    "\n",
    "**Hint for quiz:** an error is any time the prediction doesn't match an actual value.  Additionally, there are Type I and Type II errors to think about.  We also know we can minimize one type of error by maximizing the other type of error.  If we predict all individuals as innocent, how many of the guilty are incorrectly labeled?  Similarly, if we predict all individuals as guilty, how many of the innocent are incorrectly labeled?\n",
    "\n",
    "Total percentage of errors\n",
    "\n",
    "Percentage of Type I Errors\n",
    "\n",
    "Percentage of Type II Errors\n",
    "\n",
    "If everyone was predicted to be guilty, the proportion of Type I Errors made.\n",
    "\n",
    "If everyone was predicted to be guilty, the proportion of Type II Errors made.\n"
   ]
  },
  {
   "cell_type": "code",
   "execution_count": 67,
   "metadata": {},
   "outputs": [
    {
     "data": {
      "text/html": [
       "<div>\n",
       "<style scoped>\n",
       "    .dataframe tbody tr th:only-of-type {\n",
       "        vertical-align: middle;\n",
       "    }\n",
       "\n",
       "    .dataframe tbody tr th {\n",
       "        vertical-align: top;\n",
       "    }\n",
       "\n",
       "    .dataframe thead th {\n",
       "        text-align: right;\n",
       "    }\n",
       "</style>\n",
       "<table border=\"1\" class=\"dataframe\">\n",
       "  <thead>\n",
       "    <tr style=\"text-align: right;\">\n",
       "      <th></th>\n",
       "      <th>defendant_id</th>\n",
       "      <th>actual</th>\n",
       "      <th>predicted</th>\n",
       "    </tr>\n",
       "  </thead>\n",
       "  <tbody>\n",
       "    <tr>\n",
       "      <th>0</th>\n",
       "      <td>22574</td>\n",
       "      <td>innocent</td>\n",
       "      <td>innocent</td>\n",
       "    </tr>\n",
       "    <tr>\n",
       "      <th>1</th>\n",
       "      <td>35637</td>\n",
       "      <td>innocent</td>\n",
       "      <td>innocent</td>\n",
       "    </tr>\n",
       "    <tr>\n",
       "      <th>2</th>\n",
       "      <td>39919</td>\n",
       "      <td>innocent</td>\n",
       "      <td>innocent</td>\n",
       "    </tr>\n",
       "    <tr>\n",
       "      <th>3</th>\n",
       "      <td>29610</td>\n",
       "      <td>guilty</td>\n",
       "      <td>guilty</td>\n",
       "    </tr>\n",
       "    <tr>\n",
       "      <th>4</th>\n",
       "      <td>38273</td>\n",
       "      <td>innocent</td>\n",
       "      <td>innocent</td>\n",
       "    </tr>\n",
       "  </tbody>\n",
       "</table>\n",
       "</div>"
      ],
      "text/plain": [
       "   defendant_id    actual predicted\n",
       "0         22574  innocent  innocent\n",
       "1         35637  innocent  innocent\n",
       "2         39919  innocent  innocent\n",
       "3         29610    guilty    guilty\n",
       "4         38273  innocent  innocent"
      ]
     },
     "execution_count": 67,
     "metadata": {},
     "output_type": "execute_result"
    },
    {
     "name": "stdout",
     "output_type": "stream",
     "text": [
      "nb_errors/nb_cases : 0.042152958945489497\n",
      "errors_type_1.shape[0]/nb_cases : 0.001510366607167376\n",
      "errors_type_2.shape[0]/nb_cases : 0.04064259233832212\n",
      "errors_type_1.shape[0]/nb_cases : 0.45159961554304545\n"
     ]
    }
   ],
   "source": [
    "jud_data.head()\n",
    "nb_cases = jud_data.shape[0]\n",
    "errors = jud_data.query(\"actual != predicted\")\n",
    "nb_errors = errors.shape[0]\n",
    "pv(\"nb_errors/nb_cases\")\n",
    "errors_type_1 = jud_data.query(\"actual == 'innocent' and predicted == 'guilty'\")\n",
    "pv(\"errors_type_1.shape[0]/nb_cases\")\n",
    "errors_type_2 = jud_data.query(\"actual == 'guilty' and predicted == 'innocent'\")\n",
    "pv(\"errors_type_2.shape[0]/nb_cases\")\n",
    "\n",
    "errors_type_1 = jud_data.query(\"actual == 'innocent'\")\n",
    "pv(\"errors_type_1.shape[0]/nb_cases\")\n",
    "errors_type_2 = 0 # because no one is innocent !"
   ]
  },
  {
   "cell_type": "markdown",
   "metadata": {},
   "source": [
    "`2.` Using the **par_data**, find the proportion of errors for the dataset, and furthermore, the percentage of errors of each type.  Use the results to answer the questions in quiz 2 below.\n",
    "\n",
    "These should be very similar operations to those you performed in the previous question.\n",
    "Total percentage of errors\n",
    "\n",
    "Percentage of Type I Errors\n",
    "\n",
    "Percentage of Type II Errors\n",
    "\n",
    "If every parachute was predicted to not open, the proportion of Type I Errors made.\n",
    "\n",
    "If every parachute was predicted to not open, the proportion of Type II Errors made.\n"
   ]
  },
  {
   "cell_type": "code",
   "execution_count": 68,
   "metadata": {},
   "outputs": [
    {
     "data": {
      "text/plain": [
       "array(['opens', 'fails'], dtype=object)"
      ]
     },
     "execution_count": 68,
     "metadata": {},
     "output_type": "execute_result"
    },
    {
     "name": "stdout",
     "output_type": "stream",
     "text": [
      "nb_errors/nb_cases : 0.039972551037913875\n",
      "errors_type_1.shape[0]/nb_cases : 0.00017155601303825698\n",
      "errors_type_2.shape[0]/nb_cases : 0.03980099502487562\n",
      "errors_type_2.shape[0]/nb_cases : 0.9917653113741637\n"
     ]
    }
   ],
   "source": [
    "par_data.actual.unique()\n",
    "\n",
    "nb_cases = par_data.shape[0]\n",
    "errors = par_data.query(\"actual != predicted\")\n",
    "nb_errors = errors.shape[0]\n",
    "pv(\"nb_errors/nb_cases\")\n",
    "errors_type_1 = par_data.query(\"actual == 'fails' and predicted == 'opens'\")\n",
    "pv(\"errors_type_1.shape[0]/nb_cases\")\n",
    "errors_type_2 = par_data.query(\"actual == 'opens' and predicted == 'fails'\")\n",
    "pv(\"errors_type_2.shape[0]/nb_cases\")\n",
    "\n",
    "errors_type_2 = par_data.query(\"actual == 'opens'\")\n",
    "pv(\"errors_type_2.shape[0]/nb_cases\")"
   ]
  },
  {
   "cell_type": "markdown",
   "metadata": {},
   "source": [
    "### The Impact of Large Sample Sizes\n",
    "\n",
    "When we increase our sample size, even the smallest of differences may seem significant.  \n",
    "\n",
    "To illustrate this point, work through this notebook and the quiz questions that follow below.\n",
    "\n",
    "Start by reading in the libraries and data.\n",
    "\n",
    "`1.` In this case, imagine we are interested in testing if the mean height of all individuals in `full_data` is equal to 67.60 inches or **different** than 67.60.  First, use **quiz 1** below to state the null and alternative hypotheses for these cases in the cell below. \n"
   ]
  },
  {
   "cell_type": "markdown",
   "metadata": {},
   "source": [
    "$$H_0: \\mu = 67.60$$\n",
    "\n",
    "$$H_1: \\mu \\neq 67.60$$"
   ]
  },
  {
   "cell_type": "code",
   "execution_count": 6,
   "metadata": {},
   "outputs": [
    {
     "data": {
      "text/html": [
       "<div>\n",
       "<style scoped>\n",
       "    .dataframe tbody tr th:only-of-type {\n",
       "        vertical-align: middle;\n",
       "    }\n",
       "\n",
       "    .dataframe tbody tr th {\n",
       "        vertical-align: top;\n",
       "    }\n",
       "\n",
       "    .dataframe thead th {\n",
       "        text-align: right;\n",
       "    }\n",
       "</style>\n",
       "<table border=\"1\" class=\"dataframe\">\n",
       "  <thead>\n",
       "    <tr style=\"text-align: right;\">\n",
       "      <th></th>\n",
       "      <th>user_id</th>\n",
       "      <th>age</th>\n",
       "      <th>drinks_coffee</th>\n",
       "      <th>height</th>\n",
       "    </tr>\n",
       "  </thead>\n",
       "  <tbody>\n",
       "    <tr>\n",
       "      <th>0</th>\n",
       "      <td>4509</td>\n",
       "      <td>&lt;21</td>\n",
       "      <td>False</td>\n",
       "      <td>64.538179</td>\n",
       "    </tr>\n",
       "    <tr>\n",
       "      <th>1</th>\n",
       "      <td>1864</td>\n",
       "      <td>&gt;=21</td>\n",
       "      <td>True</td>\n",
       "      <td>65.824249</td>\n",
       "    </tr>\n",
       "  </tbody>\n",
       "</table>\n",
       "</div>"
      ],
      "text/plain": [
       "   user_id   age  drinks_coffee     height\n",
       "0     4509   <21          False  64.538179\n",
       "1     1864  >=21           True  65.824249"
      ]
     },
     "execution_count": 6,
     "metadata": {},
     "output_type": "execute_result"
    }
   ],
   "source": [
    "\n",
    "\n",
    "full_data = pd.read_csv('coffee_dataset.csv')\n",
    "\n",
    "full_data.head(2)"
   ]
  },
  {
   "cell_type": "markdown",
   "metadata": {},
   "source": [
    "`2.` Find:\n",
    "* What is the population mean height?  \n",
    "* What is the standard deviation of the population heights?  Create a sample set of data using the code below.  \n",
    "* What is the sample mean height?  Simulate the sampling distribution for the mean of five values to see the shape and plot a histogram. \n",
    "* What is the standard deviation of the sampling distribution of the mean of five draws? \n",
    "\n",
    "Use **quiz 2** below to assure your answers are correct.  "
   ]
  },
  {
   "cell_type": "markdown",
   "metadata": {},
   "source": [
    "### Simulating from the null\n",
    "1. Assume the null is true, we know what the sampling distribuntion would look like if we simulate from the closest value under the null to the alternative (67.60 ?)\n",
    "2. We simulate a normal distribution to get the standard deviation of the sampling distribution (for loop, df.sample(replace=True), append)\n",
    "3. We know it must follow a central distribution if the null is true (central limit theorem)\n",
    "4. We use NumPy to simulate draws from the normal using the hypothesized mean and the standard deviation of the sampling  distribution : np.random.normal(loc=null_hypothesis, scale=np.std(means_sampling_distribution), size = number of sample range)\n",
    "5. Each of the simulated draws represents a possible mean from the null hypothesis\n",
    "6. Where the sample mean falls in this distribution ? Below or above the null ?\n",
    "\n",
    "#### Calculate Confidence Interval\n",
    "Determine a confidence interval and degrees of freedom\n",
    "This is what we call alpha (α). The typical value of α is 0.05. This means that there is 95% confidence that the conclusion of this test will be valid. The degree of freedom can be calculated by the the following formula:\n",
    "alpha = 0.05\n",
    "degree_freedom = 1-alpha\n",
    "\n",
    "ordered = sort(statistics)\n",
    "lower = percentile(ordered, alpha/2)\n",
    "upper = percentile(ordered, (1-alpha) + alpha/2))\n",
    "\n",
    "=> Lower et upper sont les p-value ?"
   ]
  },
  {
   "cell_type": "code",
   "execution_count": 55,
   "metadata": {},
   "outputs": [
    {
     "name": "stdout",
     "output_type": "stream",
     "text": [
      "np.mean(full_data.height) : 67.59748697307937\n",
      "np.std(full_data.height) : 3.1189087116821472\n"
     ]
    },
    {
     "data": {
      "text/html": [
       "<div>\n",
       "<style scoped>\n",
       "    .dataframe tbody tr th:only-of-type {\n",
       "        vertical-align: middle;\n",
       "    }\n",
       "\n",
       "    .dataframe tbody tr th {\n",
       "        vertical-align: top;\n",
       "    }\n",
       "\n",
       "    .dataframe thead th {\n",
       "        text-align: right;\n",
       "    }\n",
       "</style>\n",
       "<table border=\"1\" class=\"dataframe\">\n",
       "  <thead>\n",
       "    <tr style=\"text-align: right;\">\n",
       "      <th></th>\n",
       "      <th>user_id</th>\n",
       "      <th>age</th>\n",
       "      <th>drinks_coffee</th>\n",
       "      <th>height</th>\n",
       "    </tr>\n",
       "  </thead>\n",
       "  <tbody>\n",
       "    <tr>\n",
       "      <th>2402</th>\n",
       "      <td>2874</td>\n",
       "      <td>&lt;21</td>\n",
       "      <td>True</td>\n",
       "      <td>64.357154</td>\n",
       "    </tr>\n",
       "    <tr>\n",
       "      <th>2864</th>\n",
       "      <td>3670</td>\n",
       "      <td>&gt;=21</td>\n",
       "      <td>True</td>\n",
       "      <td>66.859636</td>\n",
       "    </tr>\n",
       "    <tr>\n",
       "      <th>2167</th>\n",
       "      <td>7441</td>\n",
       "      <td>&lt;21</td>\n",
       "      <td>False</td>\n",
       "      <td>66.659561</td>\n",
       "    </tr>\n",
       "    <tr>\n",
       "      <th>507</th>\n",
       "      <td>2781</td>\n",
       "      <td>&gt;=21</td>\n",
       "      <td>True</td>\n",
       "      <td>70.166241</td>\n",
       "    </tr>\n",
       "    <tr>\n",
       "      <th>1817</th>\n",
       "      <td>2875</td>\n",
       "      <td>&gt;=21</td>\n",
       "      <td>True</td>\n",
       "      <td>71.369120</td>\n",
       "    </tr>\n",
       "  </tbody>\n",
       "</table>\n",
       "</div>"
      ],
      "text/plain": [
       "      user_id   age  drinks_coffee     height\n",
       "2402     2874   <21           True  64.357154\n",
       "2864     3670  >=21           True  66.859636\n",
       "2167     7441   <21          False  66.659561\n",
       "507      2781  >=21           True  70.166241\n",
       "1817     2875  >=21           True  71.369120"
      ]
     },
     "execution_count": 55,
     "metadata": {},
     "output_type": "execute_result"
    },
    {
     "data": {
      "text/plain": [
       "(5, 4)"
      ]
     },
     "execution_count": 55,
     "metadata": {},
     "output_type": "execute_result"
    },
    {
     "name": "stdout",
     "output_type": "stream",
     "text": [
      "np.mean(sample1.height) : 67.88234252049084\n"
     ]
    },
    {
     "data": {
      "text/plain": [
       "(array([   9.,   65.,  346., 1016., 2096., 2852., 2257., 1067.,  260.,\n",
       "          32.]),\n",
       " array([62.0966947 , 63.10054507, 64.10439543, 65.1082458 , 66.11209617,\n",
       "        67.11594654, 68.1197969 , 69.12364727, 70.12749764, 71.131348  ,\n",
       "        72.13519837]),\n",
       " <a list of 10 Patch objects>)"
      ]
     },
     "execution_count": 55,
     "metadata": {},
     "output_type": "execute_result"
    },
    {
     "data": {
      "image/png": "[encoded data removed]",
      "text/plain": [
       "<Figure size 432x288 with 1 Axes>"
      ]
     },
     "metadata": {
      "needs_background": "light"
     },
     "output_type": "display_data"
    },
    {
     "name": "stdout",
     "output_type": "stream",
     "text": [
      "np.mean(means) : 67.59984472303822\n",
      "np.std(means) : 1.3873129885457822\n"
     ]
    }
   ],
   "source": [
    "np.random.seed(42)\n",
    "pv(\"np.mean(full_data.height)\")\n",
    "pv(\"np.std(full_data.height)\")\n",
    "nb_sample = 5\n",
    "sample1 = full_data.sample(nb_sample)\n",
    "sample1\n",
    "sample1.shape\n",
    "pv(\"np.mean(sample1.height)\")\n",
    "null_hypothesis = 67.60\n",
    "sampling_times = 10_000\n",
    "means = []\n",
    "for _ in range(sampling_times):\n",
    "    boot_sample = full_data.sample(nb_sample)\n",
    "    means.append(boot_sample.height.mean())\n",
    "plt.hist(means);\n",
    "plt.show();\n",
    "pv(\"np.mean(means)\")\n",
    "pv(\"np.std(means)\")\n"
   ]
  },
  {
   "cell_type": "markdown",
   "metadata": {},
   "source": [
    "`3.` Using the null and alternative hypotheses set up in question 1 and the results of your sampling distribution in question 2, simulate the mean values you would expect from the null hypothesis.  Use these simulated values to determine a p-value to make a decision about your null and alternative hypotheses.  Check your solution using **quiz 3** and **quiz 4** below.\n",
    "\n",
    "**Hint:** Use the numpy documentation [here](https://docs.scipy.org/doc/numpy-1.13.0/reference/generated/numpy.random.normal.html) to assist with your solution."
   ]
  },
  {
   "cell_type": "code",
   "execution_count": 49,
   "metadata": {},
   "outputs": [
    {
     "name": "stdout",
     "output_type": "stream",
     "text": [
      "alpha/2  * 100 : 2.5\n",
      "((1-alpha) + alpha/2)  * 100 : 97.5\n",
      "lower, upper : (64.93167771424777, 70.3297488018013)\n",
      "np.mean(means)-np.mean(null_hypothesis_values) : -0.025500615201551113\n"
     ]
    },
    {
     "data": {
      "text/plain": [
       "<matplotlib.lines.Line2D at 0x7f5af7550390>"
      ]
     },
     "execution_count": 49,
     "metadata": {},
     "output_type": "execute_result"
    },
    {
     "data": {
      "text/plain": [
       "<matplotlib.lines.Line2D at 0x7f5af7417b38>"
      ]
     },
     "execution_count": 49,
     "metadata": {},
     "output_type": "execute_result"
    },
    {
     "data": {
      "text/plain": [
       "<matplotlib.lines.Line2D at 0x7f5af6d1d668>"
      ]
     },
     "execution_count": 49,
     "metadata": {},
     "output_type": "execute_result"
    },
    {
     "data": {
      "text/plain": [
       "<matplotlib.lines.Line2D at 0x7f5af77c9828>"
      ]
     },
     "execution_count": 49,
     "metadata": {},
     "output_type": "execute_result"
    },
    {
     "data": {
      "text/plain": [
       "<matplotlib.lines.Line2D at 0x7f5af70594e0>"
      ]
     },
     "execution_count": 49,
     "metadata": {},
     "output_type": "execute_result"
    },
    {
     "data": {
      "text/plain": [
       "<matplotlib.lines.Line2D at 0x7f5af7059a90>"
      ]
     },
     "execution_count": 49,
     "metadata": {},
     "output_type": "execute_result"
    },
    {
     "data": {
      "image/png": "[encoded data removed]",
      "text/plain": [
       "<Figure size 432x288 with 1 Axes>"
      ]
     },
     "metadata": {
      "needs_background": "light"
     },
     "output_type": "display_data"
    },
    {
     "name": "stdout",
     "output_type": "stream",
     "text": [
      "95.0% confident that the value is between 64.9 and 70.3\n",
      "pval : 1.0081\n",
      "p-value= 0.6226\n"
     ]
    }
   ],
   "source": [
    "\n",
    "null_hypothesis_values = np.random.normal(loc=null_hypothesis, scale=np.std(means), size=sampling_times)\n",
    "\n",
    "\n",
    "alpha = 0.05\n",
    "pv(\"alpha/2  * 100\")\n",
    "pv(\"((1-alpha) + alpha/2)  * 100\")\n",
    "lower = np.percentile(null_hypothesis_values, alpha/2  * 100)\n",
    "upper = np.percentile(null_hypothesis_values, ((1-alpha) + alpha/2)  * 100) # np.percentile(mb, [2.5, 97.5])\n",
    "\n",
    "\n",
    "pv(\"lower, upper\")\n",
    "pv(\"np.mean(means)-np.mean(null_hypothesis_values)\")\n",
    "\n",
    "_ = plt.hist(null_hypothesis_values);\n",
    "plt.axvline(x=lower, color='r', linewidth=2);\n",
    "plt.axvline(x=upper, color='r', linewidth=2);\n",
    "plt.axvline(x=sample1.height.mean(), color='b', linewidth=2);\n",
    "plt.axvline(x=null_hypothesis, color='r', linewidth=2);\n",
    "plt.axvline(x=np.mean(means), color='g', linewidth=2);\n",
    "plt.axvline(x=np.mean(null_hypothesis_values), color='y', linewidth=2);\n",
    "plt.show();\n",
    "\n",
    "print('%.1f%% confident that the value is between %.1f and %.1f' % ((1-alpha)*100, lower, upper))\n",
    "\n",
    "# p-value\n",
    "# for a two sided hypothesis, we want to look at anything \n",
    "# more extreme from the null in both directions\n",
    "obs_mean = sample1.height.mean()\n",
    "\n",
    "# probability of a statistic higher than observed\n",
    "prob_more_extreme_high = (null_hypothesis_values > obs_mean).mean()\n",
    "    \n",
    "# probability a statistic is more extreme lower\n",
    "prob_more_extreme_low = (null_hypothesis - (obs_mean - null_hypothesis) < null_hypothesis_values).mean()\n",
    "\n",
    "pval = prob_more_extreme_low + prob_more_extreme_high\n",
    "pv(\"pval\")\n",
    "\n",
    "# this is another way to compute the standard deviation of the sampling distribution theoretically  \n",
    "std_sampling_dist = full_data.height.std()/np.sqrt(nb_sample)  \n",
    "null_sims = np.random.normal(null_hypothesis, std_sampling_dist, sampling_times)  \n",
    "low_ext = (null_hypothesis - (sample1.height.mean() - null_hypothesis))  \n",
    "high_ext = sample1.height.mean()  \n",
    "print(\"p-value=\",(null_sims > high_ext).mean() + (null_sims < low_ext).mean())\n",
    "\n"
   ]
  },
  {
   "cell_type": "markdown",
   "metadata": {},
   "source": [
    "`4.` Now imagine if you received the same sample mean as you calculated from the sample in question 1 above, but that you actually retrieved it from a sample of 300.  What would the new standard deviation be for your sampling distribution for the mean of 300 values?  Additionally, what would your new p-value be for choosing between the null and alternative hypotheses you set up? Simulate the sampling distribution for the mean of five values to see the shape and plot a histogram.  Use your solutions here to answer the second to last quiz question below.\n",
    "\n",
    "**Hint:**  If you get stuck, notice you can use the solution from quiz regarding finding the p-value earlier to assist with obtaining this answer with just a few small changes.\n",
    "\n"
   ]
  },
  {
   "cell_type": "code",
   "execution_count": 61,
   "metadata": {},
   "outputs": [
    {
     "name": "stdout",
     "output_type": "stream",
     "text": [
      "np.mean(full_data.height) : 67.59748697307937\n",
      "np.std(full_data.height) : 3.1189087116821472\n",
      "np.mean(sample1.height) : 67.687610765017\n"
     ]
    },
    {
     "data": {
      "image/png": "[encoded data removed]",
      "text/plain": [
       "<Figure size 432x288 with 1 Axes>"
      ]
     },
     "metadata": {
      "needs_background": "light"
     },
     "output_type": "display_data"
    },
    {
     "name": "stdout",
     "output_type": "stream",
     "text": [
      "np.mean(means) : 67.5988283911597\n",
      "np.std(means) : 0.17076382206590648\n"
     ]
    },
    {
     "data": {
      "image/png": "[encoded data removed]",
      "text/plain": [
       "<Figure size 432x288 with 1 Axes>"
      ]
     },
     "metadata": {
      "needs_background": "light"
     },
     "output_type": "display_data"
    }
   ],
   "source": [
    "np.random.seed(42)\n",
    "pv(\"np.mean(full_data.height)\")\n",
    "pv(\"np.std(full_data.height)\")\n",
    "nb_sample = 300\n",
    "sample1 = full_data.sample(nb_sample)\n",
    "pv(\"np.mean(sample1.height)\")\n",
    "null_hypothesis = 67.60\n",
    "sampling_times = 10_000\n",
    "\n",
    "means = []\n",
    "for _ in range(sampling_times):\n",
    "    boot_sample = full_data.sample(nb_sample) # Why not with replace=True ?\n",
    "    means.append(boot_sample.height.mean())\n",
    "plt.hist(means);\n",
    "plt.show();\n",
    "pv(\"np.mean(means)\")\n",
    "pv(\"np.std(means)\")\n",
    "\n",
    "\n",
    "null_hypothesis_values = np.random.normal(loc=null_hypothesis, scale=np.std(means), size=sampling_times)\n",
    "\n",
    "plt.hist(null_hypothesis_values);\n",
    "plt.show();"
   ]
  },
  {
   "cell_type": "code",
   "execution_count": 58,
   "metadata": {},
   "outputs": [
    {
     "name": "stdout",
     "output_type": "stream",
     "text": [
      "alpha/2  * 100 : 2.5\n",
      "((1-alpha) + alpha/2)  * 100 : 97.5\n",
      "lower, upper : (67.25222466486355, 67.95660471529004)\n",
      "np.mean(means)-np.mean(null_hypothesis_values) : -0.005220997801814065\n"
     ]
    },
    {
     "data": {
      "text/plain": [
       "(array([  15.,   98.,  575., 1562., 2654., 2687., 1681.,  586.,  125.,\n",
       "          17.]),\n",
       " array([66.92853397, 67.06220868, 67.19588338, 67.32955809, 67.46323279,\n",
       "        67.5969075 , 67.73058221, 67.86425691, 67.99793162, 68.13160632,\n",
       "        68.26528103]),\n",
       " <a list of 10 Patch objects>)"
      ]
     },
     "execution_count": 58,
     "metadata": {},
     "output_type": "execute_result"
    },
    {
     "data": {
      "text/plain": [
       "<matplotlib.lines.Line2D at 0x7f5af699da58>"
      ]
     },
     "execution_count": 58,
     "metadata": {},
     "output_type": "execute_result"
    },
    {
     "data": {
      "text/plain": [
       "<matplotlib.lines.Line2D at 0x7f5af69653c8>"
      ]
     },
     "execution_count": 58,
     "metadata": {},
     "output_type": "execute_result"
    },
    {
     "data": {
      "text/plain": [
       "<matplotlib.lines.Line2D at 0x7f5af68fc978>"
      ]
     },
     "execution_count": 58,
     "metadata": {},
     "output_type": "execute_result"
    },
    {
     "data": {
      "text/plain": [
       "<matplotlib.lines.Line2D at 0x7f5af68fcc50>"
      ]
     },
     "execution_count": 58,
     "metadata": {},
     "output_type": "execute_result"
    },
    {
     "data": {
      "text/plain": [
       "<matplotlib.lines.Line2D at 0x7f5af690f1d0>"
      ]
     },
     "execution_count": 58,
     "metadata": {},
     "output_type": "execute_result"
    },
    {
     "data": {
      "image/png": "[encoded data removed]",
      "text/plain": [
       "<Figure size 432x288 with 1 Axes>"
      ]
     },
     "metadata": {
      "needs_background": "light"
     },
     "output_type": "display_data"
    },
    {
     "name": "stdout",
     "output_type": "stream",
     "text": [
      "95.0% confident that the value is between 67.3 and 68.0\n",
      "p-value= 0.6278\n",
      "p-value= 0.6276\n"
     ]
    }
   ],
   "source": [
    "\n",
    "alpha = 0.05\n",
    "pv(\"alpha/2  * 100\")\n",
    "pv(\"((1-alpha) + alpha/2)  * 100\")\n",
    "lower = np.percentile(null_hypothesis_values, alpha/2  * 100)\n",
    "upper = np.percentile(null_hypothesis_values, ((1-alpha) + alpha/2)  * 100) # np.percentile(mb, [2.5, 97.5])\n",
    "\n",
    "\n",
    "pv(\"lower, upper\")\n",
    "pv(\"np.mean(means)-np.mean(null_hypothesis_values)\")\n",
    "\n",
    "plt.hist(null_hypothesis_values);\n",
    "plt.axvline(x=lower, color='r', linewidth=2);\n",
    "plt.axvline(x=upper, color='r', linewidth=2);\n",
    "\n",
    "plt.axvline(x=null_hypothesis, color='r', linewidth=2);\n",
    "plt.axvline(x=np.mean(means), color='g', linewidth=2);\n",
    "plt.axvline(x=np.mean(null_hypothesis_values), color='y', linewidth=2);\n",
    "plt.show();\n",
    "\n",
    "print('%.1f%% confident that the value is between %.1f and %.1f' % ((1-alpha)*100, lower, upper))\n",
    "\n",
    "# p-value\n",
    "low_ext = (null_hypothesis - (sample1.height.mean() - null_hypothesis))  \n",
    "high_ext = sample1.height.mean()\n",
    "print(\"p-value=\",(null_hypothesis_values > high_ext).mean() + (null_hypothesis_values < low_ext).mean())\n",
    "\n",
    "# this is another way to compute the standard deviation of the sampling distribution theoretically  \n",
    "std_sampling_dist = full_data.height.std()/np.sqrt(nb_sample)  \n",
    "null_sims = np.random.normal(null_hypothesis, std_sampling_dist, sampling_times)  \n",
    "low_ext = (null_hypothesis - (sample1.height.mean() - null_hypothesis))  \n",
    "high_ext = sample1.height.mean()  \n",
    "print(\"p-value=\",(null_sims > high_ext).mean() + (null_sims < low_ext).mean())"
   ]
  },
  {
   "cell_type": "markdown",
   "metadata": {},
   "source": [
    "# Multiple Tests\n",
    "In this notebook, you will work with a similar dataset to the judicial dataset you were working with before.  However, instead of working with decisions already being provided, you are provided with a p-value associated with each individual.  \n",
    "\n",
    "Use the questions in the notebook and the dataset to answer the questions at the bottom of this page.\n",
    "\n",
    "Here is a glimpse of the data you will be working with:"
   ]
  },
  {
   "cell_type": "code",
   "execution_count": 64,
   "metadata": {},
   "outputs": [
    {
     "data": {
      "text/html": [
       "<div>\n",
       "<style scoped>\n",
       "    .dataframe tbody tr th:only-of-type {\n",
       "        vertical-align: middle;\n",
       "    }\n",
       "\n",
       "    .dataframe tbody tr th {\n",
       "        vertical-align: top;\n",
       "    }\n",
       "\n",
       "    .dataframe thead th {\n",
       "        text-align: right;\n",
       "    }\n",
       "</style>\n",
       "<table border=\"1\" class=\"dataframe\">\n",
       "  <thead>\n",
       "    <tr style=\"text-align: right;\">\n",
       "      <th></th>\n",
       "      <th>defendant_id</th>\n",
       "      <th>actual</th>\n",
       "      <th>pvalue</th>\n",
       "    </tr>\n",
       "  </thead>\n",
       "  <tbody>\n",
       "    <tr>\n",
       "      <th>0</th>\n",
       "      <td>22574</td>\n",
       "      <td>innocent</td>\n",
       "      <td>0.294126</td>\n",
       "    </tr>\n",
       "    <tr>\n",
       "      <th>1</th>\n",
       "      <td>35637</td>\n",
       "      <td>innocent</td>\n",
       "      <td>0.417981</td>\n",
       "    </tr>\n",
       "    <tr>\n",
       "      <th>2</th>\n",
       "      <td>39919</td>\n",
       "      <td>innocent</td>\n",
       "      <td>0.177542</td>\n",
       "    </tr>\n",
       "    <tr>\n",
       "      <th>3</th>\n",
       "      <td>29610</td>\n",
       "      <td>guilty</td>\n",
       "      <td>0.015023</td>\n",
       "    </tr>\n",
       "    <tr>\n",
       "      <th>4</th>\n",
       "      <td>38273</td>\n",
       "      <td>innocent</td>\n",
       "      <td>0.075371</td>\n",
       "    </tr>\n",
       "  </tbody>\n",
       "</table>\n",
       "</div>"
      ],
      "text/plain": [
       "   defendant_id    actual    pvalue\n",
       "0         22574  innocent  0.294126\n",
       "1         35637  innocent  0.417981\n",
       "2         39919  innocent  0.177542\n",
       "3         29610    guilty  0.015023\n",
       "4         38273  innocent  0.075371"
      ]
     },
     "execution_count": 64,
     "metadata": {},
     "output_type": "execute_result"
    }
   ],
   "source": [
    "import numpy as np\n",
    "import pandas as pd\n",
    "\n",
    "df = pd.read_csv('judicial_dataset_pvalues.csv')\n",
    "df.head()"
   ]
  },
  {
   "cell_type": "markdown",
   "metadata": {},
   "source": [
    "`1.` Remember back to the null and alternative hypotheses for this example. Use that information to determine the answer for **Quiz 1** and **Quiz 2** below.\n",
    "`2.` If we consider each individual as a single hypothesis test, find the conservative Bonferroni corrected alpha level we should use to maintain a 5% type I error rate.\n",
    "\n",
    "`3.` What is the proportion of type I errors made if the correction isn't used?  How about if it is used?  \n",
    "\n",
    "Use your answers to find the solution to **Quiz 3** below."
   ]
  },
  {
   "cell_type": "code",
   "execution_count": 71,
   "metadata": {},
   "outputs": [
    {
     "name": "stdout",
     "output_type": "stream",
     "text": [
      "Bonferroni : 6.86530275985171e-06\n"
     ]
    },
    {
     "data": {
      "text/plain": [
       "0.001510366607167376"
      ]
     },
     "execution_count": 71,
     "metadata": {},
     "output_type": "execute_result"
    },
    {
     "data": {
      "text/plain": [
       "0.0"
      ]
     },
     "execution_count": 71,
     "metadata": {},
     "output_type": "execute_result"
    }
   ],
   "source": [
    "alpha = 0.05\n",
    "nb_test=jud_data.shape[0]\n",
    "Bonferroni = alpha / nb_test\n",
    "pv('Bonferroni')\n",
    "\n",
    "# p-value : The probability of us observing the facts about an individual's case that are in favor of them being guilty, assuming they are truly innocent.\n",
    "# In order to find the number of type I errors made without the correction - we need to find all those that are actually innocent with p-values less than 0.05.\n",
    "df.query(\"actual == 'innocent' and pvalue < 0.05\").count()[0]/df.shape[0] # If not used\n",
    "df.query(\"actual == 'innocent' and pvalue < @Bonferroni\").count()[0]/df.shape[0] # If used"
   ]
  },
  {
   "cell_type": "markdown",
   "metadata": {},
   "source": [
    "`4.` Think about how hypothesis tests can be used, and why this example wouldn't exactly work in terms of being able to use hypothesis testing in this way.  Check your answer with **Quiz 4** below."
   ]
  },
  {
   "cell_type": "markdown",
   "metadata": {},
   "source": [
    "**This is looking at individuals, and that is more of the aim for machine learning techniques.  Hypothesis testing and confidence intervals are for population parameters. Therefore, they are not meant to tell us about individual cases, and we wouldn't obtain p-values for individuals in this way. We could get probabilities, but that isn't the same as the probabilities associated with the relationship to sampling distributions as you have seen in these lessons.**"
   ]
  },
  {
   "cell_type": "code",
   "execution_count": null,
   "metadata": {},
   "outputs": [],
   "source": []
  }
 ],
 "metadata": {
  "kernelspec": {
   "display_name": "Python 3",
   "language": "python",
   "name": "python3"
  },
  "language_info": {
   "codemirror_mode": {
    "name": "ipython",
    "version": 3
   },
   "file_extension": ".py",
   "mimetype": "text/x-python",
   "name": "python",
   "nbconvert_exporter": "python",
   "pygments_lexer": "ipython3",
   "version": "3.7.1"
  },
  "widgets": {
   "state": {},
   "version": "1.1.2"
  }
 },
 "nbformat": 4,
 "nbformat_minor": 2
}
