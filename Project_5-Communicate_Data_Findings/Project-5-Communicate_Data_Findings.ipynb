{
 "cells": [
  {
   "cell_type": "markdown",
   "metadata": {},
   "source": [
    "# Flights in the United States\n",
    "## by Benoît Courty\n",
    "\n",
    "## Preliminary Wrangling\n",
    "\n",
    "This dataset reports flights in the United States, including carriers, arrival and departure delays, and reasons for delays, from 1987 to 2008."
   ]
  },
  {
   "cell_type": "code",
   "execution_count": 1,
   "metadata": {},
   "outputs": [],
   "source": [
    "# Put these at the top of every notebook, to get automatic reloading and inline plotting\n",
    "%reload_ext autoreload\n",
    "%autoreload 2\n",
    "%matplotlib inline\n",
    "from IPython.core.interactiveshell import InteractiveShell\n",
    "InteractiveShell.ast_node_interactivity = \"all\"\n",
    "def pv(variable):\n",
    "    if(len(variable)>1): print(variable, \":\", eval(variable))"
   ]
  },
  {
   "cell_type": "markdown",
   "metadata": {},
   "source": [
    "Note :\n",
    "    https://blog.hugo-larcher.com/flight-data-visualisation-with-pandas-and-matplotlib-ebbd13038647 : Affichage des trajets des avions.\n",
    "            => Flight with most delay for exemple.\n",
    "           \n",
    "Affichage de ville sur la carte :\n",
    "https://gis.stackexchange.com/questions/198530/plotting-us-cities-on-a-map-with-matplotlib-and-basemap\n",
    "/!\\ Nécessite Basemap, qui ne s'intalle pas faccilement avec Pip :("
   ]
  },
  {
   "cell_type": "code",
   "execution_count": 2,
   "metadata": {},
   "outputs": [],
   "source": [
    "# import all packages and set plots to be embedded inline\n",
    "import numpy as np\n",
    "import pandas as pd\n",
    "import matplotlib.pyplot as plt\n",
    "import seaborn as sns\n",
    "\n",
    "%matplotlib inline"
   ]
  },
  {
   "cell_type": "markdown",
   "metadata": {},
   "source": [
    "> Load in your dataset and describe its properties through the questions below.\n",
    "Try and motivate your exploration goals through this section.\n",
    "\n",
    "### Downloading the datasets\n",
    "\n",
    "The dataset consisist of a file per year.\n",
    "\n",
    "We will look over a list of availiable years and download the files.\n",
    "\n",
    "Source : \n",
    "http://stat-computing.org/dataexpo/2009/1987.csv.bz2"
   ]
  },
  {
   "cell_type": "code",
   "execution_count": 3,
   "metadata": {},
   "outputs": [
    {
     "name": "stdout",
     "output_type": "stream",
     "text": [
      "[]\n"
     ]
    }
   ],
   "source": [
    "import os\n",
    "import requests\n",
    "folder_name = \"./\"\n",
    "\n",
    "def download_files(folder_name):\n",
    "    years = []\n",
    "    for year in range(1987, 2008):\n",
    "        years.append(year)  \n",
    "        url = \"http://stat-computing.org/dataexpo/2009/\" + str(year) + \".csv.bz2\"\n",
    "        filename = url.split('/')[-1]\n",
    "        response = requests.get(url)\n",
    "        with open(os.path.join(folder_name, filename), mode='wb') as file:\n",
    "            file.write(response.content)\n",
    "    print(\"Files retreived !\")\n",
    "    return years\n",
    "\n",
    "years = []\n",
    "#years = download_files(folder_name)\n",
    "print(years)"
   ]
  },
  {
   "cell_type": "markdown",
   "metadata": {},
   "source": [
    "### Loading the dataset"
   ]
  },
  {
   "cell_type": "code",
   "execution_count": 4,
   "metadata": {},
   "outputs": [
    {
     "name": "stdout",
     "output_type": "stream",
     "text": [
      "./2006.csv.bz2\n"
     ]
    }
   ],
   "source": [
    "import pandas as pd\n",
    "\n",
    "\n",
    "years = ['2006']\n",
    "df = pd.DataFrame()\n",
    "for year in years:\n",
    "    datafilename = folder_name + year + '.csv.bz2'\n",
    "    print(datafilename)\n",
    "    df_temp = pd.read_csv(datafilename)\n",
    "    df = pd.concat([df, df_temp])\n"
   ]
  },
  {
   "cell_type": "markdown",
   "metadata": {},
   "source": [
    "Get a rapid overview of it."
   ]
  },
  {
   "cell_type": "code",
   "execution_count": 5,
   "metadata": {},
   "outputs": [
    {
     "data": {
      "text/html": [
       "<div>\n",
       "<style scoped>\n",
       "    .dataframe tbody tr th:only-of-type {\n",
       "        vertical-align: middle;\n",
       "    }\n",
       "\n",
       "    .dataframe tbody tr th {\n",
       "        vertical-align: top;\n",
       "    }\n",
       "\n",
       "    .dataframe thead th {\n",
       "        text-align: right;\n",
       "    }\n",
       "</style>\n",
       "<table border=\"1\" class=\"dataframe\">\n",
       "  <thead>\n",
       "    <tr style=\"text-align: right;\">\n",
       "      <th></th>\n",
       "      <th>Year</th>\n",
       "      <th>Month</th>\n",
       "      <th>DayofMonth</th>\n",
       "      <th>DayOfWeek</th>\n",
       "      <th>DepTime</th>\n",
       "      <th>CRSDepTime</th>\n",
       "      <th>ArrTime</th>\n",
       "      <th>CRSArrTime</th>\n",
       "      <th>UniqueCarrier</th>\n",
       "      <th>FlightNum</th>\n",
       "      <th>...</th>\n",
       "      <th>TaxiIn</th>\n",
       "      <th>TaxiOut</th>\n",
       "      <th>Cancelled</th>\n",
       "      <th>CancellationCode</th>\n",
       "      <th>Diverted</th>\n",
       "      <th>CarrierDelay</th>\n",
       "      <th>WeatherDelay</th>\n",
       "      <th>NASDelay</th>\n",
       "      <th>SecurityDelay</th>\n",
       "      <th>LateAircraftDelay</th>\n",
       "    </tr>\n",
       "  </thead>\n",
       "  <tbody>\n",
       "    <tr>\n",
       "      <th>0</th>\n",
       "      <td>2006</td>\n",
       "      <td>1</td>\n",
       "      <td>11</td>\n",
       "      <td>3</td>\n",
       "      <td>743.0</td>\n",
       "      <td>745</td>\n",
       "      <td>1024.0</td>\n",
       "      <td>1018</td>\n",
       "      <td>US</td>\n",
       "      <td>343</td>\n",
       "      <td>...</td>\n",
       "      <td>45</td>\n",
       "      <td>13</td>\n",
       "      <td>0</td>\n",
       "      <td>NaN</td>\n",
       "      <td>0</td>\n",
       "      <td>0</td>\n",
       "      <td>0</td>\n",
       "      <td>0</td>\n",
       "      <td>0</td>\n",
       "      <td>0</td>\n",
       "    </tr>\n",
       "    <tr>\n",
       "      <th>1</th>\n",
       "      <td>2006</td>\n",
       "      <td>1</td>\n",
       "      <td>11</td>\n",
       "      <td>3</td>\n",
       "      <td>1053.0</td>\n",
       "      <td>1053</td>\n",
       "      <td>1313.0</td>\n",
       "      <td>1318</td>\n",
       "      <td>US</td>\n",
       "      <td>613</td>\n",
       "      <td>...</td>\n",
       "      <td>27</td>\n",
       "      <td>19</td>\n",
       "      <td>0</td>\n",
       "      <td>NaN</td>\n",
       "      <td>0</td>\n",
       "      <td>0</td>\n",
       "      <td>0</td>\n",
       "      <td>0</td>\n",
       "      <td>0</td>\n",
       "      <td>0</td>\n",
       "    </tr>\n",
       "    <tr>\n",
       "      <th>2</th>\n",
       "      <td>2006</td>\n",
       "      <td>1</td>\n",
       "      <td>11</td>\n",
       "      <td>3</td>\n",
       "      <td>1915.0</td>\n",
       "      <td>1915</td>\n",
       "      <td>2110.0</td>\n",
       "      <td>2133</td>\n",
       "      <td>US</td>\n",
       "      <td>617</td>\n",
       "      <td>...</td>\n",
       "      <td>4</td>\n",
       "      <td>11</td>\n",
       "      <td>0</td>\n",
       "      <td>NaN</td>\n",
       "      <td>0</td>\n",
       "      <td>0</td>\n",
       "      <td>0</td>\n",
       "      <td>0</td>\n",
       "      <td>0</td>\n",
       "      <td>0</td>\n",
       "    </tr>\n",
       "  </tbody>\n",
       "</table>\n",
       "<p>3 rows × 29 columns</p>\n",
       "</div>"
      ],
      "text/plain": [
       "   Year  Month  DayofMonth  DayOfWeek  DepTime  CRSDepTime  ArrTime  \\\n",
       "0  2006      1          11          3    743.0         745   1024.0   \n",
       "1  2006      1          11          3   1053.0        1053   1313.0   \n",
       "2  2006      1          11          3   1915.0        1915   2110.0   \n",
       "\n",
       "   CRSArrTime UniqueCarrier  FlightNum        ...         TaxiIn  TaxiOut  \\\n",
       "0        1018            US        343        ...             45       13   \n",
       "1        1318            US        613        ...             27       19   \n",
       "2        2133            US        617        ...              4       11   \n",
       "\n",
       "   Cancelled  CancellationCode  Diverted  CarrierDelay WeatherDelay NASDelay  \\\n",
       "0          0               NaN         0             0            0        0   \n",
       "1          0               NaN         0             0            0        0   \n",
       "2          0               NaN         0             0            0        0   \n",
       "\n",
       "   SecurityDelay  LateAircraftDelay  \n",
       "0              0                  0  \n",
       "1              0                  0  \n",
       "2              0                  0  \n",
       "\n",
       "[3 rows x 29 columns]"
      ]
     },
     "execution_count": 5,
     "metadata": {},
     "output_type": "execute_result"
    },
    {
     "data": {
      "text/html": [
       "<div>\n",
       "<style scoped>\n",
       "    .dataframe tbody tr th:only-of-type {\n",
       "        vertical-align: middle;\n",
       "    }\n",
       "\n",
       "    .dataframe tbody tr th {\n",
       "        vertical-align: top;\n",
       "    }\n",
       "\n",
       "    .dataframe thead th {\n",
       "        text-align: right;\n",
       "    }\n",
       "</style>\n",
       "<table border=\"1\" class=\"dataframe\">\n",
       "  <thead>\n",
       "    <tr style=\"text-align: right;\">\n",
       "      <th></th>\n",
       "      <th>Year</th>\n",
       "      <th>Month</th>\n",
       "      <th>DayofMonth</th>\n",
       "      <th>DayOfWeek</th>\n",
       "      <th>DepTime</th>\n",
       "      <th>CRSDepTime</th>\n",
       "      <th>ArrTime</th>\n",
       "      <th>CRSArrTime</th>\n",
       "      <th>UniqueCarrier</th>\n",
       "      <th>FlightNum</th>\n",
       "      <th>...</th>\n",
       "      <th>TaxiIn</th>\n",
       "      <th>TaxiOut</th>\n",
       "      <th>Cancelled</th>\n",
       "      <th>CancellationCode</th>\n",
       "      <th>Diverted</th>\n",
       "      <th>CarrierDelay</th>\n",
       "      <th>WeatherDelay</th>\n",
       "      <th>NASDelay</th>\n",
       "      <th>SecurityDelay</th>\n",
       "      <th>LateAircraftDelay</th>\n",
       "    </tr>\n",
       "  </thead>\n",
       "  <tbody>\n",
       "    <tr>\n",
       "      <th>7141919</th>\n",
       "      <td>2006</td>\n",
       "      <td>12</td>\n",
       "      <td>29</td>\n",
       "      <td>5</td>\n",
       "      <td>2118.0</td>\n",
       "      <td>2115</td>\n",
       "      <td>2254.0</td>\n",
       "      <td>2241</td>\n",
       "      <td>DL</td>\n",
       "      <td>1676</td>\n",
       "      <td>...</td>\n",
       "      <td>9</td>\n",
       "      <td>27</td>\n",
       "      <td>0</td>\n",
       "      <td>NaN</td>\n",
       "      <td>0</td>\n",
       "      <td>0</td>\n",
       "      <td>0</td>\n",
       "      <td>0</td>\n",
       "      <td>0</td>\n",
       "      <td>0</td>\n",
       "    </tr>\n",
       "    <tr>\n",
       "      <th>7141920</th>\n",
       "      <td>2006</td>\n",
       "      <td>12</td>\n",
       "      <td>29</td>\n",
       "      <td>5</td>\n",
       "      <td>2122.0</td>\n",
       "      <td>2127</td>\n",
       "      <td>2209.0</td>\n",
       "      <td>2223</td>\n",
       "      <td>DL</td>\n",
       "      <td>1677</td>\n",
       "      <td>...</td>\n",
       "      <td>5</td>\n",
       "      <td>21</td>\n",
       "      <td>0</td>\n",
       "      <td>NaN</td>\n",
       "      <td>0</td>\n",
       "      <td>0</td>\n",
       "      <td>0</td>\n",
       "      <td>0</td>\n",
       "      <td>0</td>\n",
       "      <td>0</td>\n",
       "    </tr>\n",
       "    <tr>\n",
       "      <th>7141921</th>\n",
       "      <td>2006</td>\n",
       "      <td>12</td>\n",
       "      <td>29</td>\n",
       "      <td>5</td>\n",
       "      <td>2042.0</td>\n",
       "      <td>2045</td>\n",
       "      <td>2213.0</td>\n",
       "      <td>2235</td>\n",
       "      <td>DL</td>\n",
       "      <td>1678</td>\n",
       "      <td>...</td>\n",
       "      <td>5</td>\n",
       "      <td>15</td>\n",
       "      <td>0</td>\n",
       "      <td>NaN</td>\n",
       "      <td>0</td>\n",
       "      <td>0</td>\n",
       "      <td>0</td>\n",
       "      <td>0</td>\n",
       "      <td>0</td>\n",
       "      <td>0</td>\n",
       "    </tr>\n",
       "  </tbody>\n",
       "</table>\n",
       "<p>3 rows × 29 columns</p>\n",
       "</div>"
      ],
      "text/plain": [
       "         Year  Month  DayofMonth  DayOfWeek  DepTime  CRSDepTime  ArrTime  \\\n",
       "7141919  2006     12          29          5   2118.0        2115   2254.0   \n",
       "7141920  2006     12          29          5   2122.0        2127   2209.0   \n",
       "7141921  2006     12          29          5   2042.0        2045   2213.0   \n",
       "\n",
       "         CRSArrTime UniqueCarrier  FlightNum        ...         TaxiIn  \\\n",
       "7141919        2241            DL       1676        ...              9   \n",
       "7141920        2223            DL       1677        ...              5   \n",
       "7141921        2235            DL       1678        ...              5   \n",
       "\n",
       "         TaxiOut  Cancelled  CancellationCode  Diverted  CarrierDelay  \\\n",
       "7141919       27          0               NaN         0             0   \n",
       "7141920       21          0               NaN         0             0   \n",
       "7141921       15          0               NaN         0             0   \n",
       "\n",
       "        WeatherDelay NASDelay  SecurityDelay  LateAircraftDelay  \n",
       "7141919            0        0              0                  0  \n",
       "7141920            0        0              0                  0  \n",
       "7141921            0        0              0                  0  \n",
       "\n",
       "[3 rows x 29 columns]"
      ]
     },
     "execution_count": 5,
     "metadata": {},
     "output_type": "execute_result"
    },
    {
     "data": {
      "text/plain": [
       "Index(['Year', 'Month', 'DayofMonth', 'DayOfWeek', 'DepTime', 'CRSDepTime',\n",
       "       'ArrTime', 'CRSArrTime', 'UniqueCarrier', 'FlightNum', 'TailNum',\n",
       "       'ActualElapsedTime', 'CRSElapsedTime', 'AirTime', 'ArrDelay',\n",
       "       'DepDelay', 'Origin', 'Dest', 'Distance', 'TaxiIn', 'TaxiOut',\n",
       "       'Cancelled', 'CancellationCode', 'Diverted', 'CarrierDelay',\n",
       "       'WeatherDelay', 'NASDelay', 'SecurityDelay', 'LateAircraftDelay'],\n",
       "      dtype='object')"
      ]
     },
     "execution_count": 5,
     "metadata": {},
     "output_type": "execute_result"
    },
    {
     "data": {
      "text/plain": [
       "Year                   int64\n",
       "Month                  int64\n",
       "DayofMonth             int64\n",
       "DayOfWeek              int64\n",
       "DepTime              float64\n",
       "CRSDepTime             int64\n",
       "ArrTime              float64\n",
       "CRSArrTime             int64\n",
       "UniqueCarrier         object\n",
       "FlightNum              int64\n",
       "TailNum               object\n",
       "ActualElapsedTime    float64\n",
       "CRSElapsedTime       float64\n",
       "AirTime              float64\n",
       "ArrDelay             float64\n",
       "DepDelay             float64\n",
       "Origin                object\n",
       "Dest                  object\n",
       "Distance               int64\n",
       "TaxiIn                 int64\n",
       "TaxiOut                int64\n",
       "Cancelled              int64\n",
       "CancellationCode      object\n",
       "Diverted               int64\n",
       "CarrierDelay           int64\n",
       "WeatherDelay           int64\n",
       "NASDelay               int64\n",
       "SecurityDelay          int64\n",
       "LateAircraftDelay      int64\n",
       "dtype: object"
      ]
     },
     "execution_count": 5,
     "metadata": {},
     "output_type": "execute_result"
    },
    {
     "data": {
      "text/html": [
       "<div>\n",
       "<style scoped>\n",
       "    .dataframe tbody tr th:only-of-type {\n",
       "        vertical-align: middle;\n",
       "    }\n",
       "\n",
       "    .dataframe tbody tr th {\n",
       "        vertical-align: top;\n",
       "    }\n",
       "\n",
       "    .dataframe thead th {\n",
       "        text-align: right;\n",
       "    }\n",
       "</style>\n",
       "<table border=\"1\" class=\"dataframe\">\n",
       "  <thead>\n",
       "    <tr style=\"text-align: right;\">\n",
       "      <th></th>\n",
       "      <th>Year</th>\n",
       "      <th>Month</th>\n",
       "      <th>DayofMonth</th>\n",
       "      <th>DayOfWeek</th>\n",
       "      <th>DepTime</th>\n",
       "      <th>CRSDepTime</th>\n",
       "      <th>ArrTime</th>\n",
       "      <th>CRSArrTime</th>\n",
       "      <th>FlightNum</th>\n",
       "      <th>ActualElapsedTime</th>\n",
       "      <th>...</th>\n",
       "      <th>Distance</th>\n",
       "      <th>TaxiIn</th>\n",
       "      <th>TaxiOut</th>\n",
       "      <th>Cancelled</th>\n",
       "      <th>Diverted</th>\n",
       "      <th>CarrierDelay</th>\n",
       "      <th>WeatherDelay</th>\n",
       "      <th>NASDelay</th>\n",
       "      <th>SecurityDelay</th>\n",
       "      <th>LateAircraftDelay</th>\n",
       "    </tr>\n",
       "  </thead>\n",
       "  <tbody>\n",
       "    <tr>\n",
       "      <th>count</th>\n",
       "      <td>7141922.0</td>\n",
       "      <td>7.141922e+06</td>\n",
       "      <td>7.141922e+06</td>\n",
       "      <td>7.141922e+06</td>\n",
       "      <td>7.019988e+06</td>\n",
       "      <td>7.141922e+06</td>\n",
       "      <td>7.003802e+06</td>\n",
       "      <td>7.141922e+06</td>\n",
       "      <td>7.141922e+06</td>\n",
       "      <td>7.003802e+06</td>\n",
       "      <td>...</td>\n",
       "      <td>7.141922e+06</td>\n",
       "      <td>7.141922e+06</td>\n",
       "      <td>7.141922e+06</td>\n",
       "      <td>7.141922e+06</td>\n",
       "      <td>7.141922e+06</td>\n",
       "      <td>7.141922e+06</td>\n",
       "      <td>7.141922e+06</td>\n",
       "      <td>7.141922e+06</td>\n",
       "      <td>7.141922e+06</td>\n",
       "      <td>7.141922e+06</td>\n",
       "    </tr>\n",
       "    <tr>\n",
       "      <th>mean</th>\n",
       "      <td>2006.0</td>\n",
       "      <td>6.562766e+00</td>\n",
       "      <td>1.573063e+01</td>\n",
       "      <td>3.949934e+00</td>\n",
       "      <td>1.340392e+03</td>\n",
       "      <td>1.332248e+03</td>\n",
       "      <td>1.486921e+03</td>\n",
       "      <td>1.495765e+03</td>\n",
       "      <td>2.186765e+03</td>\n",
       "      <td>1.260601e+02</td>\n",
       "      <td>...</td>\n",
       "      <td>7.279974e+02</td>\n",
       "      <td>7.061624e+00</td>\n",
       "      <td>1.574530e+01</td>\n",
       "      <td>1.707300e-02</td>\n",
       "      <td>2.266337e-03</td>\n",
       "      <td>3.396186e+00</td>\n",
       "      <td>6.796270e-01</td>\n",
       "      <td>3.585970e+00</td>\n",
       "      <td>3.099600e-02</td>\n",
       "      <td>4.515005e+00</td>\n",
       "    </tr>\n",
       "    <tr>\n",
       "      <th>std</th>\n",
       "      <td>0.0</td>\n",
       "      <td>3.424931e+00</td>\n",
       "      <td>8.786689e+00</td>\n",
       "      <td>1.991913e+00</td>\n",
       "      <td>4.765090e+02</td>\n",
       "      <td>4.625505e+02</td>\n",
       "      <td>5.008019e+02</td>\n",
       "      <td>4.786718e+02</td>\n",
       "      <td>1.989384e+03</td>\n",
       "      <td>7.131959e+01</td>\n",
       "      <td>...</td>\n",
       "      <td>5.745307e+02</td>\n",
       "      <td>3.112340e+01</td>\n",
       "      <td>1.127117e+01</td>\n",
       "      <td>1.295435e-01</td>\n",
       "      <td>4.755208e-02</td>\n",
       "      <td>1.880046e+01</td>\n",
       "      <td>8.492678e+00</td>\n",
       "      <td>1.562795e+01</td>\n",
       "      <td>1.277919e+00</td>\n",
       "      <td>1.986008e+01</td>\n",
       "    </tr>\n",
       "    <tr>\n",
       "      <th>min</th>\n",
       "      <td>2006.0</td>\n",
       "      <td>1.000000e+00</td>\n",
       "      <td>1.000000e+00</td>\n",
       "      <td>1.000000e+00</td>\n",
       "      <td>1.000000e+00</td>\n",
       "      <td>0.000000e+00</td>\n",
       "      <td>1.000000e+00</td>\n",
       "      <td>0.000000e+00</td>\n",
       "      <td>1.000000e+00</td>\n",
       "      <td>5.000000e+00</td>\n",
       "      <td>...</td>\n",
       "      <td>1.100000e+01</td>\n",
       "      <td>0.000000e+00</td>\n",
       "      <td>0.000000e+00</td>\n",
       "      <td>0.000000e+00</td>\n",
       "      <td>0.000000e+00</td>\n",
       "      <td>0.000000e+00</td>\n",
       "      <td>0.000000e+00</td>\n",
       "      <td>0.000000e+00</td>\n",
       "      <td>0.000000e+00</td>\n",
       "      <td>0.000000e+00</td>\n",
       "    </tr>\n",
       "    <tr>\n",
       "      <th>25%</th>\n",
       "      <td>2006.0</td>\n",
       "      <td>4.000000e+00</td>\n",
       "      <td>8.000000e+00</td>\n",
       "      <td>2.000000e+00</td>\n",
       "      <td>9.300000e+02</td>\n",
       "      <td>9.300000e+02</td>\n",
       "      <td>1.110000e+03</td>\n",
       "      <td>1.115000e+03</td>\n",
       "      <td>5.840000e+02</td>\n",
       "      <td>7.500000e+01</td>\n",
       "      <td>...</td>\n",
       "      <td>3.160000e+02</td>\n",
       "      <td>4.000000e+00</td>\n",
       "      <td>1.000000e+01</td>\n",
       "      <td>0.000000e+00</td>\n",
       "      <td>0.000000e+00</td>\n",
       "      <td>0.000000e+00</td>\n",
       "      <td>0.000000e+00</td>\n",
       "      <td>0.000000e+00</td>\n",
       "      <td>0.000000e+00</td>\n",
       "      <td>0.000000e+00</td>\n",
       "    </tr>\n",
       "    <tr>\n",
       "      <th>50%</th>\n",
       "      <td>2006.0</td>\n",
       "      <td>7.000000e+00</td>\n",
       "      <td>1.600000e+01</td>\n",
       "      <td>4.000000e+00</td>\n",
       "      <td>1.330000e+03</td>\n",
       "      <td>1.325000e+03</td>\n",
       "      <td>1.516000e+03</td>\n",
       "      <td>1.519000e+03</td>\n",
       "      <td>1.493000e+03</td>\n",
       "      <td>1.070000e+02</td>\n",
       "      <td>...</td>\n",
       "      <td>5.740000e+02</td>\n",
       "      <td>5.000000e+00</td>\n",
       "      <td>1.300000e+01</td>\n",
       "      <td>0.000000e+00</td>\n",
       "      <td>0.000000e+00</td>\n",
       "      <td>0.000000e+00</td>\n",
       "      <td>0.000000e+00</td>\n",
       "      <td>0.000000e+00</td>\n",
       "      <td>0.000000e+00</td>\n",
       "      <td>0.000000e+00</td>\n",
       "    </tr>\n",
       "    <tr>\n",
       "      <th>75%</th>\n",
       "      <td>2006.0</td>\n",
       "      <td>1.000000e+01</td>\n",
       "      <td>2.300000e+01</td>\n",
       "      <td>6.000000e+00</td>\n",
       "      <td>1.732000e+03</td>\n",
       "      <td>1.720000e+03</td>\n",
       "      <td>1.911000e+03</td>\n",
       "      <td>1.906000e+03</td>\n",
       "      <td>3.442000e+03</td>\n",
       "      <td>1.560000e+02</td>\n",
       "      <td>...</td>\n",
       "      <td>9.560000e+02</td>\n",
       "      <td>8.000000e+00</td>\n",
       "      <td>1.800000e+01</td>\n",
       "      <td>0.000000e+00</td>\n",
       "      <td>0.000000e+00</td>\n",
       "      <td>0.000000e+00</td>\n",
       "      <td>0.000000e+00</td>\n",
       "      <td>0.000000e+00</td>\n",
       "      <td>0.000000e+00</td>\n",
       "      <td>0.000000e+00</td>\n",
       "    </tr>\n",
       "    <tr>\n",
       "      <th>max</th>\n",
       "      <td>2006.0</td>\n",
       "      <td>1.200000e+01</td>\n",
       "      <td>3.100000e+01</td>\n",
       "      <td>7.000000e+00</td>\n",
       "      <td>2.930000e+03</td>\n",
       "      <td>2.359000e+03</td>\n",
       "      <td>2.955000e+03</td>\n",
       "      <td>2.359000e+03</td>\n",
       "      <td>9.619000e+03</td>\n",
       "      <td>1.879000e+03</td>\n",
       "      <td>...</td>\n",
       "      <td>4.962000e+03</td>\n",
       "      <td>1.501000e+03</td>\n",
       "      <td>6.020000e+02</td>\n",
       "      <td>1.000000e+00</td>\n",
       "      <td>1.000000e+00</td>\n",
       "      <td>1.666000e+03</td>\n",
       "      <td>1.163000e+03</td>\n",
       "      <td>1.392000e+03</td>\n",
       "      <td>3.540000e+02</td>\n",
       "      <td>1.366000e+03</td>\n",
       "    </tr>\n",
       "  </tbody>\n",
       "</table>\n",
       "<p>8 rows × 24 columns</p>\n",
       "</div>"
      ],
      "text/plain": [
       "            Year         Month    DayofMonth     DayOfWeek       DepTime  \\\n",
       "count  7141922.0  7.141922e+06  7.141922e+06  7.141922e+06  7.019988e+06   \n",
       "mean      2006.0  6.562766e+00  1.573063e+01  3.949934e+00  1.340392e+03   \n",
       "std          0.0  3.424931e+00  8.786689e+00  1.991913e+00  4.765090e+02   \n",
       "min       2006.0  1.000000e+00  1.000000e+00  1.000000e+00  1.000000e+00   \n",
       "25%       2006.0  4.000000e+00  8.000000e+00  2.000000e+00  9.300000e+02   \n",
       "50%       2006.0  7.000000e+00  1.600000e+01  4.000000e+00  1.330000e+03   \n",
       "75%       2006.0  1.000000e+01  2.300000e+01  6.000000e+00  1.732000e+03   \n",
       "max       2006.0  1.200000e+01  3.100000e+01  7.000000e+00  2.930000e+03   \n",
       "\n",
       "         CRSDepTime       ArrTime    CRSArrTime     FlightNum  \\\n",
       "count  7.141922e+06  7.003802e+06  7.141922e+06  7.141922e+06   \n",
       "mean   1.332248e+03  1.486921e+03  1.495765e+03  2.186765e+03   \n",
       "std    4.625505e+02  5.008019e+02  4.786718e+02  1.989384e+03   \n",
       "min    0.000000e+00  1.000000e+00  0.000000e+00  1.000000e+00   \n",
       "25%    9.300000e+02  1.110000e+03  1.115000e+03  5.840000e+02   \n",
       "50%    1.325000e+03  1.516000e+03  1.519000e+03  1.493000e+03   \n",
       "75%    1.720000e+03  1.911000e+03  1.906000e+03  3.442000e+03   \n",
       "max    2.359000e+03  2.955000e+03  2.359000e+03  9.619000e+03   \n",
       "\n",
       "       ActualElapsedTime        ...              Distance        TaxiIn  \\\n",
       "count       7.003802e+06        ...          7.141922e+06  7.141922e+06   \n",
       "mean        1.260601e+02        ...          7.279974e+02  7.061624e+00   \n",
       "std         7.131959e+01        ...          5.745307e+02  3.112340e+01   \n",
       "min         5.000000e+00        ...          1.100000e+01  0.000000e+00   \n",
       "25%         7.500000e+01        ...          3.160000e+02  4.000000e+00   \n",
       "50%         1.070000e+02        ...          5.740000e+02  5.000000e+00   \n",
       "75%         1.560000e+02        ...          9.560000e+02  8.000000e+00   \n",
       "max         1.879000e+03        ...          4.962000e+03  1.501000e+03   \n",
       "\n",
       "            TaxiOut     Cancelled      Diverted  CarrierDelay  WeatherDelay  \\\n",
       "count  7.141922e+06  7.141922e+06  7.141922e+06  7.141922e+06  7.141922e+06   \n",
       "mean   1.574530e+01  1.707300e-02  2.266337e-03  3.396186e+00  6.796270e-01   \n",
       "std    1.127117e+01  1.295435e-01  4.755208e-02  1.880046e+01  8.492678e+00   \n",
       "min    0.000000e+00  0.000000e+00  0.000000e+00  0.000000e+00  0.000000e+00   \n",
       "25%    1.000000e+01  0.000000e+00  0.000000e+00  0.000000e+00  0.000000e+00   \n",
       "50%    1.300000e+01  0.000000e+00  0.000000e+00  0.000000e+00  0.000000e+00   \n",
       "75%    1.800000e+01  0.000000e+00  0.000000e+00  0.000000e+00  0.000000e+00   \n",
       "max    6.020000e+02  1.000000e+00  1.000000e+00  1.666000e+03  1.163000e+03   \n",
       "\n",
       "           NASDelay  SecurityDelay  LateAircraftDelay  \n",
       "count  7.141922e+06   7.141922e+06       7.141922e+06  \n",
       "mean   3.585970e+00   3.099600e-02       4.515005e+00  \n",
       "std    1.562795e+01   1.277919e+00       1.986008e+01  \n",
       "min    0.000000e+00   0.000000e+00       0.000000e+00  \n",
       "25%    0.000000e+00   0.000000e+00       0.000000e+00  \n",
       "50%    0.000000e+00   0.000000e+00       0.000000e+00  \n",
       "75%    0.000000e+00   0.000000e+00       0.000000e+00  \n",
       "max    1.392000e+03   3.540000e+02       1.366000e+03  \n",
       "\n",
       "[8 rows x 24 columns]"
      ]
     },
     "execution_count": 5,
     "metadata": {},
     "output_type": "execute_result"
    },
    {
     "name": "stdout",
     "output_type": "stream",
     "text": [
      "<class 'pandas.core.frame.DataFrame'>\n",
      "RangeIndex: 7141922 entries, 0 to 7141921\n",
      "Data columns (total 29 columns):\n",
      "Year                 int64\n",
      "Month                int64\n",
      "DayofMonth           int64\n",
      "DayOfWeek            int64\n",
      "DepTime              float64\n",
      "CRSDepTime           int64\n",
      "ArrTime              float64\n",
      "CRSArrTime           int64\n",
      "UniqueCarrier        object\n",
      "FlightNum            int64\n",
      "TailNum              object\n",
      "ActualElapsedTime    float64\n",
      "CRSElapsedTime       float64\n",
      "AirTime              float64\n",
      "ArrDelay             float64\n",
      "DepDelay             float64\n",
      "Origin               object\n",
      "Dest                 object\n",
      "Distance             int64\n",
      "TaxiIn               int64\n",
      "TaxiOut              int64\n",
      "Cancelled            int64\n",
      "CancellationCode     object\n",
      "Diverted             int64\n",
      "CarrierDelay         int64\n",
      "WeatherDelay         int64\n",
      "NASDelay             int64\n",
      "SecurityDelay        int64\n",
      "LateAircraftDelay    int64\n",
      "dtypes: float64(7), int64(17), object(5)\n",
      "memory usage: 1.5+ GB\n"
     ]
    }
   ],
   "source": [
    "df.head(3)\n",
    "df.tail(3)\n",
    "df.columns\n",
    "df.dtypes\n",
    "df.describe()\n",
    "df.info()"
   ]
  },
  {
   "cell_type": "code",
   "execution_count": 6,
   "metadata": {},
   "outputs": [
    {
     "name": "stdout",
     "output_type": "stream",
     "text": [
      "Distinct values in Year : df.Year.value_counts()\n",
      "2006    7141922\n",
      "Name: Year, dtype: int64\n",
      "Distinct values in DayOfWeek : df.DayOfWeek.value_counts()\n",
      "5    1056606\n",
      "4    1052949\n",
      "1    1048054\n",
      "3    1042952\n",
      "2    1030322\n",
      "7    1011508\n",
      "6     899531\n",
      "Name: DayOfWeek, dtype: int64\n",
      "Distinct values in Cancelled : df.Cancelled.value_counts()\n",
      "0    7019988\n",
      "1     121934\n",
      "Name: Cancelled, dtype: int64\n",
      "Distinct values in CancellationCode : df.CancellationCode.value_counts()\n",
      "A    55655\n",
      "B    37913\n",
      "C    28209\n",
      "D      157\n",
      "Name: CancellationCode, dtype: int64\n",
      "Distinct values in Diverted : df.Diverted.value_counts()\n",
      "0    7125736\n",
      "1      16186\n",
      "Name: Diverted, dtype: int64\n"
     ]
    }
   ],
   "source": [
    "def explore_value(df):\n",
    "    to_be_removed = []\n",
    "    columns = df.columns\n",
    "    for column in columns:\n",
    "        nb_unique_values = eval('df.' + column + '.nunique()')\n",
    "        #print(\"Distinct values in\", column, \":\", nb_unique_values)\n",
    "        if nb_unique_values > 10:\n",
    "            to_be_removed.append(column)\n",
    "    columns_redux = [item for item in columns if item not in to_be_removed ]\n",
    "    \n",
    "    #print(columns_redux)\n",
    "    for column in columns_redux:\n",
    "        \n",
    "        code = 'df.' + column + '.value_counts()'\n",
    "        print(\"Distinct values in\", column, ':', code)\n",
    "        print(eval(code))\n",
    "\n",
    "explore_value(df)"
   ]
  },
  {
   "cell_type": "code",
   "execution_count": null,
   "metadata": {},
   "outputs": [],
   "source": []
  },
  {
   "cell_type": "markdown",
   "metadata": {},
   "source": [
    "https://www.transtats.bts.gov/FieldInfo.asp?Field_Desc=Specifies%20The%20Reason%20For%20Cancellation&Field_Type=Char&Lookup_Table=L_CANCELLATION&Table_ID=236&SYS_Table_Name=T_ONTIME_REPORTING&Sys_Field_Name=CANCELLATION_CODE\n",
    "\n",
    "    Code\tDescription\n",
    "    A\tCarrier\n",
    "    B\tWeather\n",
    "    C\tNational Air System\n",
    "    D\tSecurity\n",
    "\n",
    "    If Cancelled==1 it mean the flight has been canceled\n",
    "    If Diverted==1 it mean the flight has been delayed\n",
    "\n",
    "    Variable descriptions from http://stat-computing.org/dataexpo/2009/the-data.html\n",
    "        Name \tDescription\n",
    "    1 \tYear \t1987-2008\n",
    "    2 \tMonth \t1-12\n",
    "    3 \tDayofMonth \t1-31\n",
    "    4 \tDayOfWeek \t1 (Monday) - 7 (Sunday)\n",
    "    5 \tDepTime \tactual departure time (local, hhmm)\n",
    "    6 \tCRSDepTime \tscheduled departure time (local, hhmm)\n",
    "    7 \tArrTime \tactual arrival time (local, hhmm)\n",
    "    8 \tCRSArrTime \tscheduled arrival time (local, hhmm)\n",
    "    9 \tUniqueCarrier \tunique carrier code\n",
    "    10 \tFlightNum \tflight number\n",
    "    11 \tTailNum \tplane tail number\n",
    "    12 \tActualElapsedTime \tin minutes\n",
    "    13 \tCRSElapsedTime \tin minutes\n",
    "    14 \tAirTime \tin minutes\n",
    "    15 \tArrDelay \tarrival delay, in minutes\n",
    "    16 \tDepDelay \tdeparture delay, in minutes\n",
    "    17 \tOrigin \torigin IATA airport code\n",
    "    18 \tDest \tdestination IATA airport code\n",
    "    19 \tDistance \tin miles\n",
    "    20 \tTaxiIn \ttaxi in time, in minutes\n",
    "    21 \tTaxiOut \ttaxi out time in minutes\n",
    "    22 \tCancelled \twas the flight cancelled?\n",
    "    23 \tCancellationCode \treason for cancellation (A = carrier, B = weather, C = NAS, D = security)\n",
    "    24 \tDiverted \t1 = yes, 0 = no\n",
    "    25 \tCarrierDelay \tin minutes\n",
    "    26 \tWeatherDelay \tin minutes\n",
    "    27 \tNASDelay \tin minutes\n",
    "    28 \tSecurityDelay \tin minutes\n",
    "    29 \tLateAircraftDelay \tin minutes\n"
   ]
  },
  {
   "cell_type": "code",
   "execution_count": 7,
   "metadata": {},
   "outputs": [
    {
     "data": {
      "text/html": [
       "<div>\n",
       "<style scoped>\n",
       "    .dataframe tbody tr th:only-of-type {\n",
       "        vertical-align: middle;\n",
       "    }\n",
       "\n",
       "    .dataframe tbody tr th {\n",
       "        vertical-align: top;\n",
       "    }\n",
       "\n",
       "    .dataframe thead th {\n",
       "        text-align: right;\n",
       "    }\n",
       "</style>\n",
       "<table border=\"1\" class=\"dataframe\">\n",
       "  <thead>\n",
       "    <tr style=\"text-align: right;\">\n",
       "      <th></th>\n",
       "      <th>CarrierDelay</th>\n",
       "      <th>WeatherDelay</th>\n",
       "    </tr>\n",
       "  </thead>\n",
       "  <tbody>\n",
       "    <tr>\n",
       "      <th>571</th>\n",
       "      <td>10</td>\n",
       "      <td>35</td>\n",
       "    </tr>\n",
       "    <tr>\n",
       "      <th>905</th>\n",
       "      <td>10</td>\n",
       "      <td>83</td>\n",
       "    </tr>\n",
       "    <tr>\n",
       "      <th>942</th>\n",
       "      <td>3</td>\n",
       "      <td>19</td>\n",
       "    </tr>\n",
       "    <tr>\n",
       "      <th>1021</th>\n",
       "      <td>5</td>\n",
       "      <td>7</td>\n",
       "    </tr>\n",
       "    <tr>\n",
       "      <th>3109</th>\n",
       "      <td>5</td>\n",
       "      <td>5</td>\n",
       "    </tr>\n",
       "    <tr>\n",
       "      <th>3304</th>\n",
       "      <td>5</td>\n",
       "      <td>65</td>\n",
       "    </tr>\n",
       "    <tr>\n",
       "      <th>3340</th>\n",
       "      <td>4</td>\n",
       "      <td>6</td>\n",
       "    </tr>\n",
       "    <tr>\n",
       "      <th>3401</th>\n",
       "      <td>5</td>\n",
       "      <td>9</td>\n",
       "    </tr>\n",
       "    <tr>\n",
       "      <th>3896</th>\n",
       "      <td>3</td>\n",
       "      <td>7</td>\n",
       "    </tr>\n",
       "    <tr>\n",
       "      <th>17002</th>\n",
       "      <td>5</td>\n",
       "      <td>10</td>\n",
       "    </tr>\n",
       "  </tbody>\n",
       "</table>\n",
       "</div>"
      ],
      "text/plain": [
       "       CarrierDelay  WeatherDelay\n",
       "571              10            35\n",
       "905              10            83\n",
       "942               3            19\n",
       "1021              5             7\n",
       "3109              5             5\n",
       "3304              5            65\n",
       "3340              4             6\n",
       "3401              5             9\n",
       "3896              3             7\n",
       "17002             5            10"
      ]
     },
     "execution_count": 7,
     "metadata": {},
     "output_type": "execute_result"
    }
   ],
   "source": [
    "df.query(\"CarrierDelay > 0 and WeatherDelay > 0\")[['CarrierDelay', 'WeatherDelay']][:10]"
   ]
  },
  {
   "cell_type": "markdown",
   "metadata": {},
   "source": [
    "### What is the structure of your dataset?\n",
    "\n",
    "As stated on http://stat-computing.org/dataexpo/2009/ :\n",
    "The data consists of flight arrival and departure details for all commercial flights within the USA, from October 1987 to April 2008. This is a large dataset: there are nearly 120 million records in total, and takes up 1.6 gigabytes of space compressed and 12 gigabytes when uncompressed. \n",
    "\n",
    "The data come from the US Bureau of Transportation Statistics.\n",
    "\n",
    "The dataset is a series of CSV containing one line per flight in the US. With 29 informations about the fligth : origin, destination, date, reason of delay, take off time... Mainly numerical. Some of them are continuous (delay) and others categorical (month).\n",
    "\n",
    "It's only the internal US fligth, not the international fligth arriving/living the US.\n",
    "\n",
    "It's already a huge file with millions of lines just for one year.\n",
    "\n",
    "The file are compressed in BZ2 and it was an happy surprise that Pandas could directly load it.\n",
    "\n",
    "We are also provided with a description of every columns : https://www.transtats.bts.gov/Fields.asp?Table_ID=236\n",
    "\n",
    "\n",
    "\n",
    "### What is/are the main feature(s) of interest in your dataset?\n",
    "\n",
    "We could use this dataset for many things, but I will focus on exploring the flight delay.\n",
    "\n",
    "So the main feature will be the ArrDelay columns that containt the difference in minutes between planed arrival time and actual arrival time.\n",
    "\n",
    "I will also explore cancelled and diverted flight as it is an inconvenient for passengers.\n",
    "\n",
    "> Are there certain destination or arrival cities that are home to more delays or cancellations?\n",
    "\n",
    "- Evolution of delay type over time\n",
    "- Airport that are more subject to delay ?\n",
    "- More security delay after 11 september 2001 ?\n",
    "- What root cause lead to more delay in terme of time.\n",
    "\n",
    "### What features in the dataset do you think will help support your investigation into your feature(s) of interest?\n",
    "\n",
    "Well, almost all column could have a corelation with delay. For exemple maybe night flight have more delay, or sunday flight, on february flight, or flights from a specific carrier or specific airport...\n",
    "\n",
    "We even have the Tail Number (the ID of the plane) to check if a specific aircraft has more delay than others.\n",
    "\n",
    "I  will quickly have look to correlation, then investigate the one that seems more revelant.\n",
    "\n",
    "We have many years so we could also look at changes between years.\n",
    "\n",
    "'Year', 'Month', 'DayofMonth', 'DayOfWeek', 'DepTime', 'CRSDepTime',\n",
    "       'ArrTime', 'CRSArrTime', 'UniqueCarrier', 'FlightNum', 'TailNum',\n",
    "       'ActualElapsedTime', 'CRSElapsedTime', 'AirTime', 'ArrDelay',\n",
    "       'DepDelay', 'Origin', 'Dest', 'Distance', 'TaxiIn', 'TaxiOut',\n",
    "       'Cancelled', 'CancellationCode', 'Diverted', 'CarrierDelay',\n",
    "       'WeatherDelay', 'NASDelay', 'SecurityDelay', 'LateAircraftDelay'\n",
    "\n",
    "\n",
    "Delay cause\n",
    "Airport\n",
    "Carrier\n",
    "Delay time\n",
    "Day of week\n",
    "Month in case of \n",
    "\n",
    "\n",
    "Build categorical variable for :\n",
    "- on_time\n",
    "- Small_wait\n",
    "- Medium_Wait\n",
    "- Huge Wait\n",
    "- delayed\n",
    "- diverted\n",
    "- canceled\n",
    "\n",
    "\n",
    "## Tidy\n",
    "\n",
    "I was thinking of merging CarrierDelay, WeatherDelay, NASDelay, SecurityDelay and LateAircraftDelay in one column, with another with the reason.\n",
    "\n",
    "But there could be many delay for the same flight.\n",
    "\n",
    "Time of day like CRSDepTime are in hhmm format. That's not cleen because we can't make reliable operation on it. If we want to compute difference in time to get the delay for exemple.\n",
    "\n",
    "1905 - 1855 = 50 but it's only 10 minutes\n",
    "\n",
    "To get it clean it will be best to convert it in minutes. We will see if we need it.\n"
   ]
  },
  {
   "cell_type": "code",
   "execution_count": 8,
   "metadata": {},
   "outputs": [
    {
     "data": {
      "text/plain": [
       "50"
      ]
     },
     "execution_count": 8,
     "metadata": {},
     "output_type": "execute_result"
    }
   ],
   "source": [
    "1905 - 1855"
   ]
  },
  {
   "cell_type": "markdown",
   "metadata": {},
   "source": [
    "Year, Month, Total_flight, nb_low_delay, nb_medium, nb_hight, avg_delay\n",
    "=> TRop compliqué"
   ]
  },
  {
   "cell_type": "markdown",
   "metadata": {},
   "source": [
    "## Univariate Exploration\n",
    "\n",
    "> In this section, investigate distributions of individual variables. If\n",
    "you see unusual points or outliers, take a deeper look to clean things up\n",
    "and prepare yourself to look at relationships between variables."
   ]
  },
  {
   "cell_type": "code",
   "execution_count": 9,
   "metadata": {},
   "outputs": [
    {
     "name": "stdout",
     "output_type": "stream",
     "text": [
      "df['ArrDelay'].max() : 1779.0\n",
      "df['ArrDelay'].min() : -592.0\n"
     ]
    }
   ],
   "source": [
    "pv(\"df['ArrDelay'].max()\")\n",
    "pv(\"df['ArrDelay'].min()\")"
   ]
  },
  {
   "cell_type": "code",
   "execution_count": 10,
   "metadata": {},
   "outputs": [
    {
     "data": {
      "image/png": "[encoded data removed]",
      "text/plain": [
       "<Figure size 576x360 with 1 Axes>"
      ]
     },
     "metadata": {
      "needs_background": "light"
     },
     "output_type": "display_data"
    }
   ],
   "source": [
    "binsize = 50\n",
    "bins = np.arange(df['ArrDelay'].min(), df['ArrDelay'].max()+binsize, binsize);\n",
    "#print(bins)\n",
    "plt.figure(figsize=[8, 5]);\n",
    "plt.hist(data = df[np.isfinite(df['ArrDelay'])], x = 'ArrDelay', bins = bins);\n",
    "\n",
    "plt.xlabel('ArrDelay (min)');\n",
    "plt.show();\n"
   ]
  },
  {
   "cell_type": "markdown",
   "metadata": {},
   "source": [
    "Huge spike aroud zero, so let's zoom around 0."
   ]
  },
  {
   "cell_type": "code",
   "execution_count": 11,
   "metadata": {},
   "outputs": [
    {
     "data": {
      "image/png": "[encoded data removed]",
      "text/plain": [
       "<Figure size 576x360 with 1 Axes>"
      ]
     },
     "metadata": {
      "needs_background": "light"
     },
     "output_type": "display_data"
    }
   ],
   "source": [
    "# Histogram plot\n",
    "binsize = 5\n",
    "bins = np.arange(df['ArrDelay'].min(), df['ArrDelay'].max()+binsize, binsize);\n",
    "#print(bins)\n",
    "plt.figure(figsize=[8, 5]);\n",
    "plt.hist(data = df[np.isfinite(df['ArrDelay'])], x = 'ArrDelay', bins = bins, rwidth=0.8);\n",
    "plt.xlabel('ArrDelay (min)');\n",
    "plt.xticks(range(-30,30, binsize))\n",
    "axes = plt.gca()\n",
    "axes.set_xlim([-20,20])\n",
    "plt.show();"
   ]
  },
  {
   "cell_type": "markdown",
   "metadata": {},
   "source": [
    "The majority of planes landed early than expected.\n",
    "\n",
    "There probably is a good reason for that, it's an interresting question to ask to a professional.\n",
    "\n",
    "\n",
    "We first saw that the ArrDelay is right skewed with a slope with long tail that's look like a log distribution.\n",
    "\n",
    "So let's have a look to the ArrDelay at log scale."
   ]
  },
  {
   "cell_type": "code",
   "execution_count": 12,
   "metadata": {},
   "outputs": [
    {
     "data": {
      "image/png": "[encoded data removed]",
      "text/plain": [
       "<Figure size 576x360 with 1 Axes>"
      ]
     },
     "metadata": {
      "needs_background": "light"
     },
     "output_type": "display_data"
    }
   ],
   "source": [
    "\n",
    "# there's a long tail in the distribution, so let's put it on a log scale instead\n",
    "log_binsize = 0.025\n",
    "bins = 10 ** np.arange(2.4, np.log10(df['ArrDelay'].max())+log_binsize, log_binsize)\n",
    "\n",
    "# histogram on log scale. \n",
    "# Use non-equal bin sizes, such that they look equal on log scale.\n",
    "# https://stackoverflow.com/questions/47850202/plotting-a-histogram-on-a-log-scale-with-matplotlib?rq=1\n",
    "# logbins = np.logspace(np.log10(bins[0]),np.log10(bins[-1]),len(bins))\n",
    "\n",
    "plt.figure(figsize=[8, 5]);\n",
    "plt.hist(data = df[np.isfinite(df['ArrDelay'])], x = 'ArrDelay', bins = bins);\n",
    "plt.xscale('log');\n",
    "#plt.xticks([500, 1e3, 2e3], [500, '1k', '2k', '5k', '10k', '20k'])\n",
    "plt.xlabel('Price ($)');\n",
    "plt.show();\n"
   ]
  },
  {
   "cell_type": "markdown",
   "metadata": {},
   "source": [
    "Even at log scale, the delay time seems to derease rapidely.\n",
    "\n",
    "The distribution still have the same shape. With many short delay and few long delay.\n",
    "\n",
    "It's not surprising as it is what we have expected.\n",
    "\n",
    "So let's have a look at huge delay to saw what they look like :"
   ]
  },
  {
   "cell_type": "code",
   "execution_count": 13,
   "metadata": {},
   "outputs": [
    {
     "data": {
      "image/png": "[encoded data removed]",
      "text/plain": [
       "<Figure size 576x360 with 1 Axes>"
      ]
     },
     "metadata": {
      "needs_background": "light"
     },
     "output_type": "display_data"
    }
   ],
   "source": [
    "min_delay = 1000\n",
    "df_hight_delay = df[np.isfinite(df['ArrDelay'])].query(\"ArrDelay > @min_delay\")\n",
    "\n",
    "binsize = 100\n",
    "bins = np.arange(min_delay, df_hight_delay['ArrDelay'].max()+binsize, binsize);\n",
    "plt.figure(figsize=[8, 5]);\n",
    "plt.hist(data = df_hight_delay, x = 'ArrDelay', bins = bins);\n",
    "plt.xlabel('ArrDelay (min)');\n",
    "plt.show();\n"
   ]
  },
  {
   "cell_type": "code",
   "execution_count": 15,
   "metadata": {},
   "outputs": [
    {
     "data": {
      "text/plain": [
       "1440"
      ]
     },
     "execution_count": 15,
     "metadata": {},
     "output_type": "execute_result"
    },
    {
     "data": {
      "text/plain": [
       "1.25"
      ]
     },
     "execution_count": 15,
     "metadata": {},
     "output_type": "execute_result"
    }
   ],
   "source": [
    "24*60\n",
    "1800/60/24\n"
   ]
  },
  {
   "cell_type": "code",
   "execution_count": 16,
   "metadata": {},
   "outputs": [
    {
     "data": {
      "text/html": [
       "<div>\n",
       "<style scoped>\n",
       "    .dataframe tbody tr th:only-of-type {\n",
       "        vertical-align: middle;\n",
       "    }\n",
       "\n",
       "    .dataframe tbody tr th {\n",
       "        vertical-align: top;\n",
       "    }\n",
       "\n",
       "    .dataframe thead th {\n",
       "        text-align: right;\n",
       "    }\n",
       "</style>\n",
       "<table border=\"1\" class=\"dataframe\">\n",
       "  <thead>\n",
       "    <tr style=\"text-align: right;\">\n",
       "      <th></th>\n",
       "      <th>Month</th>\n",
       "      <th>CRSDepTime</th>\n",
       "      <th>DepTime</th>\n",
       "      <th>DepDelay</th>\n",
       "      <th>CRSArrTime</th>\n",
       "      <th>ArrTime</th>\n",
       "      <th>ArrDelay</th>\n",
       "      <th>UniqueCarrier</th>\n",
       "      <th>ActualElapsedTime</th>\n",
       "      <th>CRSElapsedTime</th>\n",
       "      <th>Origin</th>\n",
       "    </tr>\n",
       "  </thead>\n",
       "  <tbody>\n",
       "    <tr>\n",
       "      <th>235471</th>\n",
       "      <td>1</td>\n",
       "      <td>1010</td>\n",
       "      <td>835.0</td>\n",
       "      <td>1345.0</td>\n",
       "      <td>1515</td>\n",
       "      <td>1324.0</td>\n",
       "      <td>1329.0</td>\n",
       "      <td>UA</td>\n",
       "      <td>529.0</td>\n",
       "      <td>545.0</td>\n",
       "      <td>ORD</td>\n",
       "    </tr>\n",
       "    <tr>\n",
       "      <th>943580</th>\n",
       "      <td>2</td>\n",
       "      <td>1234</td>\n",
       "      <td>1121.0</td>\n",
       "      <td>1367.0</td>\n",
       "      <td>2001</td>\n",
       "      <td>1843.0</td>\n",
       "      <td>1362.0</td>\n",
       "      <td>NW</td>\n",
       "      <td>262.0</td>\n",
       "      <td>267.0</td>\n",
       "      <td>LAX</td>\n",
       "    </tr>\n",
       "    <tr>\n",
       "      <th>1011007</th>\n",
       "      <td>2</td>\n",
       "      <td>1406</td>\n",
       "      <td>1128.0</td>\n",
       "      <td>1282.0</td>\n",
       "      <td>1844</td>\n",
       "      <td>1559.0</td>\n",
       "      <td>1275.0</td>\n",
       "      <td>AA</td>\n",
       "      <td>151.0</td>\n",
       "      <td>158.0</td>\n",
       "      <td>LAS</td>\n",
       "    </tr>\n",
       "    <tr>\n",
       "      <th>1024654</th>\n",
       "      <td>2</td>\n",
       "      <td>1424</td>\n",
       "      <td>1043.0</td>\n",
       "      <td>1219.0</td>\n",
       "      <td>1817</td>\n",
       "      <td>1443.0</td>\n",
       "      <td>1226.0</td>\n",
       "      <td>AA</td>\n",
       "      <td>180.0</td>\n",
       "      <td>173.0</td>\n",
       "      <td>JAC</td>\n",
       "    </tr>\n",
       "    <tr>\n",
       "      <th>1025197</th>\n",
       "      <td>2</td>\n",
       "      <td>932</td>\n",
       "      <td>831.0</td>\n",
       "      <td>1379.0</td>\n",
       "      <td>1241</td>\n",
       "      <td>1135.0</td>\n",
       "      <td>1374.0</td>\n",
       "      <td>AA</td>\n",
       "      <td>124.0</td>\n",
       "      <td>129.0</td>\n",
       "      <td>TUS</td>\n",
       "    </tr>\n",
       "    <tr>\n",
       "      <th>1520330</th>\n",
       "      <td>3</td>\n",
       "      <td>845</td>\n",
       "      <td>921.0</td>\n",
       "      <td>1476.0</td>\n",
       "      <td>1423</td>\n",
       "      <td>1429.0</td>\n",
       "      <td>1446.0</td>\n",
       "      <td>NW</td>\n",
       "      <td>188.0</td>\n",
       "      <td>218.0</td>\n",
       "      <td>SAN</td>\n",
       "    </tr>\n",
       "    <tr>\n",
       "      <th>1529333</th>\n",
       "      <td>3</td>\n",
       "      <td>1029</td>\n",
       "      <td>726.0</td>\n",
       "      <td>1257.0</td>\n",
       "      <td>1230</td>\n",
       "      <td>915.0</td>\n",
       "      <td>1245.0</td>\n",
       "      <td>NW</td>\n",
       "      <td>109.0</td>\n",
       "      <td>121.0</td>\n",
       "      <td>LGA</td>\n",
       "    </tr>\n",
       "    <tr>\n",
       "      <th>1536640</th>\n",
       "      <td>3</td>\n",
       "      <td>855</td>\n",
       "      <td>715.0</td>\n",
       "      <td>1340.0</td>\n",
       "      <td>1714</td>\n",
       "      <td>1526.0</td>\n",
       "      <td>1332.0</td>\n",
       "      <td>NW</td>\n",
       "      <td>311.0</td>\n",
       "      <td>319.0</td>\n",
       "      <td>ANC</td>\n",
       "    </tr>\n",
       "    <tr>\n",
       "      <th>1546257</th>\n",
       "      <td>3</td>\n",
       "      <td>1355</td>\n",
       "      <td>1723.0</td>\n",
       "      <td>1648.0</td>\n",
       "      <td>1728</td>\n",
       "      <td>2050.0</td>\n",
       "      <td>1642.0</td>\n",
       "      <td>NW</td>\n",
       "      <td>147.0</td>\n",
       "      <td>153.0</td>\n",
       "      <td>MSO</td>\n",
       "    </tr>\n",
       "    <tr>\n",
       "      <th>1548762</th>\n",
       "      <td>3</td>\n",
       "      <td>1405</td>\n",
       "      <td>1152.0</td>\n",
       "      <td>1307.0</td>\n",
       "      <td>1715</td>\n",
       "      <td>1503.0</td>\n",
       "      <td>1308.0</td>\n",
       "      <td>NW</td>\n",
       "      <td>131.0</td>\n",
       "      <td>130.0</td>\n",
       "      <td>EGE</td>\n",
       "    </tr>\n",
       "    <tr>\n",
       "      <th>2115151</th>\n",
       "      <td>4</td>\n",
       "      <td>905</td>\n",
       "      <td>734.0</td>\n",
       "      <td>1349.0</td>\n",
       "      <td>1420</td>\n",
       "      <td>1239.0</td>\n",
       "      <td>1339.0</td>\n",
       "      <td>NW</td>\n",
       "      <td>185.0</td>\n",
       "      <td>195.0</td>\n",
       "      <td>SEA</td>\n",
       "    </tr>\n",
       "    <tr>\n",
       "      <th>2125326</th>\n",
       "      <td>4</td>\n",
       "      <td>1745</td>\n",
       "      <td>1433.0</td>\n",
       "      <td>1248.0</td>\n",
       "      <td>2014</td>\n",
       "      <td>2019.0</td>\n",
       "      <td>1445.0</td>\n",
       "      <td>NW</td>\n",
       "      <td>406.0</td>\n",
       "      <td>209.0</td>\n",
       "      <td>MCO</td>\n",
       "    </tr>\n",
       "    <tr>\n",
       "      <th>2136140</th>\n",
       "      <td>4</td>\n",
       "      <td>1007</td>\n",
       "      <td>659.0</td>\n",
       "      <td>1252.0</td>\n",
       "      <td>1304</td>\n",
       "      <td>946.0</td>\n",
       "      <td>1242.0</td>\n",
       "      <td>NW</td>\n",
       "      <td>167.0</td>\n",
       "      <td>177.0</td>\n",
       "      <td>RSW</td>\n",
       "    </tr>\n",
       "    <tr>\n",
       "      <th>2147240</th>\n",
       "      <td>4</td>\n",
       "      <td>1724</td>\n",
       "      <td>1432.0</td>\n",
       "      <td>1268.0</td>\n",
       "      <td>2022</td>\n",
       "      <td>1745.0</td>\n",
       "      <td>1283.0</td>\n",
       "      <td>NW</td>\n",
       "      <td>253.0</td>\n",
       "      <td>238.0</td>\n",
       "      <td>FLL</td>\n",
       "    </tr>\n",
       "    <tr>\n",
       "      <th>2756695</th>\n",
       "      <td>5</td>\n",
       "      <td>1325</td>\n",
       "      <td>1019.0</td>\n",
       "      <td>1254.0</td>\n",
       "      <td>2144</td>\n",
       "      <td>1852.0</td>\n",
       "      <td>1268.0</td>\n",
       "      <td>AA</td>\n",
       "      <td>333.0</td>\n",
       "      <td>319.0</td>\n",
       "      <td>HNL</td>\n",
       "    </tr>\n",
       "    <tr>\n",
       "      <th>3057311</th>\n",
       "      <td>6</td>\n",
       "      <td>2030</td>\n",
       "      <td>2035.0</td>\n",
       "      <td>5.0</td>\n",
       "      <td>2049</td>\n",
       "      <td>1725.0</td>\n",
       "      <td>1236.0</td>\n",
       "      <td>OH</td>\n",
       "      <td>1310.0</td>\n",
       "      <td>79.0</td>\n",
       "      <td>CVG</td>\n",
       "    </tr>\n",
       "    <tr>\n",
       "      <th>3062737</th>\n",
       "      <td>6</td>\n",
       "      <td>2030</td>\n",
       "      <td>1630.0</td>\n",
       "      <td>1200.0</td>\n",
       "      <td>2049</td>\n",
       "      <td>1655.0</td>\n",
       "      <td>1206.0</td>\n",
       "      <td>OH</td>\n",
       "      <td>85.0</td>\n",
       "      <td>79.0</td>\n",
       "      <td>CVG</td>\n",
       "    </tr>\n",
       "    <tr>\n",
       "      <th>3312542</th>\n",
       "      <td>6</td>\n",
       "      <td>1024</td>\n",
       "      <td>916.0</td>\n",
       "      <td>1372.0</td>\n",
       "      <td>1110</td>\n",
       "      <td>954.0</td>\n",
       "      <td>1364.0</td>\n",
       "      <td>NW</td>\n",
       "      <td>38.0</td>\n",
       "      <td>46.0</td>\n",
       "      <td>MBS</td>\n",
       "    </tr>\n",
       "    <tr>\n",
       "      <th>3371202</th>\n",
       "      <td>6</td>\n",
       "      <td>1859</td>\n",
       "      <td>1339.0</td>\n",
       "      <td>1120.0</td>\n",
       "      <td>2108</td>\n",
       "      <td>1728.0</td>\n",
       "      <td>1220.0</td>\n",
       "      <td>AA</td>\n",
       "      <td>289.0</td>\n",
       "      <td>189.0</td>\n",
       "      <td>DCA</td>\n",
       "    </tr>\n",
       "    <tr>\n",
       "      <th>3724992</th>\n",
       "      <td>7</td>\n",
       "      <td>1310</td>\n",
       "      <td>1209.0</td>\n",
       "      <td>1379.0</td>\n",
       "      <td>2126</td>\n",
       "      <td>2005.0</td>\n",
       "      <td>1359.0</td>\n",
       "      <td>UA</td>\n",
       "      <td>296.0</td>\n",
       "      <td>316.0</td>\n",
       "      <td>KOA</td>\n",
       "    </tr>\n",
       "    <tr>\n",
       "      <th>3760805</th>\n",
       "      <td>7</td>\n",
       "      <td>828</td>\n",
       "      <td>730.0</td>\n",
       "      <td>1382.0</td>\n",
       "      <td>1035</td>\n",
       "      <td>928.0</td>\n",
       "      <td>1373.0</td>\n",
       "      <td>UA</td>\n",
       "      <td>238.0</td>\n",
       "      <td>247.0</td>\n",
       "      <td>MIA</td>\n",
       "    </tr>\n",
       "    <tr>\n",
       "      <th>3927326</th>\n",
       "      <td>7</td>\n",
       "      <td>1307</td>\n",
       "      <td>1653.0</td>\n",
       "      <td>1666.0</td>\n",
       "      <td>1610</td>\n",
       "      <td>2021.0</td>\n",
       "      <td>1691.0</td>\n",
       "      <td>NW</td>\n",
       "      <td>208.0</td>\n",
       "      <td>183.0</td>\n",
       "      <td>FLL</td>\n",
       "    </tr>\n",
       "    <tr>\n",
       "      <th>3927591</th>\n",
       "      <td>7</td>\n",
       "      <td>905</td>\n",
       "      <td>603.0</td>\n",
       "      <td>1258.0</td>\n",
       "      <td>1607</td>\n",
       "      <td>1257.0</td>\n",
       "      <td>1250.0</td>\n",
       "      <td>NW</td>\n",
       "      <td>234.0</td>\n",
       "      <td>242.0</td>\n",
       "      <td>PHX</td>\n",
       "    </tr>\n",
       "    <tr>\n",
       "      <th>3947897</th>\n",
       "      <td>7</td>\n",
       "      <td>1105</td>\n",
       "      <td>711.0</td>\n",
       "      <td>1206.0</td>\n",
       "      <td>1807</td>\n",
       "      <td>1433.0</td>\n",
       "      <td>1226.0</td>\n",
       "      <td>NW</td>\n",
       "      <td>262.0</td>\n",
       "      <td>242.0</td>\n",
       "      <td>LAS</td>\n",
       "    </tr>\n",
       "    <tr>\n",
       "      <th>4020762</th>\n",
       "      <td>7</td>\n",
       "      <td>1141</td>\n",
       "      <td>912.0</td>\n",
       "      <td>1291.0</td>\n",
       "      <td>1730</td>\n",
       "      <td>1449.0</td>\n",
       "      <td>1279.0</td>\n",
       "      <td>AA</td>\n",
       "      <td>217.0</td>\n",
       "      <td>229.0</td>\n",
       "      <td>SEA</td>\n",
       "    </tr>\n",
       "    <tr>\n",
       "      <th>4568973</th>\n",
       "      <td>8</td>\n",
       "      <td>710</td>\n",
       "      <td>652.0</td>\n",
       "      <td>1422.0</td>\n",
       "      <td>953</td>\n",
       "      <td>919.0</td>\n",
       "      <td>1406.0</td>\n",
       "      <td>NW</td>\n",
       "      <td>147.0</td>\n",
       "      <td>163.0</td>\n",
       "      <td>AUS</td>\n",
       "    </tr>\n",
       "    <tr>\n",
       "      <th>4582714</th>\n",
       "      <td>8</td>\n",
       "      <td>1105</td>\n",
       "      <td>836.0</td>\n",
       "      <td>1291.0</td>\n",
       "      <td>1226</td>\n",
       "      <td>946.0</td>\n",
       "      <td>1280.0</td>\n",
       "      <td>NW</td>\n",
       "      <td>70.0</td>\n",
       "      <td>81.0</td>\n",
       "      <td>BIS</td>\n",
       "    </tr>\n",
       "    <tr>\n",
       "      <th>4616474</th>\n",
       "      <td>8</td>\n",
       "      <td>2106</td>\n",
       "      <td>1744.0</td>\n",
       "      <td>1238.0</td>\n",
       "      <td>2331</td>\n",
       "      <td>1957.0</td>\n",
       "      <td>1226.0</td>\n",
       "      <td>AA</td>\n",
       "      <td>133.0</td>\n",
       "      <td>145.0</td>\n",
       "      <td>MIA</td>\n",
       "    </tr>\n",
       "    <tr>\n",
       "      <th>4621833</th>\n",
       "      <td>8</td>\n",
       "      <td>1455</td>\n",
       "      <td>1213.0</td>\n",
       "      <td>1278.0</td>\n",
       "      <td>1631</td>\n",
       "      <td>1326.0</td>\n",
       "      <td>1255.0</td>\n",
       "      <td>AA</td>\n",
       "      <td>133.0</td>\n",
       "      <td>156.0</td>\n",
       "      <td>JAX</td>\n",
       "    </tr>\n",
       "    <tr>\n",
       "      <th>5177842</th>\n",
       "      <td>9</td>\n",
       "      <td>1335</td>\n",
       "      <td>1043.0</td>\n",
       "      <td>1268.0</td>\n",
       "      <td>1434</td>\n",
       "      <td>1208.0</td>\n",
       "      <td>1294.0</td>\n",
       "      <td>NW</td>\n",
       "      <td>85.0</td>\n",
       "      <td>59.0</td>\n",
       "      <td>CMH</td>\n",
       "    </tr>\n",
       "    <tr>\n",
       "      <th>5227995</th>\n",
       "      <td>9</td>\n",
       "      <td>800</td>\n",
       "      <td>554.0</td>\n",
       "      <td>1314.0</td>\n",
       "      <td>1325</td>\n",
       "      <td>1118.0</td>\n",
       "      <td>1313.0</td>\n",
       "      <td>AA</td>\n",
       "      <td>204.0</td>\n",
       "      <td>205.0</td>\n",
       "      <td>OAK</td>\n",
       "    </tr>\n",
       "    <tr>\n",
       "      <th>5239587</th>\n",
       "      <td>9</td>\n",
       "      <td>1215</td>\n",
       "      <td>941.0</td>\n",
       "      <td>1286.0</td>\n",
       "      <td>1550</td>\n",
       "      <td>1307.0</td>\n",
       "      <td>1277.0</td>\n",
       "      <td>AA</td>\n",
       "      <td>146.0</td>\n",
       "      <td>155.0</td>\n",
       "      <td>JAC</td>\n",
       "    </tr>\n",
       "    <tr>\n",
       "      <th>5750136</th>\n",
       "      <td>10</td>\n",
       "      <td>855</td>\n",
       "      <td>717.0</td>\n",
       "      <td>1342.0</td>\n",
       "      <td>1406</td>\n",
       "      <td>1224.0</td>\n",
       "      <td>1338.0</td>\n",
       "      <td>NW</td>\n",
       "      <td>187.0</td>\n",
       "      <td>191.0</td>\n",
       "      <td>SEA</td>\n",
       "    </tr>\n",
       "    <tr>\n",
       "      <th>5763345</th>\n",
       "      <td>10</td>\n",
       "      <td>1454</td>\n",
       "      <td>1122.0</td>\n",
       "      <td>1228.0</td>\n",
       "      <td>1557</td>\n",
       "      <td>1247.0</td>\n",
       "      <td>1250.0</td>\n",
       "      <td>NW</td>\n",
       "      <td>85.0</td>\n",
       "      <td>63.0</td>\n",
       "      <td>MSN</td>\n",
       "    </tr>\n",
       "    <tr>\n",
       "      <th>5772293</th>\n",
       "      <td>10</td>\n",
       "      <td>1516</td>\n",
       "      <td>2028.0</td>\n",
       "      <td>1752.0</td>\n",
       "      <td>1624</td>\n",
       "      <td>2203.0</td>\n",
       "      <td>1779.0</td>\n",
       "      <td>NW</td>\n",
       "      <td>95.0</td>\n",
       "      <td>68.0</td>\n",
       "      <td>BUF</td>\n",
       "    </tr>\n",
       "    <tr>\n",
       "      <th>5776216</th>\n",
       "      <td>10</td>\n",
       "      <td>1400</td>\n",
       "      <td>1134.0</td>\n",
       "      <td>1294.0</td>\n",
       "      <td>1745</td>\n",
       "      <td>1522.0</td>\n",
       "      <td>1297.0</td>\n",
       "      <td>NW</td>\n",
       "      <td>168.0</td>\n",
       "      <td>165.0</td>\n",
       "      <td>BOI</td>\n",
       "    </tr>\n",
       "    <tr>\n",
       "      <th>5819539</th>\n",
       "      <td>10</td>\n",
       "      <td>1005</td>\n",
       "      <td>728.0</td>\n",
       "      <td>1283.0</td>\n",
       "      <td>1530</td>\n",
       "      <td>1250.0</td>\n",
       "      <td>1280.0</td>\n",
       "      <td>AA</td>\n",
       "      <td>202.0</td>\n",
       "      <td>205.0</td>\n",
       "      <td>LAS</td>\n",
       "    </tr>\n",
       "    <tr>\n",
       "      <th>6156148</th>\n",
       "      <td>11</td>\n",
       "      <td>1409</td>\n",
       "      <td>1339.0</td>\n",
       "      <td>1410.0</td>\n",
       "      <td>2130</td>\n",
       "      <td>2040.0</td>\n",
       "      <td>1390.0</td>\n",
       "      <td>UA</td>\n",
       "      <td>301.0</td>\n",
       "      <td>321.0</td>\n",
       "      <td>OGG</td>\n",
       "    </tr>\n",
       "    <tr>\n",
       "      <th>6351012</th>\n",
       "      <td>11</td>\n",
       "      <td>1243</td>\n",
       "      <td>831.0</td>\n",
       "      <td>1188.0</td>\n",
       "      <td>1432</td>\n",
       "      <td>1033.0</td>\n",
       "      <td>1201.0</td>\n",
       "      <td>NW</td>\n",
       "      <td>122.0</td>\n",
       "      <td>109.0</td>\n",
       "      <td>PHL</td>\n",
       "    </tr>\n",
       "    <tr>\n",
       "      <th>6351422</th>\n",
       "      <td>11</td>\n",
       "      <td>1550</td>\n",
       "      <td>1238.0</td>\n",
       "      <td>1248.0</td>\n",
       "      <td>1704</td>\n",
       "      <td>1345.0</td>\n",
       "      <td>1241.0</td>\n",
       "      <td>NW</td>\n",
       "      <td>67.0</td>\n",
       "      <td>74.0</td>\n",
       "      <td>MSY</td>\n",
       "    </tr>\n",
       "    <tr>\n",
       "      <th>6374824</th>\n",
       "      <td>11</td>\n",
       "      <td>613</td>\n",
       "      <td>452.0</td>\n",
       "      <td>1359.0</td>\n",
       "      <td>725</td>\n",
       "      <td>600.0</td>\n",
       "      <td>1355.0</td>\n",
       "      <td>NW</td>\n",
       "      <td>68.0</td>\n",
       "      <td>72.0</td>\n",
       "      <td>BTR</td>\n",
       "    </tr>\n",
       "    <tr>\n",
       "      <th>6470795</th>\n",
       "      <td>11</td>\n",
       "      <td>2230</td>\n",
       "      <td>2152.0</td>\n",
       "      <td>-38.0</td>\n",
       "      <td>2315</td>\n",
       "      <td>2227.0</td>\n",
       "      <td>1392.0</td>\n",
       "      <td>B6</td>\n",
       "      <td>1475.0</td>\n",
       "      <td>45.0</td>\n",
       "      <td>EWR</td>\n",
       "    </tr>\n",
       "    <tr>\n",
       "      <th>6750832</th>\n",
       "      <td>12</td>\n",
       "      <td>800</td>\n",
       "      <td>610.0</td>\n",
       "      <td>1330.0</td>\n",
       "      <td>1503</td>\n",
       "      <td>1317.0</td>\n",
       "      <td>1334.0</td>\n",
       "      <td>UA</td>\n",
       "      <td>307.0</td>\n",
       "      <td>303.0</td>\n",
       "      <td>HNL</td>\n",
       "    </tr>\n",
       "    <tr>\n",
       "      <th>6779979</th>\n",
       "      <td>12</td>\n",
       "      <td>1245</td>\n",
       "      <td>824.0</td>\n",
       "      <td>1179.0</td>\n",
       "      <td>1546</td>\n",
       "      <td>1147.0</td>\n",
       "      <td>1201.0</td>\n",
       "      <td>UA</td>\n",
       "      <td>263.0</td>\n",
       "      <td>241.0</td>\n",
       "      <td>SJU</td>\n",
       "    </tr>\n",
       "    <tr>\n",
       "      <th>6943390</th>\n",
       "      <td>12</td>\n",
       "      <td>1820</td>\n",
       "      <td>1742.0</td>\n",
       "      <td>1402.0</td>\n",
       "      <td>558</td>\n",
       "      <td>522.0</td>\n",
       "      <td>1404.0</td>\n",
       "      <td>NW</td>\n",
       "      <td>460.0</td>\n",
       "      <td>458.0</td>\n",
       "      <td>HNL</td>\n",
       "    </tr>\n",
       "    <tr>\n",
       "      <th>6946331</th>\n",
       "      <td>12</td>\n",
       "      <td>2350</td>\n",
       "      <td>12.0</td>\n",
       "      <td>1462.0</td>\n",
       "      <td>720</td>\n",
       "      <td>719.0</td>\n",
       "      <td>1439.0</td>\n",
       "      <td>NW</td>\n",
       "      <td>307.0</td>\n",
       "      <td>330.0</td>\n",
       "      <td>HNL</td>\n",
       "    </tr>\n",
       "    <tr>\n",
       "      <th>6952836</th>\n",
       "      <td>12</td>\n",
       "      <td>1139</td>\n",
       "      <td>919.0</td>\n",
       "      <td>1300.0</td>\n",
       "      <td>1230</td>\n",
       "      <td>1007.0</td>\n",
       "      <td>1297.0</td>\n",
       "      <td>NW</td>\n",
       "      <td>48.0</td>\n",
       "      <td>51.0</td>\n",
       "      <td>LIT</td>\n",
       "    </tr>\n",
       "    <tr>\n",
       "      <th>7034767</th>\n",
       "      <td>12</td>\n",
       "      <td>745</td>\n",
       "      <td>624.0</td>\n",
       "      <td>1359.0</td>\n",
       "      <td>1335</td>\n",
       "      <td>1214.0</td>\n",
       "      <td>1359.0</td>\n",
       "      <td>AA</td>\n",
       "      <td>230.0</td>\n",
       "      <td>230.0</td>\n",
       "      <td>PDX</td>\n",
       "    </tr>\n",
       "    <tr>\n",
       "      <th>7036365</th>\n",
       "      <td>12</td>\n",
       "      <td>1835</td>\n",
       "      <td>1550.0</td>\n",
       "      <td>1275.0</td>\n",
       "      <td>2130</td>\n",
       "      <td>1842.0</td>\n",
       "      <td>1272.0</td>\n",
       "      <td>AA</td>\n",
       "      <td>232.0</td>\n",
       "      <td>235.0</td>\n",
       "      <td>PHL</td>\n",
       "    </tr>\n",
       "    <tr>\n",
       "      <th>7036669</th>\n",
       "      <td>12</td>\n",
       "      <td>1410</td>\n",
       "      <td>1115.0</td>\n",
       "      <td>1265.0</td>\n",
       "      <td>1850</td>\n",
       "      <td>1551.0</td>\n",
       "      <td>1261.0</td>\n",
       "      <td>AA</td>\n",
       "      <td>156.0</td>\n",
       "      <td>160.0</td>\n",
       "      <td>LAS</td>\n",
       "    </tr>\n",
       "  </tbody>\n",
       "</table>\n",
       "</div>"
      ],
      "text/plain": [
       "         Month  CRSDepTime  DepTime  DepDelay  CRSArrTime  ArrTime  ArrDelay  \\\n",
       "235471       1        1010    835.0    1345.0        1515   1324.0    1329.0   \n",
       "943580       2        1234   1121.0    1367.0        2001   1843.0    1362.0   \n",
       "1011007      2        1406   1128.0    1282.0        1844   1559.0    1275.0   \n",
       "1024654      2        1424   1043.0    1219.0        1817   1443.0    1226.0   \n",
       "1025197      2         932    831.0    1379.0        1241   1135.0    1374.0   \n",
       "1520330      3         845    921.0    1476.0        1423   1429.0    1446.0   \n",
       "1529333      3        1029    726.0    1257.0        1230    915.0    1245.0   \n",
       "1536640      3         855    715.0    1340.0        1714   1526.0    1332.0   \n",
       "1546257      3        1355   1723.0    1648.0        1728   2050.0    1642.0   \n",
       "1548762      3        1405   1152.0    1307.0        1715   1503.0    1308.0   \n",
       "2115151      4         905    734.0    1349.0        1420   1239.0    1339.0   \n",
       "2125326      4        1745   1433.0    1248.0        2014   2019.0    1445.0   \n",
       "2136140      4        1007    659.0    1252.0        1304    946.0    1242.0   \n",
       "2147240      4        1724   1432.0    1268.0        2022   1745.0    1283.0   \n",
       "2756695      5        1325   1019.0    1254.0        2144   1852.0    1268.0   \n",
       "3057311      6        2030   2035.0       5.0        2049   1725.0    1236.0   \n",
       "3062737      6        2030   1630.0    1200.0        2049   1655.0    1206.0   \n",
       "3312542      6        1024    916.0    1372.0        1110    954.0    1364.0   \n",
       "3371202      6        1859   1339.0    1120.0        2108   1728.0    1220.0   \n",
       "3724992      7        1310   1209.0    1379.0        2126   2005.0    1359.0   \n",
       "3760805      7         828    730.0    1382.0        1035    928.0    1373.0   \n",
       "3927326      7        1307   1653.0    1666.0        1610   2021.0    1691.0   \n",
       "3927591      7         905    603.0    1258.0        1607   1257.0    1250.0   \n",
       "3947897      7        1105    711.0    1206.0        1807   1433.0    1226.0   \n",
       "4020762      7        1141    912.0    1291.0        1730   1449.0    1279.0   \n",
       "4568973      8         710    652.0    1422.0         953    919.0    1406.0   \n",
       "4582714      8        1105    836.0    1291.0        1226    946.0    1280.0   \n",
       "4616474      8        2106   1744.0    1238.0        2331   1957.0    1226.0   \n",
       "4621833      8        1455   1213.0    1278.0        1631   1326.0    1255.0   \n",
       "5177842      9        1335   1043.0    1268.0        1434   1208.0    1294.0   \n",
       "5227995      9         800    554.0    1314.0        1325   1118.0    1313.0   \n",
       "5239587      9        1215    941.0    1286.0        1550   1307.0    1277.0   \n",
       "5750136     10         855    717.0    1342.0        1406   1224.0    1338.0   \n",
       "5763345     10        1454   1122.0    1228.0        1557   1247.0    1250.0   \n",
       "5772293     10        1516   2028.0    1752.0        1624   2203.0    1779.0   \n",
       "5776216     10        1400   1134.0    1294.0        1745   1522.0    1297.0   \n",
       "5819539     10        1005    728.0    1283.0        1530   1250.0    1280.0   \n",
       "6156148     11        1409   1339.0    1410.0        2130   2040.0    1390.0   \n",
       "6351012     11        1243    831.0    1188.0        1432   1033.0    1201.0   \n",
       "6351422     11        1550   1238.0    1248.0        1704   1345.0    1241.0   \n",
       "6374824     11         613    452.0    1359.0         725    600.0    1355.0   \n",
       "6470795     11        2230   2152.0     -38.0        2315   2227.0    1392.0   \n",
       "6750832     12         800    610.0    1330.0        1503   1317.0    1334.0   \n",
       "6779979     12        1245    824.0    1179.0        1546   1147.0    1201.0   \n",
       "6943390     12        1820   1742.0    1402.0         558    522.0    1404.0   \n",
       "6946331     12        2350     12.0    1462.0         720    719.0    1439.0   \n",
       "6952836     12        1139    919.0    1300.0        1230   1007.0    1297.0   \n",
       "7034767     12         745    624.0    1359.0        1335   1214.0    1359.0   \n",
       "7036365     12        1835   1550.0    1275.0        2130   1842.0    1272.0   \n",
       "7036669     12        1410   1115.0    1265.0        1850   1551.0    1261.0   \n",
       "\n",
       "        UniqueCarrier  ActualElapsedTime  CRSElapsedTime Origin  \n",
       "235471             UA              529.0           545.0    ORD  \n",
       "943580             NW              262.0           267.0    LAX  \n",
       "1011007            AA              151.0           158.0    LAS  \n",
       "1024654            AA              180.0           173.0    JAC  \n",
       "1025197            AA              124.0           129.0    TUS  \n",
       "1520330            NW              188.0           218.0    SAN  \n",
       "1529333            NW              109.0           121.0    LGA  \n",
       "1536640            NW              311.0           319.0    ANC  \n",
       "1546257            NW              147.0           153.0    MSO  \n",
       "1548762            NW              131.0           130.0    EGE  \n",
       "2115151            NW              185.0           195.0    SEA  \n",
       "2125326            NW              406.0           209.0    MCO  \n",
       "2136140            NW              167.0           177.0    RSW  \n",
       "2147240            NW              253.0           238.0    FLL  \n",
       "2756695            AA              333.0           319.0    HNL  \n",
       "3057311            OH             1310.0            79.0    CVG  \n",
       "3062737            OH               85.0            79.0    CVG  \n",
       "3312542            NW               38.0            46.0    MBS  \n",
       "3371202            AA              289.0           189.0    DCA  \n",
       "3724992            UA              296.0           316.0    KOA  \n",
       "3760805            UA              238.0           247.0    MIA  \n",
       "3927326            NW              208.0           183.0    FLL  \n",
       "3927591            NW              234.0           242.0    PHX  \n",
       "3947897            NW              262.0           242.0    LAS  \n",
       "4020762            AA              217.0           229.0    SEA  \n",
       "4568973            NW              147.0           163.0    AUS  \n",
       "4582714            NW               70.0            81.0    BIS  \n",
       "4616474            AA              133.0           145.0    MIA  \n",
       "4621833            AA              133.0           156.0    JAX  \n",
       "5177842            NW               85.0            59.0    CMH  \n",
       "5227995            AA              204.0           205.0    OAK  \n",
       "5239587            AA              146.0           155.0    JAC  \n",
       "5750136            NW              187.0           191.0    SEA  \n",
       "5763345            NW               85.0            63.0    MSN  \n",
       "5772293            NW               95.0            68.0    BUF  \n",
       "5776216            NW              168.0           165.0    BOI  \n",
       "5819539            AA              202.0           205.0    LAS  \n",
       "6156148            UA              301.0           321.0    OGG  \n",
       "6351012            NW              122.0           109.0    PHL  \n",
       "6351422            NW               67.0            74.0    MSY  \n",
       "6374824            NW               68.0            72.0    BTR  \n",
       "6470795            B6             1475.0            45.0    EWR  \n",
       "6750832            UA              307.0           303.0    HNL  \n",
       "6779979            UA              263.0           241.0    SJU  \n",
       "6943390            NW              460.0           458.0    HNL  \n",
       "6946331            NW              307.0           330.0    HNL  \n",
       "6952836            NW               48.0            51.0    LIT  \n",
       "7034767            AA              230.0           230.0    PDX  \n",
       "7036365            AA              232.0           235.0    PHL  \n",
       "7036669            AA              156.0           160.0    LAS  "
      ]
     },
     "execution_count": 16,
     "metadata": {},
     "output_type": "execute_result"
    }
   ],
   "source": [
    "df[np.isfinite(df['ArrDelay'])].query(\"ArrDelay > 1200\")[['Month', 'CRSDepTime', 'DepTime',\n",
    "       'DepDelay',\n",
    "       'CRSArrTime','ArrTime', 'ArrDelay', 'UniqueCarrier',  \n",
    "       'ActualElapsedTime', 'CRSElapsedTime', 'Origin',  \n",
    "       ]]"
   ]
  },
  {
   "cell_type": "code",
   "execution_count": 17,
   "metadata": {},
   "outputs": [
    {
     "data": {
      "text/html": [
       "<div>\n",
       "<style scoped>\n",
       "    .dataframe tbody tr th:only-of-type {\n",
       "        vertical-align: middle;\n",
       "    }\n",
       "\n",
       "    .dataframe tbody tr th {\n",
       "        vertical-align: top;\n",
       "    }\n",
       "\n",
       "    .dataframe thead th {\n",
       "        text-align: right;\n",
       "    }\n",
       "</style>\n",
       "<table border=\"1\" class=\"dataframe\">\n",
       "  <thead>\n",
       "    <tr style=\"text-align: right;\">\n",
       "      <th></th>\n",
       "      <th>Month</th>\n",
       "      <th>DepTime</th>\n",
       "      <th>CRSDepTime</th>\n",
       "      <th>ArrTime</th>\n",
       "      <th>CRSArrTime</th>\n",
       "      <th>UniqueCarrier</th>\n",
       "      <th>ActualElapsedTime</th>\n",
       "      <th>CRSElapsedTime</th>\n",
       "      <th>ArrDelay</th>\n",
       "      <th>DepDelay</th>\n",
       "      <th>Origin</th>\n",
       "    </tr>\n",
       "  </thead>\n",
       "  <tbody>\n",
       "    <tr>\n",
       "      <th>1045418</th>\n",
       "      <td>2</td>\n",
       "      <td>139.0</td>\n",
       "      <td>2120</td>\n",
       "      <td>659.0</td>\n",
       "      <td>15</td>\n",
       "      <td>B6</td>\n",
       "      <td>1760.0</td>\n",
       "      <td>175.0</td>\n",
       "      <td>404.0</td>\n",
       "      <td>-1181.0</td>\n",
       "      <td>JFK</td>\n",
       "    </tr>\n",
       "  </tbody>\n",
       "</table>\n",
       "</div>"
      ],
      "text/plain": [
       "         Month  DepTime  CRSDepTime  ArrTime  CRSArrTime UniqueCarrier  \\\n",
       "1045418      2    139.0        2120    659.0          15            B6   \n",
       "\n",
       "         ActualElapsedTime  CRSElapsedTime  ArrDelay  DepDelay Origin  \n",
       "1045418             1760.0           175.0     404.0   -1181.0    JFK  "
      ]
     },
     "execution_count": 17,
     "metadata": {},
     "output_type": "execute_result"
    }
   ],
   "source": [
    "df[np.isfinite(df['ArrDelay'])].query(\"ActualElapsedTime - CRSElapsedTime > 1500 \")[['Month', 'DepTime', 'CRSDepTime',\n",
    "       'ArrTime', 'CRSArrTime', 'UniqueCarrier',  \n",
    "       'ActualElapsedTime', 'CRSElapsedTime', 'ArrDelay',\n",
    "       'DepDelay', 'Origin',  \n",
    "       ]]"
   ]
  },
  {
   "cell_type": "markdown",
   "metadata": {},
   "source": [
    "The hight delay flight seems real. But some of them are strange like the flight who take off with a small delay but arrived with a huge delay of many hours.\n",
    "For exemple, it's impossible for a plane to flight 18 hours when only 76 minutes was expected at take off.\n",
    "\n",
    "So we could supposed that the plane have landed on an another airport before going to the final airport.\n",
    "\n",
    "Another strange behaviour at first look is when real departure time are before planed but with a huge positive delay : it means the plane has take off the day after it was expected.\n",
    "\n",
    "I have found strange exemple but I think we could keep them because we have a huge dataset and the values are in an acceptable range."
   ]
  },
  {
   "cell_type": "code",
   "execution_count": 18,
   "metadata": {},
   "outputs": [
    {
     "name": "stdout",
     "output_type": "stream",
     "text": [
      "flights_count : 7141922\n",
      "late_count : 2450079\n",
      "late_count/flights_count : 0.3430559728879705\n"
     ]
    }
   ],
   "source": [
    "flights_count = df.shape[0]\n",
    "late_count = df[df['ArrDelay'] > 5].shape[0]\n",
    "pv('flights_count')\n",
    "pv('late_count')\n",
    "pv('late_count/flights_count')"
   ]
  },
  {
   "cell_type": "code",
   "execution_count": 19,
   "metadata": {},
   "outputs": [
    {
     "data": {
      "text/plain": [
       "[Unknown, Unknown, Unknown, Unknown, Unknown, ..., Unknown, Unknown, Unknown, Unknown, Unknown]\n",
       "Length: 7141922\n",
       "Categories (8, object): [Unknown < Early < On Time < Small Delay < Medium Delay < Very late < Diverted < Cancelled]"
      ]
     },
     "execution_count": 19,
     "metadata": {},
     "output_type": "execute_result"
    },
    {
     "data": {
      "text/plain": [
       "On Time         4233292\n",
       "Small Delay      989091\n",
       "Early            848847\n",
       "Medium Delay     688024\n",
       "Very late        244548\n",
       "Cancelled        121934\n",
       "Diverted          16186\n",
       "Name: ArrStatus, dtype: int64"
      ]
     },
     "execution_count": 19,
     "metadata": {},
     "output_type": "execute_result"
    }
   ],
   "source": [
    "# 'Cancelled', 'CancellationCode', 'Diverted'\n",
    "# Thanks to https://stackoverflow.com/questions/32633977/how-to-create-categorical-variable-based-on-a-numerical-variable\n",
    "\n",
    "# Set the categorical variable values\n",
    "arr_status = ['Unknown', 'Early', 'On Time', 'Small Delay',\n",
    "              'Medium Delay' ,'Very late', 'Diverted', 'Cancelled']\n",
    "# Set default value\n",
    "df['ArrStatus'] = 'Unknown';\n",
    "pd.Categorical(df.ArrStatus, categories=arr_status, ordered=True);\n",
    "# Cancelled Flight\n",
    "df.loc[(df['Cancelled'] == 1) , 'ArrStatus'] = 'Cancelled'\n",
    "#df['ArrStatus'].value_counts()\n",
    "# Cancelled Flight\n",
    "df.loc[(df['Diverted'] == 1) , 'ArrStatus'] = 'Diverted'\n",
    "#df['ArrStatus'].value_counts()\n",
    "df.loc[(df['ArrDelay'] <= -15) , 'ArrStatus'] = 'Early'\n",
    "df.loc[(df['ArrDelay'] > -15) , 'ArrStatus'] = 'On Time'\n",
    "df.loc[(df['ArrDelay'] > 10) , 'ArrStatus'] = 'Small Delay'\n",
    "df.loc[(df['ArrDelay'] > 30) , 'ArrStatus'] = 'Medium Delay'\n",
    "df.loc[(df['ArrDelay'] > 90) , 'ArrStatus'] = 'Very late'\n",
    "df['ArrStatus'].value_counts()\n",
    "# Elegant solution but work only for value separation\n",
    "# bins=[-float('Inf'),-15, 5, 30, 65, float('Inf')]\n",
    "# df['ArrStatus'] = pd.cut(df['ArrDelay'], bins, labels=['Early', 'On Time', 'Small Delay', 'Medium Delay' ,'Very late'])\n",
    "\n"
   ]
  },
  {
   "cell_type": "code",
   "execution_count": 20,
   "metadata": {},
   "outputs": [
    {
     "data": {
      "image/png": "[encoded data removed]",
      "text/plain": [
       "<Figure size 936x432 with 2 Axes>"
      ]
     },
     "metadata": {
      "needs_background": "light"
     },
     "output_type": "display_data"
    }
   ],
   "source": [
    "base_color = sns.color_palette()[0]\n",
    "#sns.palplot(sns.color_palette(\"Blues\"))\n",
    "\n",
    "f,ax=plt.subplots(1,2,figsize=(13,6));\n",
    "sns.countplot('ArrStatus',order = df['ArrStatus'].value_counts().index, data=df,ax=ax[0],\n",
    "             color = base_color);\n",
    "#plt.xticks(rotation = 90)\n",
    "# Thanks to https://stackoverflow.com/questions/42528921/how-to-prevent-overlapping-x-axis-labels-in-sns-countplot\n",
    "ax[0].set_xticklabels(ax[0].get_xticklabels(), rotation=40, ha=\"right\")\n",
    "ax[0].set_title('Arrival Status (count)');\n",
    "ax[0].set_xlabel('Arrival Status');\n",
    "\n",
    "# Thanks to https://medium.com/@kvnamipara/a-better-visualisation-of-pie-charts-by-matplotlib-935b7667d77f\n",
    "#explosion\n",
    "explode = []\n",
    "for i in range(len(df['ArrStatus'].value_counts())):\n",
    "    explode.append(0.05)\n",
    "\n",
    "df['ArrStatus'].value_counts().plot.pie(autopct='%1.1f%%',ax=ax[1],\n",
    "                                       wedgeprops = {'width' : 0.25},\n",
    "                                       startangle = 0,\n",
    "                                       counterclock = False,\n",
    "                                       colors = sns.color_palette(\"Blues\"),\n",
    "                                       pctdistance=0.85, explode = explode);\n",
    "\n",
    "\n",
    "ax[1].set_title('Arrival Status (proportion)');\n",
    "ax[1].set_ylabel('');\n",
    "# Equal aspect ratio ensures that pie is drawn as a circle\n",
    "ax[1].axis('equal')  \n",
    "plt.tight_layout()\n",
    "plt.show();\n"
   ]
  },
  {
   "cell_type": "markdown",
   "metadata": {},
   "source": [
    "We learn that pie chart is not suited for too much bin, so let's group it a bit more.\n",
    "\n"
   ]
  },
  {
   "cell_type": "code",
   "execution_count": 21,
   "metadata": {},
   "outputs": [
    {
     "data": {
      "text/plain": [
       "On Time                  5082139\n",
       "Delayed                  1921663\n",
       "Diverted or Cancelled     138120\n",
       "Name: ArrStatus_light, dtype: int64"
      ]
     },
     "execution_count": 21,
     "metadata": {},
     "output_type": "execute_result"
    }
   ],
   "source": [
    "df['ArrStatus_light'] = df['ArrStatus']\n",
    "\n",
    "# Thanks to https://stackoverflow.com/questions/48345415/how-to-group-categorical-values-as-a-group-in-pandas\n",
    "mapping = { \n",
    "    'Early':'On Time',\n",
    "    'Small Delay':'Delayed',\n",
    "    'Medium Delay':'Delayed',\n",
    "    'Very late':'Delayed',\n",
    "    'Diverted':'Diverted or Cancelled',\n",
    "    'Cancelled':'Diverted or Cancelled'\n",
    "    }\n",
    "\n",
    "df['ArrStatus_light'] = df['ArrStatus_light'].replace(mapping);\n",
    "df.ArrStatus_light.value_counts()"
   ]
  },
  {
   "cell_type": "code",
   "execution_count": 24,
   "metadata": {},
   "outputs": [
    {
     "data": {
      "image/png": "[encoded data removed]",
      "text/plain": [
       "<Figure size 432x288 with 1 Axes>"
      ]
     },
     "metadata": {},
     "output_type": "display_data"
    }
   ],
   "source": [
    "\n",
    "base_color = sns.color_palette()[0]\n",
    "#sns.palplot(sns.color_palette(\"Blues\"))\n",
    "\n",
    "\n",
    "# Thanks to https://medium.com/@kvnamipara/a-better-visualisation-of-pie-charts-by-matplotlib-935b7667d77f\n",
    "#explosion\n",
    "# explode = []\n",
    "# for i in range(len(df['ArrStatus_light'].value_counts())):\n",
    "#     explode.append(0.05)\n",
    "\n",
    "df['ArrStatus_light'].value_counts().plot.pie(autopct='%1.1f%%',\n",
    "                                       wedgeprops = {'width' : 0.3},\n",
    "                                       startangle = 0,\n",
    "                                       counterclock = False,\n",
    "                                       pctdistance=0.85);\n",
    "\n",
    "ax = plt.gca();\n",
    "ax.set_title('Arrival Status', fontsize=18, y=1.05);\n",
    "ax.set_ylabel('');\n",
    "# # Equal aspect ratio ensures that pie is drawn as a circle\n",
    "ax.axis('equal')  \n",
    "plt.tight_layout();\n",
    "# plt.show()"
   ]
  },
  {
   "cell_type": "markdown",
   "metadata": {},
   "source": [
    "Let's keep only flight and early flight from the dataset.\n",
    "\n",
    "So we will speed up process time as now we will focus on delayed flights."
   ]
  },
  {
   "cell_type": "code",
   "execution_count": 25,
   "metadata": {},
   "outputs": [],
   "source": [
    "#df_late = df.drop(df[df.ArrStatus_light == 'On Time'].index)\n",
    "df_late = df[df.ArrStatus_light == 'Delayed']"
   ]
  },
  {
   "cell_type": "code",
   "execution_count": 26,
   "metadata": {},
   "outputs": [
    {
     "data": {
      "text/plain": [
       "(1921663, 31)"
      ]
     },
     "execution_count": 26,
     "metadata": {},
     "output_type": "execute_result"
    }
   ],
   "source": [
    "df_late.shape"
   ]
  },
  {
   "cell_type": "code",
   "execution_count": null,
   "metadata": {},
   "outputs": [],
   "source": [
    "df[df['ArrDelay'] < -20].shape[0]"
   ]
  },
  {
   "cell_type": "markdown",
   "metadata": {},
   "source": [
    "## Check Month"
   ]
  },
  {
   "cell_type": "code",
   "execution_count": 90,
   "metadata": {},
   "outputs": [],
   "source": [
    "\n",
    "\n",
    "def comparative_histogram_continuous_variable(column_name, binsize = 100, xlabel=''):\n",
    "    bins = np.arange(df[column_name].min(), df[column_name].max()+binsize, binsize);\n",
    "    plt.figure(figsize=[8, 5]);\n",
    "    plt.hist(data = df, x = column_name, bins = bins);\n",
    "    plt.hist(data = df_late, x = column_name, bins = bins);\n",
    "    plt.title('Flights count per ' + column_name, fontsize=18);\n",
    "    xlabel = column_name if xlabel == '' else xlabel\n",
    "    plt.xlabel(xlabel);\n",
    "    plt.ylabel('Count');\n",
    "    plt.show;\n",
    "\n",
    "def comparative_histogram_categorical_variable(column_name, xlabel=''):\n",
    "    xlabel = column_name if xlabel == '' else xlabel\n",
    "    sns.countplot(x=column_name, palette=\"Blues\", data=df);\n",
    "    sns.countplot(x=column_name, palette=\"Reds\", data=df_late);\n",
    "    plt.title('Flights count per ' + column_name, fontsize=18);\n",
    "    plt.xlabel(xlabel, labelpad=16);\n",
    "    plt.ylabel('Count', labelpad=16);"
   ]
  },
  {
   "cell_type": "code",
   "execution_count": 91,
   "metadata": {},
   "outputs": [
    {
     "data": {
      "text/plain": [
       "Index(['Year', 'Month', 'DayofMonth', 'DayOfWeek', 'DepTime', 'CRSDepTime',\n",
       "       'ArrTime', 'CRSArrTime', 'UniqueCarrier', 'FlightNum', 'TailNum',\n",
       "       'ActualElapsedTime', 'CRSElapsedTime', 'AirTime', 'ArrDelay',\n",
       "       'DepDelay', 'Origin', 'Dest', 'Distance', 'TaxiIn', 'TaxiOut',\n",
       "       'Cancelled', 'CancellationCode', 'Diverted', 'CarrierDelay',\n",
       "       'WeatherDelay', 'NASDelay', 'SecurityDelay', 'LateAircraftDelay',\n",
       "       'ArrStatus', 'ArrStatus_light'],\n",
       "      dtype='object')"
      ]
     },
     "execution_count": 91,
     "metadata": {},
     "output_type": "execute_result"
    }
   ],
   "source": [
    "df_late.columns"
   ]
  },
  {
   "cell_type": "code",
   "execution_count": 92,
   "metadata": {},
   "outputs": [
    {
     "data": {
      "image/png": "[encoded data removed]",
      "text/plain": [
       "<Figure size 432x288 with 1 Axes>"
      ]
     },
     "metadata": {
      "needs_background": "light"
     },
     "output_type": "display_data"
    }
   ],
   "source": [
    "comparative_histogram_categorical_variable('Month');\n"
   ]
  },
  {
   "cell_type": "code",
   "execution_count": null,
   "metadata": {},
   "outputs": [],
   "source": []
  },
  {
   "cell_type": "markdown",
   "metadata": {},
   "source": [
    "## DayofMonth"
   ]
  },
  {
   "cell_type": "code",
   "execution_count": 71,
   "metadata": {
    "scrolled": true
   },
   "outputs": [
    {
     "data": {
      "image/png": "[encoded data removed]",
      "text/plain": [
       "<Figure size 432x288 with 1 Axes>"
      ]
     },
     "metadata": {
      "needs_background": "light"
     },
     "output_type": "display_data"
    }
   ],
   "source": [
    "comparative_histogram_categorical_variable('DayofMonth');"
   ]
  },
  {
   "cell_type": "code",
   "execution_count": null,
   "metadata": {},
   "outputs": [],
   "source": []
  },
  {
   "cell_type": "markdown",
   "metadata": {},
   "source": [
    "## DayOfWeek"
   ]
  },
  {
   "cell_type": "code",
   "execution_count": 72,
   "metadata": {
    "scrolled": true
   },
   "outputs": [
    {
     "data": {
      "image/png": "[encoded data removed]",
      "text/plain": [
       "<Figure size 432x288 with 1 Axes>"
      ]
     },
     "metadata": {
      "needs_background": "light"
     },
     "output_type": "display_data"
    }
   ],
   "source": [
    "comparative_histogram_categorical_variable('DayOfWeek');"
   ]
  },
  {
   "cell_type": "code",
   "execution_count": null,
   "metadata": {},
   "outputs": [],
   "source": []
  },
  {
   "cell_type": "markdown",
   "metadata": {},
   "source": [
    "## DepTime"
   ]
  },
  {
   "cell_type": "code",
   "execution_count": 93,
   "metadata": {
    "scrolled": true
   },
   "outputs": [
    {
     "data": {
      "image/png": "[encoded data removed]",
      "text/plain": [
       "<Figure size 576x360 with 1 Axes>"
      ]
     },
     "metadata": {
      "needs_background": "light"
     },
     "output_type": "display_data"
    }
   ],
   "source": [
    "comparative_histogram_continuous_variable('DepTime');"
   ]
  },
  {
   "cell_type": "markdown",
   "metadata": {},
   "source": [
    "## UniqueCarrier"
   ]
  },
  {
   "cell_type": "code",
   "execution_count": 74,
   "metadata": {},
   "outputs": [
    {
     "data": {
      "image/png": "[encoded data removed]",
      "text/plain": [
       "<Figure size 432x288 with 1 Axes>"
      ]
     },
     "metadata": {
      "needs_background": "light"
     },
     "output_type": "display_data"
    }
   ],
   "source": [
    "comparative_histogram_categorical_variable('UniqueCarrier')"
   ]
  },
  {
   "cell_type": "code",
   "execution_count": null,
   "metadata": {},
   "outputs": [],
   "source": []
  },
  {
   "cell_type": "code",
   "execution_count": null,
   "metadata": {},
   "outputs": [],
   "source": []
  },
  {
   "cell_type": "markdown",
   "metadata": {},
   "source": [
    "## 'Origin'"
   ]
  },
  {
   "cell_type": "code",
   "execution_count": null,
   "metadata": {},
   "outputs": [],
   "source": []
  },
  {
   "cell_type": "code",
   "execution_count": 75,
   "metadata": {},
   "outputs": [
    {
     "name": "stdout",
     "output_type": "stream",
     "text": [
      "Number of Origin airport : 289\n",
      "\n",
      "10 mosts used origin airport\n",
      "ATL 407971\n",
      "ORD 373736\n",
      "DFW 301163\n",
      "LAX 233788\n",
      "DEN 232476\n",
      "IAH 224061\n",
      "PHX 215086\n",
      "LAS 184733\n",
      "EWR 158291\n",
      "SLC 142080\n"
     ]
    }
   ],
   "source": [
    "import itertools\n",
    "vc = df.Origin.value_counts()\n",
    "print('Number of Origin airport :', len(vc))\n",
    "print('\\n10 mosts used origin airport')\n",
    "# Thanks to https://stackoverflow.com/questions/36106712/how-can-i-limit-iterations-of-a-loop-in-python\n",
    "for name, cnt in itertools.islice(vc.iteritems(),0,10):\n",
    "      print(name, cnt)"
   ]
  },
  {
   "cell_type": "code",
   "execution_count": null,
   "metadata": {},
   "outputs": [],
   "source": []
  },
  {
   "cell_type": "markdown",
   "metadata": {},
   "source": [
    "## 'Dest', "
   ]
  },
  {
   "cell_type": "code",
   "execution_count": 76,
   "metadata": {},
   "outputs": [
    {
     "name": "stdout",
     "output_type": "stream",
     "text": [
      "Number of Dest airport : 296\n",
      "\n",
      "10 mosts used Dest airport\n",
      "ATL 404829\n",
      "ORD 373799\n",
      "DFW 301312\n",
      "LAX 233900\n",
      "DEN 232365\n",
      "IAH 224004\n",
      "PHX 215085\n",
      "LAS 184716\n",
      "EWR 158256\n",
      "SLC 142262\n"
     ]
    }
   ],
   "source": [
    "import itertools\n",
    "vc = df.Dest.value_counts()\n",
    "print('Number of Dest airport :', len(vc))\n",
    "print('\\n10 mosts used Dest airport')\n",
    "# Thanks to https://stackoverflow.com/questions/36106712/how-can-i-limit-iterations-of-a-loop-in-python\n",
    "for name, cnt in itertools.islice(vc.iteritems(),0,10):\n",
    "      print(name, cnt)"
   ]
  },
  {
   "cell_type": "code",
   "execution_count": null,
   "metadata": {},
   "outputs": [],
   "source": []
  },
  {
   "cell_type": "markdown",
   "metadata": {},
   "source": [
    "## 'Distance'"
   ]
  },
  {
   "cell_type": "code",
   "execution_count": 94,
   "metadata": {},
   "outputs": [
    {
     "data": {
      "image/png": "[encoded data removed]",
      "text/plain": [
       "<Figure size 576x360 with 1 Axes>"
      ]
     },
     "metadata": {
      "needs_background": "light"
     },
     "output_type": "display_data"
    }
   ],
   "source": [
    "comparative_histogram_continuous_variable('Distance', xlabel='Distance in miles')"
   ]
  },
  {
   "cell_type": "code",
   "execution_count": null,
   "metadata": {},
   "outputs": [],
   "source": []
  },
  {
   "cell_type": "code",
   "execution_count": null,
   "metadata": {},
   "outputs": [],
   "source": []
  },
  {
   "cell_type": "code",
   "execution_count": 115,
   "metadata": {},
   "outputs": [
    {
     "data": {
      "image/png": "[encoded data removed]",
      "text/plain": [
       "<Figure size 432x288 with 1 Axes>"
      ]
     },
     "metadata": {
      "needs_background": "light"
     },
     "output_type": "display_data"
    }
   ],
   "source": [
    "reasons = ['LateAircraftDelay', 'NASDelay', 'WeatherDelay', 'SecurityDelay', ]\n",
    "\n",
    "def histogram_continuous_variable(column_name, binsize = 100, legend=''):\n",
    "    bins = np.arange(df[column_name].min(), df[column_name].max()+binsize, binsize);\n",
    "    #plt.figure(figsize=[8, 5]);\n",
    "    plt.hist(data = df_late, x = column_name, bins = bins, label=legend);\n",
    "    plt.title('Flights count per ' + column_name, fontsize=18);\n",
    "    legend = column_name if legend == '' else legend\n",
    "    plt.xlabel('Minutes');\n",
    "    plt.ylabel('Count');\n",
    "    plt.xlim([20,200]);\n",
    "    plt.ylim([0,20000]);\n",
    "    plt.legend(bbox_to_anchor=(1.05, 1), loc=2, borderaxespad=0.)\n",
    "    #plt.show;\n",
    "\n",
    "histogram_continuous_variable('LateAircraftDelay', binsize=5, legend='Late Aircraft Delay')\n",
    "histogram_continuous_variable('NASDelay', binsize=5, legend='NAS Delay')\n",
    "histogram_continuous_variable('WeatherDelay', binsize=5, legend='Weather Delay')\n",
    "histogram_continuous_variable('SecurityDelay', binsize=5, legend='Security Delay')\n",
    "plt.show;\n",
    "\n",
    "# import matplotlib.patches as mpatches\n",
    "# red_patch = mpatches.Patch(color='blue', label='Late Aircraft Delay')\n",
    "# red_patch = mpatches.Patch(color='orange', label='NAS Delay')\n",
    "# red_patch = mpatches.Patch(color='green', label='Weather Delay')\n",
    "# red_patch = mpatches.Patch(color='red', label='Security Delay')\n",
    "# plt.legend(handles=[red_patch]);\n"
   ]
  },
  {
   "cell_type": "code",
   "execution_count": 120,
   "metadata": {},
   "outputs": [
    {
     "name": "stdout",
     "output_type": "stream",
     "text": [
      "name : ['LateAircraftDelay', 'NASDelay', 'WeatherDelay', 'SecurityDelay']\n",
      "sum_delay : [32245816, 25610715, 4853843, 221371]\n"
     ]
    },
    {
     "data": {
      "image/png": "[encoded data removed]",
      "text/plain": [
       "<Figure size 432x288 with 1 Axes>"
      ]
     },
     "metadata": {
      "needs_background": "light"
     },
     "output_type": "display_data"
    }
   ],
   "source": [
    "\n",
    "name = []\n",
    "sum_delay = []\n",
    "for reason in reasons:\n",
    "    name.append(reason)\n",
    "    sum_delay.append(df[reason].sum())\n",
    "    \n",
    "pv('name')\n",
    "pv('sum_delay')\n",
    "\n",
    "#plt.hist(data = df_late, x = sum_delay, bins = bins, label=legend);\n",
    "#plt.bar(np.arange(len(reasons)), sum_delay);\n",
    "#plt.xticks(np.arange(len(reasons)), name);\n",
    "\n",
    "sns.barplot(x=name, y=sum_delay);"
   ]
  },
  {
   "cell_type": "code",
   "execution_count": 109,
   "metadata": {},
   "outputs": [
    {
     "data": {
      "text/plain": [
       "array([0, 1, 2, 3])"
      ]
     },
     "execution_count": 109,
     "metadata": {},
     "output_type": "execute_result"
    }
   ],
   "source": [
    "np.arange(4)"
   ]
  },
  {
   "cell_type": "code",
   "execution_count": null,
   "metadata": {},
   "outputs": [],
   "source": []
  },
  {
   "cell_type": "code",
   "execution_count": 28,
   "metadata": {},
   "outputs": [
    {
     "data": {
      "text/plain": [
       "12    183863\n",
       "10    181666\n",
       "7     177426\n",
       "6     176805\n",
       "8     166431\n",
       "3     162997\n",
       "11    152478\n",
       "9     151967\n",
       "5     147459\n",
       "4     143621\n",
       "2     141754\n",
       "1     135196\n",
       "Name: Month, dtype: int64"
      ]
     },
     "execution_count": 28,
     "metadata": {},
     "output_type": "execute_result"
    }
   ],
   "source": [
    "df_late.Month.value_counts()"
   ]
  },
  {
   "cell_type": "code",
   "execution_count": null,
   "metadata": {},
   "outputs": [],
   "source": [
    "\n",
    "\n",
    "df_late.plot(x='Month', kind='bar')"
   ]
  },
  {
   "cell_type": "code",
   "execution_count": null,
   "metadata": {},
   "outputs": [],
   "source": []
  },
  {
   "cell_type": "code",
   "execution_count": null,
   "metadata": {},
   "outputs": [],
   "source": []
  },
  {
   "cell_type": "code",
   "execution_count": null,
   "metadata": {},
   "outputs": [],
   "source": []
  },
  {
   "cell_type": "code",
   "execution_count": null,
   "metadata": {},
   "outputs": [],
   "source": [
    "df.plot.bar(x='Cancelled', y='Month', rot=0)"
   ]
  },
  {
   "cell_type": "code",
   "execution_count": null,
   "metadata": {},
   "outputs": [],
   "source": [
    "\n",
    "min_delay = 1000\n",
    "#df_hight_delay = df[np.isfinite(df['Cancelled'])].query(\"ArrDelay > @min_delay\")\n",
    "\n",
    "# start with a standard-scaled plot\n",
    "binsize = 100\n",
    "bins = np.arange(min_delay, df_hight_delay['ArrDelay'].max()+binsize, binsize);\n",
    "plt.figure(figsize=[8, 5]);\n",
    "plt.hist(data = df_hight_delay, x = 'ArrDelay', bins = bins);\n",
    "plt.xlabel('ArrDelay (min)');\n",
    "plt.show();\n"
   ]
  },
  {
   "cell_type": "code",
   "execution_count": null,
   "metadata": {},
   "outputs": [],
   "source": [
    "from pandas.plotting import scatter_matrix\n",
    "scatter_matrix(df, alpha=0.2, figsize=(20, 20), diagonal='kde');"
   ]
  },
  {
   "cell_type": "code",
   "execution_count": null,
   "metadata": {},
   "outputs": [],
   "source": []
  },
  {
   "cell_type": "code",
   "execution_count": null,
   "metadata": {},
   "outputs": [],
   "source": []
  },
  {
   "cell_type": "code",
   "execution_count": null,
   "metadata": {},
   "outputs": [],
   "source": []
  },
  {
   "cell_type": "markdown",
   "metadata": {},
   "source": [
    "> Make sure that, after every plot or related series of plots, that you\n",
    "include a Markdown cell with comments about what you observed, and what\n",
    "you plan on investigating next."
   ]
  },
  {
   "cell_type": "code",
   "execution_count": null,
   "metadata": {},
   "outputs": [],
   "source": []
  },
  {
   "cell_type": "markdown",
   "metadata": {},
   "source": [
    "### Discuss the distribution(s) of your variable(s) of interest. Were there any unusual points? Did you need to perform any transformations?\n",
    "\n",
    "> Your answer here!\n",
    "The ArrDelay seems clean and tidy\n",
    "\n",
    "\n",
    "\n",
    "### Of the features you investigated, were there any unusual distributions? Did you perform any operations on the data to tidy, adjust, or change the form of the data? If so, why did you do this?\n",
    "\n",
    "> Your answer here!\n",
    "\n",
    "To compare delay by Airport we have to compute a new feature that divide delay by number of flights\n",
    "\n",
    "We could also compute a new feature by computing delay category : low, medium, high and canceled."
   ]
  },
  {
   "cell_type": "markdown",
   "metadata": {},
   "source": [
    "## Bivariate Exploration\n",
    "\n",
    "> In this section, investigate relationships between pairs of variables in your\n",
    "data. Make sure the variables that you cover here have been introduced in some\n",
    "fashion in the previous section (univariate exploration)."
   ]
  },
  {
   "cell_type": "code",
   "execution_count": null,
   "metadata": {},
   "outputs": [],
   "source": []
  },
  {
   "cell_type": "code",
   "execution_count": null,
   "metadata": {},
   "outputs": [],
   "source": []
  },
  {
   "cell_type": "code",
   "execution_count": null,
   "metadata": {},
   "outputs": [],
   "source": [
    "Violin plot ?"
   ]
  },
  {
   "cell_type": "markdown",
   "metadata": {},
   "source": [
    "### Talk about some of the relationships you observed in this part of the investigation. How did the feature(s) of interest vary with other features in the dataset?\n",
    "\n",
    "> Your answer here!\n",
    "\n",
    "### Did you observe any interesting relationships between the other features (not the main feature(s) of interest)?\n",
    "\n",
    "> Your answer here!"
   ]
  },
  {
   "cell_type": "markdown",
   "metadata": {},
   "source": [
    "## Multivariate Exploration\n",
    "\n",
    "> Create plots of three or more variables to investigate your data even\n",
    "further. Make sure that your investigations are justified, and follow from\n",
    "your work in the previous sections."
   ]
  },
  {
   "cell_type": "code",
   "execution_count": null,
   "metadata": {},
   "outputs": [],
   "source": []
  },
  {
   "cell_type": "markdown",
   "metadata": {},
   "source": [
    "### Talk about some of the relationships you observed in this part of the investigation. Were there features that strengthened each other in terms of looking at your feature(s) of interest?\n",
    "\n",
    "> Your answer here!\n",
    "\n",
    "### Were there any interesting or surprising interactions between features?\n",
    "\n",
    "> Your answer here!"
   ]
  },
  {
   "cell_type": "markdown",
   "metadata": {},
   "source": [
    "> At the end of your report, make sure that you export the notebook as an\n",
    "html file from the `File > Download as... > HTML` menu. Make sure you keep\n",
    "track of where the exported file goes, so you can put it in the same folder\n",
    "as this notebook for project submission. Also, make sure you remove all of\n",
    "the quote-formatted guide notes like this one before you finish your report!"
   ]
  },
  {
   "cell_type": "code",
   "execution_count": null,
   "metadata": {},
   "outputs": [],
   "source": []
  },
  {
   "cell_type": "code",
   "execution_count": null,
   "metadata": {},
   "outputs": [],
   "source": []
  },
  {
   "cell_type": "code",
   "execution_count": null,
   "metadata": {},
   "outputs": [],
   "source": []
  },
  {
   "cell_type": "code",
   "execution_count": 14,
   "metadata": {},
   "outputs": [
    {
     "data": {
      "image/png": "[encoded data removed]",
      "text/plain": [
       "<Figure size 936x360 with 1 Axes>"
      ]
     },
     "metadata": {
      "needs_background": "light"
     },
     "output_type": "display_data"
    }
   ],
   "source": [
    "\n",
    "plt.figure(figsize=(13,5));\n",
    "sns.boxplot(x='ArrDelay', data=df[df['ArrDelay'] > 500], palette='Reds', orient='h');\n",
    "plt.title(\"The delay distribution of flights\", fontsize=18, y=1.05);\n",
    "plt.xlabel(\"Arrival delay\", fontsize=15, labelpad=5);\n"
   ]
  },
  {
   "cell_type": "code",
   "execution_count": null,
   "metadata": {},
   "outputs": [],
   "source": []
  },
  {
   "cell_type": "code",
   "execution_count": null,
   "metadata": {},
   "outputs": [],
   "source": []
  },
  {
   "cell_type": "code",
   "execution_count": null,
   "metadata": {},
   "outputs": [],
   "source": []
  }
 ],
 "metadata": {
  "kernelspec": {
   "display_name": "Python 3",
   "language": "python",
   "name": "python3"
  },
  "language_info": {
   "codemirror_mode": {
    "name": "ipython",
    "version": 3
   },
   "file_extension": ".py",
   "mimetype": "text/x-python",
   "name": "python",
   "nbconvert_exporter": "python",
   "pygments_lexer": "ipython3",
   "version": "3.7.1"
  },
  "widgets": {
   "state": {},
   "version": "1.1.2"
  }
 },
 "nbformat": 4,
 "nbformat_minor": 2
}
