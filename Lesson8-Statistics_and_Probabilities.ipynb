{
 "cells": [
  {
   "cell_type": "code",
   "execution_count": 10,
   "metadata": {},
   "outputs": [],
   "source": [
    "# Put these at the top of every notebook, to get automatic reloading and inline plotting\n",
    "%reload_ext autoreload\n",
    "%autoreload 2\n",
    "%matplotlib inline\n",
    "from IPython.core.interactiveshell import InteractiveShell\n",
    "InteractiveShell.ast_node_interactivity = \"all\""
   ]
  },
  {
   "cell_type": "code",
   "execution_count": 11,
   "metadata": {},
   "outputs": [],
   "source": [
    "import numpy as np\n",
    "# Please note again that we are using 0 to represent heads, and 1 to represent tails."
   ]
  },
  {
   "cell_type": "markdown",
   "metadata": {},
   "source": [
    "## simulate 1 million tests of two fair coin flips"
   ]
  },
  {
   "cell_type": "code",
   "execution_count": 2,
   "metadata": {},
   "outputs": [
    {
     "data": {
      "text/plain": [
       "0.249848"
      ]
     },
     "execution_count": 2,
     "metadata": {},
     "output_type": "execute_result"
    }
   ],
   "source": [
    "# simulate 1 million tests of two fair coin flips\n",
    "tests = np.random.randint(2, size=(int(1e6), 2))\n",
    "\n",
    "# sums of all tests\n",
    "test_sums = tests.sum(axis=1)\n",
    "\n",
    "# proportion of tests that produced exactly two heads\n",
    "(test_sums == 0).mean()\n"
   ]
  },
  {
   "cell_type": "markdown",
   "metadata": {},
   "source": [
    "### Mathematics verification"
   ]
  },
  {
   "cell_type": "code",
   "execution_count": 83,
   "metadata": {},
   "outputs": [
    {
     "data": {
      "text/plain": [
       "0.25"
      ]
     },
     "execution_count": 83,
     "metadata": {},
     "output_type": "execute_result"
    }
   ],
   "source": [
    "p_h = 0.5\n",
    "p_t = p_h\n",
    "flips = 2\n",
    "p_two_heads = p_h**flips\n",
    "p_two_heads"
   ]
  },
  {
   "cell_type": "code",
   "execution_count": 19,
   "metadata": {},
   "outputs": [
    {
     "data": {
      "text/plain": [
       "array([[1, 0, 0],\n",
       "       [1, 1, 1],\n",
       "       [0, 1, 0],\n",
       "       ...,\n",
       "       [1, 1, 1],\n",
       "       [1, 0, 0],\n",
       "       [1, 1, 0]])"
      ]
     },
     "execution_count": 19,
     "metadata": {},
     "output_type": "execute_result"
    },
    {
     "data": {
      "text/plain": [
       "array([1, 3, 1, ..., 3, 1, 2])"
      ]
     },
     "execution_count": 19,
     "metadata": {},
     "output_type": "execute_result"
    },
    {
     "data": {
      "text/plain": [
       "array([ True, False,  True, ..., False,  True, False])"
      ]
     },
     "execution_count": 19,
     "metadata": {},
     "output_type": "execute_result"
    },
    {
     "data": {
      "text/plain": [
       "374511"
      ]
     },
     "execution_count": 19,
     "metadata": {},
     "output_type": "execute_result"
    },
    {
     "data": {
      "text/plain": [
       "374511"
      ]
     },
     "execution_count": 19,
     "metadata": {},
     "output_type": "execute_result"
    },
    {
     "data": {
      "text/plain": [
       "374511"
      ]
     },
     "execution_count": 19,
     "metadata": {},
     "output_type": "execute_result"
    },
    {
     "data": {
      "text/plain": [
       "0.374511"
      ]
     },
     "execution_count": 19,
     "metadata": {},
     "output_type": "execute_result"
    }
   ],
   "source": [
    "# simulate 1 million tests of three fair coin flips\n",
    "tests = np.random.randint(2, size=(int(1e6), 3))\n",
    "tests\n",
    "\n",
    "\n",
    "# sums of all tests\n",
    "test_sums = tests.sum(axis=1)\n",
    "test_sums\n",
    "\n",
    "\n",
    "# proportion of tests that produced exactly one head\n",
    "# One head on 3 flips = 1 + 0 + 0 = 1\n",
    "one_head = (test_sums == 1)\n",
    "one_head\n",
    "np.bincount(one_head)[1]\n",
    "(one_head == True).sum()\n",
    "np.count_nonzero(one_head == True)\n",
    "#len(test_sums == 1)\n",
    "p_one_head=np.bincount(one_head)[1]/(np.bincount(one_head)[0]+np.bincount(one_head)[1])\n",
    "p_one_head\n"
   ]
  },
  {
   "cell_type": "markdown",
   "metadata": {},
   "source": [
    "### Mathematics verification - Binomial Distribution"
   ]
  },
  {
   "cell_type": "code",
   "execution_count": 86,
   "metadata": {},
   "outputs": [
    {
     "data": {
      "text/plain": [
       "0.375"
      ]
     },
     "execution_count": 86,
     "metadata": {},
     "output_type": "execute_result"
    },
    {
     "data": {
      "text/plain": [
       "0.375"
      ]
     },
     "execution_count": 86,
     "metadata": {},
     "output_type": "execute_result"
    }
   ],
   "source": [
    "import math\n",
    "p_h = 0.5\n",
    "p_t = p_h\n",
    "n_flips = 3\n",
    "k_heads = 1\n",
    "\n",
    "def binomial_distribution(p, n, k):\n",
    "    return math.factorial(n) / ( math.factorial(n - k) * math.factorial(k)) * p**k * (1-p)**(n-k)\n",
    "\n",
    "p_one_head = math.factorial(n_flips) / ( math.factorial(n_flips - k_heads) * math.factorial(k_heads)) * p_h**k_heads * (1-p_h)**(n_flips-k_heads)\n",
    "p_one_head\n",
    "binomial_distribution(p_h, n_flips,  k_heads)"
   ]
  },
  {
   "cell_type": "markdown",
   "metadata": {},
   "source": [
    "## Three biased coin flips with P(H) = 0.6 produce exactly one head"
   ]
  },
  {
   "cell_type": "code",
   "execution_count": 28,
   "metadata": {},
   "outputs": [
    {
     "data": {
      "text/plain": [
       "array([[1, 0, 0],\n",
       "       [0, 1, 0],\n",
       "       [1, 1, 0],\n",
       "       ...,\n",
       "       [1, 1, 0],\n",
       "       [0, 0, 1],\n",
       "       [1, 1, 0]])"
      ]
     },
     "execution_count": 28,
     "metadata": {},
     "output_type": "execute_result"
    },
    {
     "data": {
      "text/plain": [
       "array([1, 1, 2, ..., 2, 1, 2])"
      ]
     },
     "execution_count": 28,
     "metadata": {},
     "output_type": "execute_result"
    },
    {
     "data": {
      "text/plain": [
       "0.287802"
      ]
     },
     "execution_count": 28,
     "metadata": {},
     "output_type": "execute_result"
    }
   ],
   "source": [
    "# simulate 1 million tests of three biased coin flips\n",
    "# hint: use np.random.choice()\n",
    "tests = np.random.choice(a=2, size=(int(1e6), 3), p=[0.4, 0.6])\n",
    "tests\n",
    "# sums of all tests\n",
    "test_sums = tests.sum(axis=1)\n",
    "test_sums\n",
    "# proportion of tests that produced exactly one head\n",
    "one_head = (test_sums == 1)\n",
    "p_one_head=np.bincount(one_head)[1]/(np.bincount(one_head)[0]+np.bincount(one_head)[1])\n",
    "p_one_head"
   ]
  },
  {
   "cell_type": "markdown",
   "metadata": {},
   "source": [
    "### Mathematics verification"
   ]
  },
  {
   "cell_type": "code",
   "execution_count": 87,
   "metadata": {},
   "outputs": [
    {
     "data": {
      "text/plain": [
       "0.28800000000000003"
      ]
     },
     "execution_count": 87,
     "metadata": {},
     "output_type": "execute_result"
    }
   ],
   "source": [
    "binomial_distribution(0.6, 3, 1)"
   ]
  },
  {
   "cell_type": "markdown",
   "metadata": {},
   "source": [
    "## 4. A die rolls an even number"
   ]
  },
  {
   "cell_type": "code",
   "execution_count": 75,
   "metadata": {},
   "outputs": [
    {
     "data": {
      "text/plain": [
       "array([[2],\n",
       "       [4],\n",
       "       [5],\n",
       "       ...,\n",
       "       [5],\n",
       "       [4],\n",
       "       [1]])"
      ]
     },
     "execution_count": 75,
     "metadata": {},
     "output_type": "execute_result"
    },
    {
     "data": {
      "text/plain": [
       "1"
      ]
     },
     "execution_count": 75,
     "metadata": {},
     "output_type": "execute_result"
    },
    {
     "data": {
      "text/plain": [
       "6"
      ]
     },
     "execution_count": 75,
     "metadata": {},
     "output_type": "execute_result"
    },
    {
     "data": {
      "text/plain": [
       "3.497716"
      ]
     },
     "execution_count": 75,
     "metadata": {},
     "output_type": "execute_result"
    },
    {
     "data": {
      "text/plain": [
       "array([0, 0, 1, ..., 1, 0, 1])"
      ]
     },
     "execution_count": 75,
     "metadata": {},
     "output_type": "execute_result"
    },
    {
     "data": {
      "text/plain": [
       "array([499048, 500952])"
      ]
     },
     "execution_count": 75,
     "metadata": {},
     "output_type": "execute_result"
    },
    {
     "data": {
      "text/plain": [
       "499048"
      ]
     },
     "execution_count": 75,
     "metadata": {},
     "output_type": "execute_result"
    },
    {
     "data": {
      "text/plain": [
       "500952"
      ]
     },
     "execution_count": 75,
     "metadata": {},
     "output_type": "execute_result"
    },
    {
     "data": {
      "text/plain": [
       "0.500952"
      ]
     },
     "execution_count": 75,
     "metadata": {},
     "output_type": "execute_result"
    }
   ],
   "source": [
    "# simulate 1 million tests of one die roll\n",
    "#tests = np.random.choice(6, size=(int(1e6),1), p=[0.5, 0.1, 0.1, 0.1, 0.1, 0.1])+1\n",
    "tests = np.random.randint(6, size=(int(1e6),1))+1\n",
    "tests\n",
    "tests.min()\n",
    "tests.max()\n",
    "tests.mean()\n",
    "# proportion of tests that produced an even (pair) number\n",
    "odd = ( tests & 0x1)\n",
    "odd = odd.flatten()\n",
    "odd\n",
    "even_odd = np.bincount(odd)\n",
    "even_odd\n",
    "odd_number = even_odd[0]\n",
    "odd_number\n",
    "even_number = even_odd[1]\n",
    "even_number\n",
    "p_even = even_number / (even_number + odd_number)\n",
    "p_even"
   ]
  },
  {
   "cell_type": "markdown",
   "metadata": {},
   "source": [
    "### Mathematics verification"
   ]
  },
  {
   "cell_type": "code",
   "execution_count": 88,
   "metadata": {},
   "outputs": [
    {
     "data": {
      "text/plain": [
       "0.5"
      ]
     },
     "execution_count": 88,
     "metadata": {},
     "output_type": "execute_result"
    }
   ],
   "source": [
    "# 1 , 2, 3, 4, 5, 6\n",
    "p_even = 3/6\n",
    "p_even"
   ]
  },
  {
   "cell_type": "markdown",
   "metadata": {},
   "source": [
    "## 5. Two dice roll a double"
   ]
  },
  {
   "cell_type": "code",
   "execution_count": 81,
   "metadata": {},
   "outputs": [
    {
     "data": {
      "text/plain": [
       "array([833786, 166214])"
      ]
     },
     "execution_count": 81,
     "metadata": {},
     "output_type": "execute_result"
    },
    {
     "data": {
      "text/plain": [
       "0.166214"
      ]
     },
     "execution_count": 81,
     "metadata": {},
     "output_type": "execute_result"
    }
   ],
   "source": [
    "# simulate the first million die rolls\n",
    "first = np.random.randint(6, size=(int(1e6),1))+1\n",
    "\n",
    "# simulate the second million die rolls\n",
    "second = np.random.randint(6, size=(int(1e6),1))+1\n",
    "\n",
    "# proportion of tests where the 1st and 2nd die rolled the same number\n",
    "tests = (first == second).flatten()\n",
    "np.bincount(tests)\n",
    "p_same = np.bincount(tests)[1] / (np.bincount(tests)[1] + np.bincount(tests)[0])\n",
    "p_same"
   ]
  },
  {
   "cell_type": "code",
   "execution_count": 80,
   "metadata": {},
   "outputs": [
    {
     "data": {
      "text/plain": [
       "array([2, 1])"
      ]
     },
     "execution_count": 80,
     "metadata": {},
     "output_type": "execute_result"
    },
    {
     "data": {
      "text/plain": [
       "array([2, 1])"
      ]
     },
     "execution_count": 80,
     "metadata": {},
     "output_type": "execute_result"
    },
    {
     "data": {
      "text/plain": [
       "array([1, 2])"
      ]
     },
     "execution_count": 80,
     "metadata": {},
     "output_type": "execute_result"
    }
   ],
   "source": [
    "np.bincount([True, False, False])\n",
    "np.bincount([False, True, False])\n",
    "np.bincount([True, True, False])"
   ]
  },
  {
   "cell_type": "markdown",
   "metadata": {},
   "source": [
    "### Mathematics verification"
   ]
  },
  {
   "cell_type": "code",
   "execution_count": 92,
   "metadata": {},
   "outputs": [
    {
     "data": {
      "text/plain": [
       "0.16666666666666666"
      ]
     },
     "execution_count": 92,
     "metadata": {},
     "output_type": "execute_result"
    }
   ],
   "source": [
    "# It's the probability to roll a given number (the number of the first roll)\n",
    "p_same = 1/6\n",
    "p_same"
   ]
  },
  {
   "cell_type": "markdown",
   "metadata": {},
   "source": [
    "# Simulating Many Coin Flips"
   ]
  },
  {
   "cell_type": "code",
   "execution_count": 94,
   "metadata": {},
   "outputs": [
    {
     "data": {
      "text/plain": [
       "5"
      ]
     },
     "execution_count": 94,
     "metadata": {},
     "output_type": "execute_result"
    }
   ],
   "source": [
    "# number of heads from 10 fair coin flips\n",
    "np.random.binomial(10, 0.5)"
   ]
  },
  {
   "cell_type": "code",
   "execution_count": 95,
   "metadata": {},
   "outputs": [
    {
     "data": {
      "text/plain": [
       "array([5, 5, 4, 3, 3, 4, 5, 2, 7, 4, 5, 5, 5, 7, 8, 6, 6, 7, 2, 5])"
      ]
     },
     "execution_count": 95,
     "metadata": {},
     "output_type": "execute_result"
    }
   ],
   "source": [
    "# results from 20 tests with 10 coin flips\n",
    "np.random.binomial(10, 0.5, 20)"
   ]
  },
  {
   "cell_type": "code",
   "execution_count": 103,
   "metadata": {},
   "outputs": [
    {
     "data": {
      "text/plain": [
       "5.05"
      ]
     },
     "execution_count": 103,
     "metadata": {},
     "output_type": "execute_result"
    }
   ],
   "source": [
    "# mean number of heads from the 20 tests\n",
    "np.random.binomial(10, 0.5, 20).mean()"
   ]
  },
  {
   "cell_type": "code",
   "execution_count": 105,
   "metadata": {},
   "outputs": [
    {
     "data": {
      "text/plain": [
       "2.497954"
      ]
     },
     "execution_count": 105,
     "metadata": {},
     "output_type": "execute_result"
    }
   ],
   "source": [
    "# reflects the fairness of the coin more closely as # tests increases\n",
    "np.random.binomial(10, 0.5, 1000000).mean()"
   ]
  },
  {
   "cell_type": "code",
   "execution_count": 101,
   "metadata": {},
   "outputs": [
    {
     "data": {
      "image/png": "[encoded data removed]",
      "text/plain": [
       "<Figure size 432x288 with 1 Axes>"
      ]
     },
     "metadata": {
      "needs_background": "light"
     },
     "output_type": "display_data"
    }
   ],
   "source": [
    "import matplotlib.pyplot as plt\n",
    "%matplotlib inline\n",
    "plt.hist(np.random.binomial(10, 0.5, 1000000));"
   ]
  },
  {
   "cell_type": "code",
   "execution_count": 109,
   "metadata": {},
   "outputs": [
    {
     "data": {
      "image/png": "[encoded data removed]",
      "text/plain": [
       "<Figure size 432x288 with 1 Axes>"
      ]
     },
     "metadata": {
      "needs_background": "light"
     },
     "output_type": "display_data"
    }
   ],
   "source": [
    "# gets more narrow as number of flips increase per test\n",
    "plt.hist(np.random.binomial(100, 0.5, 1000000));"
   ]
  },
  {
   "cell_type": "markdown",
   "metadata": {},
   "source": [
    "# Binomial Distributions"
   ]
  },
  {
   "cell_type": "code",
   "execution_count": 110,
   "metadata": {},
   "outputs": [
    {
     "data": {
      "text/plain": [
       "0.500219"
      ]
     },
     "execution_count": 110,
     "metadata": {},
     "output_type": "execute_result"
    }
   ],
   "source": [
    "# simulate 1 million tests of one fair coin flip\n",
    "# remember, the output of these tests are the # successes, or # heads\n",
    "tests = np.random.binomial(1, 0.5, int(1e6))\n",
    "\n",
    "# proportion of tests that produced heads\n",
    "(tests == 1).mean()"
   ]
  },
  {
   "cell_type": "code",
   "execution_count": 118,
   "metadata": {},
   "outputs": [
    {
     "data": {
      "text/plain": [
       "0.5"
      ]
     },
     "execution_count": 118,
     "metadata": {},
     "output_type": "execute_result"
    }
   ],
   "source": [
    "p_h=1/2\n",
    "p_h"
   ]
  },
  {
   "cell_type": "code",
   "execution_count": 112,
   "metadata": {},
   "outputs": [
    {
     "data": {
      "text/plain": [
       "array([2, 3, 1, ..., 2, 1, 2])"
      ]
     },
     "execution_count": 112,
     "metadata": {},
     "output_type": "execute_result"
    },
    {
     "data": {
      "text/plain": [
       "0.156102"
      ]
     },
     "execution_count": 112,
     "metadata": {},
     "output_type": "execute_result"
    }
   ],
   "source": [
    "# simulate 1 million tests of five fair coin flips\n",
    "tests = np.random.binomial(5, 0.5, int(1e6))\n",
    "tests\n",
    "# proportion of tests that produced 1 head\n",
    "(tests == 1).mean()"
   ]
  },
  {
   "cell_type": "code",
   "execution_count": 119,
   "metadata": {},
   "outputs": [
    {
     "data": {
      "text/plain": [
       "0.15625"
      ]
     },
     "execution_count": 119,
     "metadata": {},
     "output_type": "execute_result"
    }
   ],
   "source": [
    "binomial_distribution(0.5, 5, 1)"
   ]
  },
  {
   "cell_type": "code",
   "execution_count": 113,
   "metadata": {},
   "outputs": [
    {
     "data": {
      "text/plain": [
       "0.20489"
      ]
     },
     "execution_count": 113,
     "metadata": {},
     "output_type": "execute_result"
    }
   ],
   "source": [
    "# simulate 1 million tests of ten fair coin flips\n",
    "tests = np.random.binomial(10, 0.5, int(1e6))\n",
    "\n",
    "# proportion of tests that produced 4 heads\n",
    "(tests == 4).mean()"
   ]
  },
  {
   "cell_type": "code",
   "execution_count": 120,
   "metadata": {},
   "outputs": [
    {
     "data": {
      "text/plain": [
       "0.205078125"
      ]
     },
     "execution_count": 120,
     "metadata": {},
     "output_type": "execute_result"
    }
   ],
   "source": [
    "binomial_distribution(p=0.5, n=10, k=4)"
   ]
  },
  {
   "cell_type": "code",
   "execution_count": 117,
   "metadata": {},
   "outputs": [
    {
     "data": {
      "text/plain": [
       "0.32825"
      ]
     },
     "execution_count": 117,
     "metadata": {},
     "output_type": "execute_result"
    }
   ],
   "source": [
    "# simulate 1 million tests of five biased coin flips\n",
    "tests = np.random.binomial(5, 0.8, int(1e6))\n",
    "\n",
    "# proportion of tests that produced 5 heads\n",
    "(tests == 5).mean()"
   ]
  },
  {
   "cell_type": "code",
   "execution_count": 121,
   "metadata": {},
   "outputs": [
    {
     "data": {
      "text/plain": [
       "0.3276800000000001"
      ]
     },
     "execution_count": 121,
     "metadata": {},
     "output_type": "execute_result"
    }
   ],
   "source": [
    "binomial_distribution(0.8, 5, 5)"
   ]
  },
  {
   "cell_type": "code",
   "execution_count": 116,
   "metadata": {},
   "outputs": [
    {
     "data": {
      "text/plain": [
       "0.18038"
      ]
     },
     "execution_count": 116,
     "metadata": {},
     "output_type": "execute_result"
    }
   ],
   "source": [
    "# simulate 1 million tests of ten biased coin flips\n",
    "tests = np.random.binomial(10, 0.15, int(1e6))\n",
    "\n",
    "# proportion of tests that produced at least 3 heads\n",
    "(tests >= 3).mean()"
   ]
  },
  {
   "cell_type": "code",
   "execution_count": 128,
   "metadata": {},
   "outputs": [
    {
     "name": "stdout",
     "output_type": "stream",
     "text": [
      "Prob of  3 : 0.1298337207539062  Total : 0.1298337207539062\n",
      "Prob of  4 : 0.0400957078798828  Total : 0.16992942863378901\n",
      "Prob of  5 : 0.008490855786328123  Total : 0.17842028442011715\n",
      "Prob of  6 : 0.001248655262695312  Total : 0.17966893968281247\n",
      "Prob of  7 : 0.00012591481640624995  Total : 0.17979485449921873\n",
      "Prob of  8 : 8.332598144531246e-06  Total : 0.17980318709736326\n",
      "Prob of  9 : 3.267685546874999e-07  Total : 0.17980351386591795\n",
      "Prob of  10 : 5.7665039062499975e-09  Total : 0.17980351963242186\n"
     ]
    },
    {
     "data": {
      "text/plain": [
       "0.17980351963242186"
      ]
     },
     "execution_count": 128,
     "metadata": {},
     "output_type": "execute_result"
    }
   ],
   "source": [
    "p_h = 0\n",
    "for heads in range(3,10+1):\n",
    "    p_heads = binomial_distribution(0.15, 10, heads)\n",
    "    p_h += p_heads\n",
    "    print(\"Prob of \", heads, \":\", p_heads, \" Total :\", p_h)\n",
    "p_h"
   ]
  },
  {
   "cell_type": "markdown",
   "metadata": {},
   "source": [
    "# Cancer Test Results"
   ]
  },
  {
   "cell_type": "code",
   "execution_count": 151,
   "metadata": {},
   "outputs": [
    {
     "data": {
      "text/html": [
       "<div>\n",
       "<style scoped>\n",
       "    .dataframe tbody tr th:only-of-type {\n",
       "        vertical-align: middle;\n",
       "    }\n",
       "\n",
       "    .dataframe tbody tr th {\n",
       "        vertical-align: top;\n",
       "    }\n",
       "\n",
       "    .dataframe thead th {\n",
       "        text-align: right;\n",
       "    }\n",
       "</style>\n",
       "<table border=\"1\" class=\"dataframe\">\n",
       "  <thead>\n",
       "    <tr style=\"text-align: right;\">\n",
       "      <th></th>\n",
       "      <th>patient_id</th>\n",
       "      <th>test_result</th>\n",
       "      <th>has_cancer</th>\n",
       "    </tr>\n",
       "  </thead>\n",
       "  <tbody>\n",
       "    <tr>\n",
       "      <th>0</th>\n",
       "      <td>79452</td>\n",
       "      <td>Negative</td>\n",
       "      <td>False</td>\n",
       "    </tr>\n",
       "    <tr>\n",
       "      <th>1</th>\n",
       "      <td>81667</td>\n",
       "      <td>Positive</td>\n",
       "      <td>True</td>\n",
       "    </tr>\n",
       "    <tr>\n",
       "      <th>2</th>\n",
       "      <td>76297</td>\n",
       "      <td>Negative</td>\n",
       "      <td>False</td>\n",
       "    </tr>\n",
       "  </tbody>\n",
       "</table>\n",
       "</div>"
      ],
      "text/plain": [
       "   patient_id test_result  has_cancer\n",
       "0       79452    Negative       False\n",
       "1       81667    Positive        True\n",
       "2       76297    Negative       False"
      ]
     },
     "execution_count": 151,
     "metadata": {},
     "output_type": "execute_result"
    },
    {
     "name": "stdout",
     "output_type": "stream",
     "text": [
      "# number of patients 2914\n",
      "number of patients with cancer 306\n",
      "number of patients without cancer 2608\n",
      "proportion of patients with cancer 0.10501029512697323\n",
      "proportion of patients without cancer 0.8949897048730268\n",
      "proportion of patients with cancer who test positive 0.9052287581699346\n",
      "proportion of patients with cancer who test negative 0.09477124183006536\n",
      "proportion of patients without cancer who test positive 0.2036042944785276\n",
      "proportion of patients without cancer who test negative 0.7963957055214724\n"
     ]
    }
   ],
   "source": [
    "import pandas as pd\n",
    "# load dataset\n",
    "df = pd.read_csv(\"cancer_test_data.csv\")\n",
    "df.head(3)\n",
    "patients = len(df)\n",
    "print(\"# number of patients\",patients)\n",
    "\n",
    "with_cancer = len(df[(df['has_cancer'] == True)])\n",
    "print(\"number of patients with cancer\", with_cancer)\n",
    "no_cancer = len(df[(df['has_cancer'] == False)])\n",
    "print(\"number of patients without cancer\", no_cancer)\n",
    "print(\"proportion of patients with cancer\", with_cancer / patients)\n",
    "print(\"proportion of patients without cancer\", no_cancer / patients)\n",
    "pos_test_with_cancer = len(\n",
    "    df[(df['has_cancer'] == True)\n",
    "       & (df['test_result'] == 'Positive')]\n",
    "                  )\n",
    "print(\"proportion of patients with cancer who test positive\", pos_test_with_cancer / with_cancer)\n",
    "neg_test_with_cancer = len(    df[(df['has_cancer'] == True)   & (df['test_result'] == 'Negative')]         )\n",
    "print(\"proportion of patients with cancer who test negative\",neg_test_with_cancer / with_cancer)\n",
    "pos_test_no_cancer = len(    df[(df['has_cancer'] == False)   & (df['test_result'] == 'Positive')]         )\n",
    "print(\"proportion of patients without cancer who test positive\",pos_test_no_cancer / no_cancer)\n",
    "neg_test_no_cancer = len(    df[(df['has_cancer'] == False)   & (df['test_result'] == 'Negative')]         )\n",
    "print(\"proportion of patients without cancer who test negative\",neg_test_no_cancer / no_cancer)"
   ]
  },
  {
   "cell_type": "markdown",
   "metadata": {},
   "source": [
    "# Conditional Probability & Bayes Rule Quiz\n",
    "In the previous section, you found the following proportions from the cancer results dataset.\n",
    "\n",
    "    Patients with cancer: 0.105\n",
    "    Patients without cancer: 0.895\n",
    "    Patients with cancer who tested positive: 0.905\n",
    "    Patients with cancer who tested negative: 0.095\n",
    "    Patients without cancer who tested positive: 0.204\n",
    "    Patients without cancer who tested negative: 0.796\n",
    "\n",
    "    Based on the above proportions observed in the data, we can assume the following probabilities.\n",
    "    Probability \tMeaning\n",
    "    P(cancer) = 0.105 \tProbability a patient has cancer\n",
    "    P(~cancer) = 0.895 \tProbability a patient does not have cancer\n",
    "    P(positive|cancer) = 0.905 \tProbability a patient with cancer tests positive\n",
    "    P(negative|cancer) = 0.095 \tProbability a patient with cancer tests negative\n",
    "    P(positive|~cancer) = 0.204 \tProbability a patient without cancer tests positive\n",
    "    P(negative|~cancer) = 0.796 \tProbability a patient without cancer tests negative"
   ]
  },
  {
   "cell_type": "code",
   "execution_count": 160,
   "metadata": {},
   "outputs": [
    {
     "name": "stdout",
     "output_type": "stream",
     "text": [
      "Probability a patient who tested positive has cancer, or P(cancer|positive) 0.34230291241151994\n",
      "Probability a patient who tested positive doesn't have cancer, or P(~cancer|positive) 0.65769708758848\n",
      "Probability a patient who tested negative has cancer, or P(cancer|negative) 0.013808235106832134\n",
      "Probability a patient who tested negative doesn't have cancer, or P(~cancer|negative) 0.986191764893168\n"
     ]
    }
   ],
   "source": [
    "p_cancer = 0.105\n",
    "p_no_cancer = 0.895\n",
    "p_pos_when_cancer = 0.905\n",
    "p_pos_whithout_cancer = 0.204\n",
    "p_pos_and_no_cancer = p_pos_whithout_cancer * p_no_cancer\n",
    "p_cancer_and_pos = p_pos_when_cancer * p_cancer\n",
    "p_pos = p_cancer * p_pos_when_cancer + p_no_cancer * p_pos_whithout_cancer\n",
    "p_cancer_when_pos = p_cancer_and_pos / p_pos\n",
    "print(\"Probability a patient who tested positive has cancer, or P(cancer|positive)\", p_cancer_when_pos)\n",
    "p_no_cancer_when_pos = p_pos_and_no_cancer / p_pos\n",
    "print(\"Probability a patient who tested positive doesn't have cancer, or P(~cancer|positive)\", p_no_cancer_when_pos)\n",
    "\n",
    "p_neg_given_cancert = 0.095\n",
    "p_neg_given_no_cancert = 0.796\n",
    "p_neg = p_cancer * p_neg_given_cancert + p_no_cancer * p_neg_given_no_cancert\n",
    "p_neg_and_cancer = p_cancer * p_neg_given_cancert\n",
    "p_cancer_when_neg = p_neg_and_cancer / p_neg\n",
    "print(\"Probability a patient who tested negative has cancer, or P(cancer|negative)\", p_cancer_when_neg)\n",
    "p_neg_and_no_cancer = p_neg_given_no_cancert * p_no_cancer\n",
    "p_no_cancer_when_neg = p_neg_and_no_cancer / p_neg\n",
    "print(\"Probability a patient who tested negative doesn't have cancer, or P(~cancer|negative)\", p_no_cancer_when_neg)\n"
   ]
  },
  {
   "cell_type": "markdown",
   "metadata": {},
   "source": [
    "## Or more simple"
   ]
  },
  {
   "cell_type": "code",
   "execution_count": 159,
   "metadata": {},
   "outputs": [
    {
     "data": {
      "text/plain": [
       "0.013770180436847104"
      ]
     },
     "execution_count": 159,
     "metadata": {},
     "output_type": "execute_result"
    }
   ],
   "source": [
    "df.query('test_result == \"Negative\"')['has_cancer'].mean()"
   ]
  },
  {
   "cell_type": "markdown",
   "metadata": {},
   "source": [
    "# Normal Distribution"
   ]
  },
  {
   "cell_type": "code",
   "execution_count": null,
   "metadata": {},
   "outputs": [],
   "source": []
  },
  {
   "cell_type": "markdown",
   "metadata": {},
   "source": [
    "# Sampling Distribution"
   ]
  },
  {
   "cell_type": "code",
   "execution_count": 192,
   "metadata": {},
   "outputs": [
    {
     "name": "stdout",
     "output_type": "stream",
     "text": [
      "Find the proportion of students who drink coffee in the above array. Store this value in a variable p.\n"
     ]
    },
    {
     "data": {
      "text/plain": [
       "0.7142857142857143"
      ]
     },
     "execution_count": 192,
     "metadata": {},
     "output_type": "execute_result"
    },
    {
     "name": "stdout",
     "output_type": "stream",
     "text": [
      "Use numpy's random.choice to simulate 5 draws from the students array. What is proportion of your sample drink coffee?\n"
     ]
    },
    {
     "data": {
      "text/plain": [
       "0.4"
      ]
     },
     "execution_count": 192,
     "metadata": {},
     "output_type": "execute_result"
    },
    {
     "name": "stdout",
     "output_type": "stream",
     "text": [
      "Repeat the above to obtain 10,000 additional proportions, where each sample was of size 5. Store these in a variable called sample_props.\n"
     ]
    },
    {
     "data": {
      "text/plain": [
       "array([[0, 0, 1, 1, 1],\n",
       "       [0, 1, 0, 1, 0],\n",
       "       [0, 1, 1, 0, 0],\n",
       "       ...,\n",
       "       [0, 1, 1, 1, 0],\n",
       "       [1, 0, 1, 1, 0],\n",
       "       [1, 1, 1, 1, 1]])"
      ]
     },
     "execution_count": 192,
     "metadata": {},
     "output_type": "execute_result"
    },
    {
     "name": "stdout",
     "output_type": "stream",
     "text": [
      "What is the mean proportion of all 10,000 of these proportions? This is often called the mean of the sampling distribution.\n"
     ]
    },
    {
     "data": {
      "text/plain": [
       "0.714"
      ]
     },
     "execution_count": 192,
     "metadata": {},
     "output_type": "execute_result"
    },
    {
     "name": "stdout",
     "output_type": "stream",
     "text": [
      "What are the variance and standard deviation for the original 21 data values?\n"
     ]
    },
    {
     "data": {
      "text/plain": [
       "0.7142857142857143"
      ]
     },
     "execution_count": 192,
     "metadata": {},
     "output_type": "execute_result"
    },
    {
     "data": {
      "text/plain": [
       "0.20408163265306126"
      ]
     },
     "execution_count": 192,
     "metadata": {},
     "output_type": "execute_result"
    },
    {
     "data": {
      "text/plain": [
       "0.45175395145262565"
      ]
     },
     "execution_count": 192,
     "metadata": {},
     "output_type": "execute_result"
    },
    {
     "name": "stdout",
     "output_type": "stream",
     "text": [
      "What are the variance and standard deviation for the 10,000 proportions you created?\n"
     ]
    },
    {
     "data": {
      "text/plain": [
       "0.714"
      ]
     },
     "execution_count": 192,
     "metadata": {},
     "output_type": "execute_result"
    },
    {
     "data": {
      "text/plain": [
       "0.20420400000000002"
      ]
     },
     "execution_count": 192,
     "metadata": {},
     "output_type": "execute_result"
    },
    {
     "data": {
      "text/plain": [
       "0.45188936699152377"
      ]
     },
     "execution_count": 192,
     "metadata": {},
     "output_type": "execute_result"
    },
    {
     "name": "stdout",
     "output_type": "stream",
     "text": [
      "7.Compute p(1-p), which of your answers does this most closely match?\n"
     ]
    },
    {
     "data": {
      "text/plain": [
       "0.2857142857142857"
      ]
     },
     "execution_count": 192,
     "metadata": {},
     "output_type": "execute_result"
    },
    {
     "name": "stdout",
     "output_type": "stream",
     "text": [
      "8. Compute p(1-p)/n, which of your answers does this most closely match?\n",
      "9. Notice that your answer to 8. is commonly called the variance of the sampling distribution. If you were to change your first sample to be 20, what would this do for the variance of the sampling distribution? Simulate and calculate the new answers in 6. and 8. to check that the consistency you found before still holds.\n",
      "10. Finally, plot a histgram of the 10,000 draws from both the proportions with a sample size of 5 and the proportions with a sample size of 20. Each of these distributions is a sampling distribution. One is for the proportions of sample size 5 and the other a sampling distribution for proportions with sample size 20.\n",
      "\n",
      "\n",
      "\n",
      "\n",
      "\n",
      "\n"
     ]
    }
   ],
   "source": [
    "import numpy as np\n",
    "np.random.seed(42)\n",
    "\n",
    "students = np.array([1,0,1,1,1,1,0,0,0,0,1,1,1,1,1,1,1,1,1,1,0])\n",
    "print(\"Find the proportion of students who drink coffee in the above array. Store this value in a variable p.\")\n",
    "p = (students == 1).sum() / students.shape[0]\n",
    "p\n",
    "print(\"Use numpy's random.choice to simulate 5 draws from the students array. What is proportion of your sample drink coffee?\")\n",
    "indexes = np.random.choice(students, size=5)\n",
    "sample = students[indexes]\n",
    "p_sample = (sample == 1).sum() / sample.shape[0]\n",
    "p_sample\n",
    "print(\"Repeat the above to obtain 10,000 additional proportions, where each sample was of size 5. Store these in a variable called sample_props.\")\n",
    "sample_props = np.random.choice(students, size=(10000,5))\n",
    "sample_props\n",
    "print(\"What is the mean proportion of all 10,000 of these proportions? This is often called the mean of the sampling distribution.\")\n",
    "sample_props.mean()\n",
    "print(\"What are the variance and standard deviation for the original 21 data values?\")\n",
    "students.mean()\n",
    "students.var()\n",
    "students.std()\n",
    "print(\"What are the variance and standard deviation for the 10,000 proportions you created?\")\n",
    "sample_props.mean()\n",
    "sample_props.var()\n",
    "sample_props.std()\n",
    "print(\"7.Compute p(1-p), which of your answers does this most closely match?\")\n",
    "1-p\n",
    "\n",
    "\n",
    "print(\"8. Compute p(1-p)/n, which of your answers does this most closely match?\")\n",
    "\n",
    "print(\"9. Notice that your answer to 8. is commonly called the variance of the sampling distribution. If you were to change your first sample to be 20, what would this do for the variance of the sampling distribution? Simulate and calculate the new answers in 6. and 8. to check that the consistency you found before still holds.\")\n",
    "\n",
    "\n",
    "print(\"10. Finally, plot a histgram of the 10,000 draws from both the proportions with a sample size of 5 and the proportions with a sample size of 20. Each of these distributions is a sampling distribution. One is for the proportions of sample size 5 and the other a sampling distribution for proportions with sample size 20.\")\n",
    "print(\"\")\n",
    "print(\"\")\n",
    "print(\"\")\n",
    "print(\"\")\n",
    "print(\"\")\n",
    "print(\"\")"
   ]
  },
  {
   "cell_type": "code",
   "execution_count": 181,
   "metadata": {},
   "outputs": [
    {
     "data": {
      "text/plain": [
       "0.6"
      ]
     },
     "execution_count": 181,
     "metadata": {},
     "output_type": "execute_result"
    }
   ],
   "source": [
    "print(\"\")"
   ]
  },
  {
   "cell_type": "code",
   "execution_count": 171,
   "metadata": {},
   "outputs": [
    {
     "data": {
      "text/plain": [
       "21"
      ]
     },
     "execution_count": 171,
     "metadata": {},
     "output_type": "execute_result"
    }
   ],
   "source": [
    "print(\"\")"
   ]
  },
  {
   "cell_type": "code",
   "execution_count": null,
   "metadata": {},
   "outputs": [],
   "source": [
    "print(\"\")"
   ]
  }
 ],
 "metadata": {
  "kernelspec": {
   "display_name": "Python 3",
   "language": "python",
   "name": "python3"
  },
  "language_info": {
   "codemirror_mode": {
    "name": "ipython",
    "version": 3
   },
   "file_extension": ".py",
   "mimetype": "text/x-python",
   "name": "python",
   "nbconvert_exporter": "python",
   "pygments_lexer": "ipython3",
   "version": "3.7.1"
  }
 },
 "nbformat": 4,
 "nbformat_minor": 2
}
